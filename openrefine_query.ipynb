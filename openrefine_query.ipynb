{
 "metadata": {
  "language_info": {
   "codemirror_mode": {
    "name": "ipython",
    "version": 3
   },
   "file_extension": ".py",
   "mimetype": "text/x-python",
   "name": "python",
   "nbconvert_exporter": "python",
   "pygments_lexer": "ipython3",
   "version": "3.7.6-final"
  },
  "orig_nbformat": 2,
  "kernelspec": {
   "name": "python3",
   "display_name": "Python 3",
   "language": "python"
  }
 },
 "nbformat": 4,
 "nbformat_minor": 2,
 "cells": [
  {
   "cell_type": "code",
   "execution_count": 246,
   "metadata": {},
   "outputs": [],
   "source": [
    "import networkx as nx\n",
    "import sqlite3\n",
    "import pandas as pd\n",
    "import numpy as np"
   ]
  },
  {
   "cell_type": "code",
   "execution_count": 2,
   "metadata": {},
   "outputs": [],
   "source": [
    "conn = sqlite3.connect(\"airbnb_dirty-csv.openrefine-2.db\")\n",
    "\n",
    "cursor = conn.cursor()"
   ]
  },
  {
   "cell_type": "code",
   "execution_count": 123,
   "metadata": {},
   "outputs": [],
   "source": [
    "cc_ids = list(cursor.execute(\"SELECT * from col_dependency a,state_command b where (a.state_id=b.state_id) and b.command<>'com.google.refine.model.changes.ColumnMoveChange'\"))"
   ]
  },
  {
   "cell_type": "code",
   "execution_count": 124,
   "metadata": {},
   "outputs": [],
   "source": [
    "def clean_dot(x):\n",
    "    if x==-1:\n",
    "        return \"start\"  \n",
    "    elif x==-2:\n",
    "        return \"removed\"\n",
    "    else:\n",
    "        return x"
   ]
  },
  {
   "cell_type": "code",
   "execution_count": 125,
   "metadata": {},
   "outputs": [
    {
     "output_type": "execute_result",
     "data": {
      "text/plain": [
       "[(0,\n",
       "  26,\n",
       "  8,\n",
       "  0,\n",
       "  '1611854777058',\n",
       "  'com.google.refine.model.changes.ColumnAdditionChange'),\n",
       " (0,\n",
       "  26,\n",
       "  17,\n",
       "  0,\n",
       "  '1611854777058',\n",
       "  'com.google.refine.model.changes.ColumnAdditionChange'),\n",
       " (4, 3, 3, 4, '1594503237787', 'com.google.refine.model.changes.CellChange'),\n",
       " (8, 19, 19, 8, '1594402057321', 'com.google.refine.model.changes.CellChange'),\n",
       " (9,\n",
       "  19,\n",
       "  19,\n",
       "  9,\n",
       "  '1594399699296',\n",
       "  'com.google.refine.model.changes.ColumnRenameChange'),\n",
       " (10,\n",
       "  18,\n",
       "  18,\n",
       "  10,\n",
       "  '1592858364580',\n",
       "  'com.google.refine.model.changes.MassCellChange'),\n",
       " (11,\n",
       "  17,\n",
       "  17,\n",
       "  11,\n",
       "  '1592858296716',\n",
       "  'com.google.refine.model.changes.MassCellChange'),\n",
       " (12,\n",
       "  17,\n",
       "  17,\n",
       "  12,\n",
       "  '1592858935386',\n",
       "  'com.google.refine.model.changes.MassCellChange'),\n",
       " (13,\n",
       "  16,\n",
       "  16,\n",
       "  13,\n",
       "  '1592858873750',\n",
       "  'com.google.refine.model.changes.MassCellChange'),\n",
       " (14,\n",
       "  16,\n",
       "  16,\n",
       "  14,\n",
       "  '1592858402868',\n",
       "  'com.google.refine.model.changes.MassCellChange'),\n",
       " (15,\n",
       "  20,\n",
       "  20,\n",
       "  15,\n",
       "  '1592858307065',\n",
       "  'com.google.refine.model.changes.MassCellChange'),\n",
       " (16,\n",
       "  20,\n",
       "  20,\n",
       "  16,\n",
       "  '1592858534584',\n",
       "  'com.google.refine.model.changes.MassCellChange'),\n",
       " (17,\n",
       "  19,\n",
       "  19,\n",
       "  17,\n",
       "  '1592858547560',\n",
       "  'com.google.refine.model.changes.MassCellChange'),\n",
       " (18,\n",
       "  19,\n",
       "  19,\n",
       "  18,\n",
       "  '1592859058552',\n",
       "  'com.google.refine.model.changes.MassCellChange'),\n",
       " (19,\n",
       "  23,\n",
       "  23,\n",
       "  19,\n",
       "  '1592858805053',\n",
       "  'com.google.refine.model.changes.MassCellChange'),\n",
       " (20,\n",
       "  23,\n",
       "  23,\n",
       "  20,\n",
       "  '1592858343360',\n",
       "  'com.google.refine.model.changes.MassCellChange'),\n",
       " (21,\n",
       "  22,\n",
       "  22,\n",
       "  21,\n",
       "  '1592858239871',\n",
       "  'com.google.refine.model.changes.MassCellChange'),\n",
       " (22,\n",
       "  22,\n",
       "  22,\n",
       "  22,\n",
       "  '1592858735060',\n",
       "  'com.google.refine.model.changes.MassCellChange'),\n",
       " (23,\n",
       "  25,\n",
       "  10,\n",
       "  23,\n",
       "  '1592858364055',\n",
       "  'com.google.refine.model.changes.ColumnAdditionChange'),\n",
       " (24,\n",
       "  24,\n",
       "  9,\n",
       "  24,\n",
       "  '1592858112105',\n",
       "  'com.google.refine.model.changes.ColumnAdditionChange'),\n",
       " (25,\n",
       "  23,\n",
       "  23,\n",
       "  25,\n",
       "  '1592858762293',\n",
       "  'com.google.refine.model.changes.MassCellChange'),\n",
       " (26,\n",
       "  23,\n",
       "  22,\n",
       "  26,\n",
       "  '1592858214569',\n",
       "  'com.google.refine.model.changes.ColumnAdditionChange'),\n",
       " (27,\n",
       "  22,\n",
       "  22,\n",
       "  27,\n",
       "  '1592858716832',\n",
       "  'com.google.refine.model.changes.MassCellChange'),\n",
       " (28,\n",
       "  22,\n",
       "  1,\n",
       "  28,\n",
       "  '1592858196665',\n",
       "  'com.google.refine.model.changes.ColumnAdditionChange'),\n",
       " (29,\n",
       "  21,\n",
       "  12,\n",
       "  29,\n",
       "  '1592858935185',\n",
       "  'com.google.refine.model.changes.ColumnAdditionChange'),\n",
       " (30,\n",
       "  12,\n",
       "  12,\n",
       "  30,\n",
       "  '1592858244062',\n",
       "  'com.google.refine.model.changes.MassCellChange'),\n",
       " (31,\n",
       "  -2,\n",
       "  6,\n",
       "  31,\n",
       "  '1592858830881',\n",
       "  'com.google.refine.model.changes.ColumnRemovalChange'),\n",
       " (32,\n",
       "  19,\n",
       "  3,\n",
       "  32,\n",
       "  '1592858453819',\n",
       "  'com.google.refine.model.changes.ColumnSplitChange'),\n",
       " (32,\n",
       "  20,\n",
       "  3,\n",
       "  32,\n",
       "  '1592858453819',\n",
       "  'com.google.refine.model.changes.ColumnSplitChange'),\n",
       " (33,\n",
       "  18,\n",
       "  18,\n",
       "  33,\n",
       "  '1592858186193',\n",
       "  'com.google.refine.model.changes.MassCellChange'),\n",
       " (34,\n",
       "  18,\n",
       "  18,\n",
       "  34,\n",
       "  '1592859063901',\n",
       "  'com.google.refine.model.changes.MassCellChange'),\n",
       " (35,\n",
       "  18,\n",
       "  18,\n",
       "  35,\n",
       "  '1592858752384',\n",
       "  'com.google.refine.model.changes.MassCellChange'),\n",
       " (36,\n",
       "  18,\n",
       "  18,\n",
       "  36,\n",
       "  '1592858467311',\n",
       "  'com.google.refine.model.changes.MassCellChange'),\n",
       " (37,\n",
       "  18,\n",
       "  17,\n",
       "  37,\n",
       "  '1592858601042',\n",
       "  'com.google.refine.model.changes.ColumnAdditionChange'),\n",
       " (38,\n",
       "  17,\n",
       "  17,\n",
       "  38,\n",
       "  '1592858818119',\n",
       "  'com.google.refine.model.changes.MassCellChange'),\n",
       " (39,\n",
       "  17,\n",
       "  16,\n",
       "  39,\n",
       "  '1592858323227',\n",
       "  'com.google.refine.model.changes.ColumnAdditionChange'),\n",
       " (40,\n",
       "  16,\n",
       "  16,\n",
       "  40,\n",
       "  '1592858779121',\n",
       "  'com.google.refine.model.changes.MassCellChange'),\n",
       " (41,\n",
       "  16,\n",
       "  5,\n",
       "  41,\n",
       "  '1592858312577',\n",
       "  'com.google.refine.model.changes.ColumnAdditionChange'),\n",
       " (42,\n",
       "  15,\n",
       "  15,\n",
       "  42,\n",
       "  '1592858647376',\n",
       "  'com.google.refine.model.changes.MassCellChange'),\n",
       " (43,\n",
       "  14,\n",
       "  14,\n",
       "  43,\n",
       "  '1592858128492',\n",
       "  'com.google.refine.model.changes.MassCellChange'),\n",
       " (44,\n",
       "  13,\n",
       "  13,\n",
       "  44,\n",
       "  '1592858546841',\n",
       "  'com.google.refine.model.changes.MassCellChange'),\n",
       " (45,\n",
       "  11,\n",
       "  11,\n",
       "  45,\n",
       "  '1592858867696',\n",
       "  'com.google.refine.model.changes.MassCellChange'),\n",
       " (46,\n",
       "  10,\n",
       "  10,\n",
       "  46,\n",
       "  '1592859085691',\n",
       "  'com.google.refine.model.changes.MassCellChange'),\n",
       " (47,\n",
       "  9,\n",
       "  9,\n",
       "  47,\n",
       "  '1592858505219',\n",
       "  'com.google.refine.model.changes.MassCellChange'),\n",
       " (48,\n",
       "  7,\n",
       "  7,\n",
       "  48,\n",
       "  '1592858188698',\n",
       "  'com.google.refine.model.changes.MassCellChange'),\n",
       " (49,\n",
       "  6,\n",
       "  6,\n",
       "  49,\n",
       "  '1592858643660',\n",
       "  'com.google.refine.model.changes.MassCellChange'),\n",
       " (50,\n",
       "  2,\n",
       "  2,\n",
       "  50,\n",
       "  '1592858163854',\n",
       "  'com.google.refine.model.changes.MassCellChange'),\n",
       " (51,\n",
       "  8,\n",
       "  8,\n",
       "  51,\n",
       "  '1592858122612',\n",
       "  'com.google.refine.model.changes.MassCellChange'),\n",
       " (52,\n",
       "  8,\n",
       "  8,\n",
       "  52,\n",
       "  '1592858254564',\n",
       "  'com.google.refine.model.changes.MassCellChange'),\n",
       " (53,\n",
       "  5,\n",
       "  5,\n",
       "  53,\n",
       "  '1592858570985',\n",
       "  'com.google.refine.model.changes.MassCellChange'),\n",
       " (54,\n",
       "  5,\n",
       "  5,\n",
       "  54,\n",
       "  '1592858393374',\n",
       "  'com.google.refine.model.changes.MassCellChange'),\n",
       " (55,\n",
       "  3,\n",
       "  3,\n",
       "  55,\n",
       "  '1592858560320',\n",
       "  'com.google.refine.model.changes.MassCellChange'),\n",
       " (56,\n",
       "  3,\n",
       "  3,\n",
       "  56,\n",
       "  '1592858867276',\n",
       "  'com.google.refine.model.changes.MassCellChange'),\n",
       " (57,\n",
       "  1,\n",
       "  1,\n",
       "  57,\n",
       "  '1592858306003',\n",
       "  'com.google.refine.model.changes.MassCellChange'),\n",
       " (58,\n",
       "  1,\n",
       "  1,\n",
       "  58,\n",
       "  '1592858516029',\n",
       "  'com.google.refine.model.changes.MassCellChange'),\n",
       " (-1, 0, -1, -1, None, 'start'),\n",
       " (-1, 1, -1, -1, None, 'start'),\n",
       " (-1, 2, -1, -1, None, 'start'),\n",
       " (-1, 3, -1, -1, None, 'start'),\n",
       " (-1, 4, -1, -1, None, 'start'),\n",
       " (-1, 5, -1, -1, None, 'start'),\n",
       " (-1, 6, -1, -1, None, 'start'),\n",
       " (-1, 7, -1, -1, None, 'start'),\n",
       " (-1, 8, -1, -1, None, 'start'),\n",
       " (-1, 9, -1, -1, None, 'start'),\n",
       " (-1, 10, -1, -1, None, 'start'),\n",
       " (-1, 11, -1, -1, None, 'start'),\n",
       " (-1, 12, -1, -1, None, 'start'),\n",
       " (-1, 13, -1, -1, None, 'start'),\n",
       " (-1, 14, -1, -1, None, 'start'),\n",
       " (-1, 15, -1, -1, None, 'start')]"
      ]
     },
     "metadata": {},
     "execution_count": 125
    }
   ],
   "source": [
    "cc_ids"
   ]
  },
  {
   "cell_type": "code",
   "execution_count": 126,
   "metadata": {},
   "outputs": [],
   "source": [
    "col_graph = nx.MultiDiGraph()\n",
    "for x in cc_ids:\n",
    "    col_graph.add_edge(clean_dot(x[2]),clean_dot(x[1]),state=x[0])"
   ]
  },
  {
   "cell_type": "code",
   "execution_count": 127,
   "metadata": {},
   "outputs": [
    {
     "output_type": "stream",
     "name": "stdout",
     "text": [
      "/opt/anaconda3/bin/python\n"
     ]
    }
   ],
   "source": [
    "!which python"
   ]
  },
  {
   "cell_type": "code",
   "execution_count": 128,
   "metadata": {},
   "outputs": [],
   "source": [
    "from matplotlib import pyplot as plt"
   ]
  },
  {
   "cell_type": "code",
   "execution_count": 129,
   "metadata": {},
   "outputs": [
    {
     "output_type": "execute_result",
     "data": {
      "text/plain": [
       "OutMultiEdgeDataView([(8, 26), (8, 8), (8, 8), (17, 26), (17, 17), (17, 17), (17, 17), (17, 18), (3, 3), (3, 3), (3, 3), (3, 19), (3, 20), (19, 19), (19, 19), (19, 19), (19, 19), (18, 18), (18, 18), (18, 18), (18, 18), (18, 18), (16, 16), (16, 16), (16, 16), (16, 17), (20, 20), (20, 20), (23, 23), (23, 23), (23, 23), (22, 22), (22, 22), (22, 22), (22, 23), (10, 25), (10, 10), (9, 24), (9, 9), (1, 22), (1, 1), (1, 1), (12, 21), (12, 12), (6, 'removed'), (6, 6), (5, 16), (5, 5), (5, 5), (15, 15), (14, 14), (13, 13), (11, 11), (7, 7), (2, 2), ('start', 0), ('start', 1), ('start', 2), ('start', 3), ('start', 4), ('start', 5), ('start', 6), ('start', 7), ('start', 8), ('start', 9), ('start', 10), ('start', 11), ('start', 12), ('start', 13), ('start', 14), ('start', 15)])"
      ]
     },
     "metadata": {},
     "execution_count": 129
    }
   ],
   "source": [
    "col_graph.edges()"
   ]
  },
  {
   "cell_type": "code",
   "execution_count": 130,
   "metadata": {},
   "outputs": [
    {
     "output_type": "execute_result",
     "data": {
      "text/plain": [
       "{(8, 26, 0): 0,\n",
       " (8, 8, 0): 51,\n",
       " (8, 8, 1): 52,\n",
       " (17, 26, 0): 0,\n",
       " (17, 17, 0): 11,\n",
       " (17, 17, 1): 12,\n",
       " (17, 17, 2): 38,\n",
       " (17, 18, 0): 37,\n",
       " (3, 3, 0): 4,\n",
       " (3, 3, 1): 55,\n",
       " (3, 3, 2): 56,\n",
       " (3, 19, 0): 32,\n",
       " (3, 20, 0): 32,\n",
       " (19, 19, 0): 8,\n",
       " (19, 19, 1): 9,\n",
       " (19, 19, 2): 17,\n",
       " (19, 19, 3): 18,\n",
       " (18, 18, 0): 10,\n",
       " (18, 18, 1): 33,\n",
       " (18, 18, 2): 34,\n",
       " (18, 18, 3): 35,\n",
       " (18, 18, 4): 36,\n",
       " (16, 16, 0): 13,\n",
       " (16, 16, 1): 14,\n",
       " (16, 16, 2): 40,\n",
       " (16, 17, 0): 39,\n",
       " (20, 20, 0): 15,\n",
       " (20, 20, 1): 16,\n",
       " (23, 23, 0): 19,\n",
       " (23, 23, 1): 20,\n",
       " (23, 23, 2): 25,\n",
       " (22, 22, 0): 21,\n",
       " (22, 22, 1): 22,\n",
       " (22, 22, 2): 27,\n",
       " (22, 23, 0): 26,\n",
       " (10, 25, 0): 23,\n",
       " (10, 10, 0): 46,\n",
       " (9, 24, 0): 24,\n",
       " (9, 9, 0): 47,\n",
       " (1, 22, 0): 28,\n",
       " (1, 1, 0): 57,\n",
       " (1, 1, 1): 58,\n",
       " (12, 21, 0): 29,\n",
       " (12, 12, 0): 30,\n",
       " (6, 'removed', 0): 31,\n",
       " (6, 6, 0): 49,\n",
       " (5, 16, 0): 41,\n",
       " (5, 5, 0): 53,\n",
       " (5, 5, 1): 54,\n",
       " (15, 15, 0): 42,\n",
       " (14, 14, 0): 43,\n",
       " (13, 13, 0): 44,\n",
       " (11, 11, 0): 45,\n",
       " (7, 7, 0): 48,\n",
       " (2, 2, 0): 50,\n",
       " ('start', 0, 0): -1,\n",
       " ('start', 1, 0): -1,\n",
       " ('start', 2, 0): -1,\n",
       " ('start', 3, 0): -1,\n",
       " ('start', 4, 0): -1,\n",
       " ('start', 5, 0): -1,\n",
       " ('start', 6, 0): -1,\n",
       " ('start', 7, 0): -1,\n",
       " ('start', 8, 0): -1,\n",
       " ('start', 9, 0): -1,\n",
       " ('start', 10, 0): -1,\n",
       " ('start', 11, 0): -1,\n",
       " ('start', 12, 0): -1,\n",
       " ('start', 13, 0): -1,\n",
       " ('start', 14, 0): -1,\n",
       " ('start', 15, 0): -1}"
      ]
     },
     "metadata": {},
     "execution_count": 130
    }
   ],
   "source": [
    "nx.get_edge_attributes(col_graph,\"state\")"
   ]
  },
  {
   "cell_type": "code",
   "execution_count": 131,
   "metadata": {},
   "outputs": [
    {
     "output_type": "execute_result",
     "data": {
      "text/plain": [
       "OutMultiEdgeDataView([(8, 26, {'state': 0}), (8, 8, {'state': 51}), (8, 8, {'state': 52}), (17, 26, {'state': 0}), (17, 17, {'state': 11}), (17, 17, {'state': 12}), (17, 17, {'state': 38}), (17, 18, {'state': 37}), (3, 3, {'state': 4}), (3, 3, {'state': 55}), (3, 3, {'state': 56}), (3, 19, {'state': 32}), (3, 20, {'state': 32}), (19, 19, {'state': 8}), (19, 19, {'state': 9}), (19, 19, {'state': 17}), (19, 19, {'state': 18}), (18, 18, {'state': 10}), (18, 18, {'state': 33}), (18, 18, {'state': 34}), (18, 18, {'state': 35}), (18, 18, {'state': 36}), (16, 16, {'state': 13}), (16, 16, {'state': 14}), (16, 16, {'state': 40}), (16, 17, {'state': 39}), (20, 20, {'state': 15}), (20, 20, {'state': 16}), (23, 23, {'state': 19}), (23, 23, {'state': 20}), (23, 23, {'state': 25}), (22, 22, {'state': 21}), (22, 22, {'state': 22}), (22, 22, {'state': 27}), (22, 23, {'state': 26}), (10, 25, {'state': 23}), (10, 10, {'state': 46}), (9, 24, {'state': 24}), (9, 9, {'state': 47}), (1, 22, {'state': 28}), (1, 1, {'state': 57}), (1, 1, {'state': 58}), (12, 21, {'state': 29}), (12, 12, {'state': 30}), (6, 'removed', {'state': 31}), (6, 6, {'state': 49}), (5, 16, {'state': 41}), (5, 5, {'state': 53}), (5, 5, {'state': 54}), (15, 15, {'state': 42}), (14, 14, {'state': 43}), (13, 13, {'state': 44}), (11, 11, {'state': 45}), (7, 7, {'state': 48}), (2, 2, {'state': 50}), ('start', 0, {'state': -1}), ('start', 1, {'state': -1}), ('start', 2, {'state': -1}), ('start', 3, {'state': -1}), ('start', 4, {'state': -1}), ('start', 5, {'state': -1}), ('start', 6, {'state': -1}), ('start', 7, {'state': -1}), ('start', 8, {'state': -1}), ('start', 9, {'state': -1}), ('start', 10, {'state': -1}), ('start', 11, {'state': -1}), ('start', 12, {'state': -1}), ('start', 13, {'state': -1}), ('start', 14, {'state': -1}), ('start', 15, {'state': -1})])"
      ]
     },
     "metadata": {},
     "execution_count": 131
    }
   ],
   "source": [
    "col_graph.edges(data=True)"
   ]
  },
  {
   "cell_type": "code",
   "execution_count": 132,
   "metadata": {},
   "outputs": [
    {
     "output_type": "display_data",
     "data": {
      "text/plain": "<Figure size 720x720 with 1 Axes>",
      "image/svg+xml": "<?xml version=\"1.0\" encoding=\"utf-8\" standalone=\"no\"?>\n<!DOCTYPE svg PUBLIC \"-//W3C//DTD SVG 1.1//EN\"\n  \"http://www.w3.org/Graphics/SVG/1.1/DTD/svg11.dtd\">\n<!-- Created with matplotlib (https://matplotlib.org/) -->\n<svg height=\"558pt\" version=\"1.1\" viewBox=\"0 0 572.4 558\" width=\"572.4pt\" xmlns=\"http://www.w3.org/2000/svg\" xmlns:xlink=\"http://www.w3.org/1999/xlink\">\n <defs>\n  <style type=\"text/css\">\n*{stroke-linecap:butt;stroke-linejoin:round;}\n  </style>\n </defs>\n <g id=\"figure_1\">\n  <g id=\"patch_1\">\n   <path d=\"M 0 558 \nL 572.4 558 \nL 572.4 0 \nL 0 0 \nz\n\" style=\"fill:none;\"/>\n  </g>\n  <g id=\"axes_1\">\n   <g id=\"patch_2\">\n    <path d=\"M 7.2 550.8 \nL 565.2 550.8 \nL 565.2 7.2 \nL 7.2 7.2 \nz\n\" style=\"fill:#ffffff;\"/>\n   </g>\n   <g id=\"patch_3\">\n    <path clip-path=\"url(#p0bc52982b8)\" d=\"M 93.917479 391.31405 \nQ 124.942601 465.515506 195.38363 499.518408 \n\" style=\"fill:none;stroke:#000000;stroke-linecap:round;\"/>\n    <path clip-path=\"url(#p0bc52982b8)\" d=\"M 192.650794 495.978407 \nL 195.38363 499.518408 \nL 190.911927 499.580675 \nL 192.650794 495.978407 \nz\n\" style=\"stroke:#000000;stroke-linecap:round;\"/>\n   </g>\n   <g id=\"patch_4\">\n    <path clip-path=\"url(#p0bc52982b8)\" d=\"M 93.917479 391.31405 \nQ 93.917479 391.31405 93.917479 391.31405 \n\" style=\"fill:none;stroke:#000000;stroke-linecap:round;\"/>\n   </g>\n   <g id=\"patch_5\">\n    <path clip-path=\"url(#p0bc52982b8)\" d=\"M 93.917479 391.31405 \nQ 93.917479 391.31405 93.917479 391.31405 \n\" style=\"fill:none;stroke:#000000;stroke-linecap:round;\"/>\n   </g>\n   <g id=\"patch_6\">\n    <path clip-path=\"url(#p0bc52982b8)\" d=\"M 253.911408 391.31405 \nQ 209.746394 434.486215 204.858316 493.867635 \n\" style=\"fill:none;stroke:#000000;stroke-linecap:round;\"/>\n    <path clip-path=\"url(#p0bc52982b8)\" d=\"M 207.179731 490.045197 \nL 204.858316 493.867635 \nL 203.193215 489.71704 \nL 207.179731 490.045197 \nz\n\" style=\"stroke:#000000;stroke-linecap:round;\"/>\n   </g>\n   <g id=\"patch_7\">\n    <path clip-path=\"url(#p0bc52982b8)\" d=\"M 253.911408 391.31405 \nQ 253.911408 391.31405 253.911408 391.31405 \n\" style=\"fill:none;stroke:#000000;stroke-linecap:round;\"/>\n   </g>\n   <g id=\"patch_8\">\n    <path clip-path=\"url(#p0bc52982b8)\" d=\"M 253.911408 391.31405 \nQ 253.911408 391.31405 253.911408 391.31405 \n\" style=\"fill:none;stroke:#000000;stroke-linecap:round;\"/>\n   </g>\n   <g id=\"patch_9\">\n    <path clip-path=\"url(#p0bc52982b8)\" d=\"M 253.911408 391.31405 \nQ 253.911408 391.31405 253.911408 391.31405 \n\" style=\"fill:none;stroke:#000000;stroke-linecap:round;\"/>\n   </g>\n   <g id=\"patch_10\">\n    <path clip-path=\"url(#p0bc52982b8)\" d=\"M 253.911408 391.31405 \nQ 233.072572 443.411138 250.536324 494.450402 \n\" style=\"fill:none;stroke:#000000;stroke-linecap:round;\"/>\n    <path clip-path=\"url(#p0bc52982b8)\" d=\"M 251.133672 490.01834 \nL 250.536324 494.450402 \nL 247.349083 491.313286 \nL 251.133672 490.01834 \nz\n\" style=\"stroke:#000000;stroke-linecap:round;\"/>\n   </g>\n   <g id=\"patch_11\">\n    <path clip-path=\"url(#p0bc52982b8)\" d=\"M 90.347634 166.68595 \nQ 90.347634 166.68595 90.347634 166.68595 \n\" style=\"fill:none;stroke:#000000;stroke-linecap:round;\"/>\n   </g>\n   <g id=\"patch_12\">\n    <path clip-path=\"url(#p0bc52982b8)\" d=\"M 90.347634 166.68595 \nQ 90.347634 166.68595 90.347634 166.68595 \n\" style=\"fill:none;stroke:#000000;stroke-linecap:round;\"/>\n   </g>\n   <g id=\"patch_13\">\n    <path clip-path=\"url(#p0bc52982b8)\" d=\"M 90.347634 166.68595 \nQ 90.347634 166.68595 90.347634 166.68595 \n\" style=\"fill:none;stroke:#000000;stroke-linecap:round;\"/>\n   </g>\n   <g id=\"patch_14\">\n    <path clip-path=\"url(#p0bc52982b8)\" d=\"M 90.347634 166.68595 \nQ 53.272178 212.499116 55.095458 269.232948 \n\" style=\"fill:none;stroke:#000000;stroke-linecap:round;\"/>\n    <path clip-path=\"url(#p0bc52982b8)\" d=\"M 56.965942 265.17077 \nL 55.095458 269.232948 \nL 52.968006 265.299254 \nL 56.965942 265.17077 \nz\n\" style=\"stroke:#000000;stroke-linecap:round;\"/>\n   </g>\n   <g id=\"patch_15\">\n    <path clip-path=\"url(#p0bc52982b8)\" d=\"M 90.347634 166.68595 \nQ 75.071542 221.035968 98.022947 270.235287 \n\" style=\"fill:none;stroke:#000000;stroke-linecap:round;\"/>\n    <path clip-path=\"url(#p0bc52982b8)\" d=\"M 98.144389 265.7648 \nL 98.022947 270.235287 \nL 94.519423 267.455841 \nL 98.144389 265.7648 \nz\n\" style=\"stroke:#000000;stroke-linecap:round;\"/>\n   </g>\n   <g id=\"patch_16\">\n    <path clip-path=\"url(#p0bc52982b8)\" d=\"M 55.621488 279 \nQ 55.621488 279 55.621488 279 \n\" style=\"fill:none;stroke:#000000;stroke-linecap:round;\"/>\n   </g>\n   <g id=\"patch_17\">\n    <path clip-path=\"url(#p0bc52982b8)\" d=\"M 55.621488 279 \nQ 55.621488 279 55.621488 279 \n\" style=\"fill:none;stroke:#000000;stroke-linecap:round;\"/>\n   </g>\n   <g id=\"patch_18\">\n    <path clip-path=\"url(#p0bc52982b8)\" d=\"M 55.621488 279 \nQ 55.621488 279 55.621488 279 \n\" style=\"fill:none;stroke:#000000;stroke-linecap:round;\"/>\n   </g>\n   <g id=\"patch_19\">\n    <path clip-path=\"url(#p0bc52982b8)\" d=\"M 55.621488 279 \nQ 55.621488 279 55.621488 279 \n\" style=\"fill:none;stroke:#000000;stroke-linecap:round;\"/>\n   </g>\n   <g id=\"patch_20\">\n    <path clip-path=\"url(#p0bc52982b8)\" d=\"M 253.911408 503.628099 \nQ 253.911408 503.628099 253.911408 503.628099 \n\" style=\"fill:none;stroke:#000000;stroke-linecap:round;\"/>\n   </g>\n   <g id=\"patch_21\">\n    <path clip-path=\"url(#p0bc52982b8)\" d=\"M 253.911408 503.628099 \nQ 253.911408 503.628099 253.911408 503.628099 \n\" style=\"fill:none;stroke:#000000;stroke-linecap:round;\"/>\n   </g>\n   <g id=\"patch_22\">\n    <path clip-path=\"url(#p0bc52982b8)\" d=\"M 253.911408 503.628099 \nQ 253.911408 503.628099 253.911408 503.628099 \n\" style=\"fill:none;stroke:#000000;stroke-linecap:round;\"/>\n   </g>\n   <g id=\"patch_23\">\n    <path clip-path=\"url(#p0bc52982b8)\" d=\"M 253.911408 503.628099 \nQ 253.911408 503.628099 253.911408 503.628099 \n\" style=\"fill:none;stroke:#000000;stroke-linecap:round;\"/>\n   </g>\n   <g id=\"patch_24\">\n    <path clip-path=\"url(#p0bc52982b8)\" d=\"M 253.911408 503.628099 \nQ 253.911408 503.628099 253.911408 503.628099 \n\" style=\"fill:none;stroke:#000000;stroke-linecap:round;\"/>\n   </g>\n   <g id=\"patch_25\">\n    <path clip-path=\"url(#p0bc52982b8)\" d=\"M 282.794693 279 \nQ 282.794693 279 282.794693 279 \n\" style=\"fill:none;stroke:#000000;stroke-linecap:round;\"/>\n   </g>\n   <g id=\"patch_26\">\n    <path clip-path=\"url(#p0bc52982b8)\" d=\"M 282.794693 279 \nQ 282.794693 279 282.794693 279 \n\" style=\"fill:none;stroke:#000000;stroke-linecap:round;\"/>\n   </g>\n   <g id=\"patch_27\">\n    <path clip-path=\"url(#p0bc52982b8)\" d=\"M 282.794693 279 \nQ 282.794693 279 282.794693 279 \n\" style=\"fill:none;stroke:#000000;stroke-linecap:round;\"/>\n   </g>\n   <g id=\"patch_28\">\n    <path clip-path=\"url(#p0bc52982b8)\" d=\"M 282.794693 279 \nQ 248.472696 325.85491 252.919877 381.588289 \n\" style=\"fill:none;stroke:#000000;stroke-linecap:round;\"/>\n    <path clip-path=\"url(#p0bc52982b8)\" d=\"M 254.595376 377.441881 \nL 252.919877 381.588289 \nL 250.608049 377.760045 \nL 254.595376 377.441881 \nz\n\" style=\"stroke:#000000;stroke-linecap:round;\"/>\n   </g>\n   <g id=\"patch_29\">\n    <path clip-path=\"url(#p0bc52982b8)\" d=\"M 102.355292 279 \nQ 102.355292 279 102.355292 279 \n\" style=\"fill:none;stroke:#000000;stroke-linecap:round;\"/>\n   </g>\n   <g id=\"patch_30\">\n    <path clip-path=\"url(#p0bc52982b8)\" d=\"M 102.355292 279 \nQ 102.355292 279 102.355292 279 \n\" style=\"fill:none;stroke:#000000;stroke-linecap:round;\"/>\n   </g>\n   <g id=\"patch_31\">\n    <path clip-path=\"url(#p0bc52982b8)\" d=\"M 184.46171 391.31405 \nQ 184.46171 391.31405 184.46171 391.31405 \n\" style=\"fill:none;stroke:#000000;stroke-linecap:round;\"/>\n   </g>\n   <g id=\"patch_32\">\n    <path clip-path=\"url(#p0bc52982b8)\" d=\"M 184.46171 391.31405 \nQ 184.46171 391.31405 184.46171 391.31405 \n\" style=\"fill:none;stroke:#000000;stroke-linecap:round;\"/>\n   </g>\n   <g id=\"patch_33\">\n    <path clip-path=\"url(#p0bc52982b8)\" d=\"M 184.46171 391.31405 \nQ 184.46171 391.31405 184.46171 391.31405 \n\" style=\"fill:none;stroke:#000000;stroke-linecap:round;\"/>\n   </g>\n   <g id=\"patch_34\">\n    <path clip-path=\"url(#p0bc52982b8)\" d=\"M 184.46171 279 \nQ 184.46171 279 184.46171 279 \n\" style=\"fill:none;stroke:#000000;stroke-linecap:round;\"/>\n   </g>\n   <g id=\"patch_35\">\n    <path clip-path=\"url(#p0bc52982b8)\" d=\"M 184.46171 279 \nQ 184.46171 279 184.46171 279 \n\" style=\"fill:none;stroke:#000000;stroke-linecap:round;\"/>\n   </g>\n   <g id=\"patch_36\">\n    <path clip-path=\"url(#p0bc52982b8)\" d=\"M 184.46171 279 \nQ 184.46171 279 184.46171 279 \n\" style=\"fill:none;stroke:#000000;stroke-linecap:round;\"/>\n   </g>\n   <g id=\"patch_37\">\n    <path clip-path=\"url(#p0bc52982b8)\" d=\"M 184.46171 279 \nQ 163.622875 331.097089 181.086627 382.136352 \n\" style=\"fill:none;stroke:#000000;stroke-linecap:round;\"/>\n    <path clip-path=\"url(#p0bc52982b8)\" d=\"M 181.683975 377.70429 \nL 181.086627 382.136352 \nL 177.899386 378.999237 \nL 181.683975 377.70429 \nz\n\" style=\"stroke:#000000;stroke-linecap:round;\"/>\n   </g>\n   <g id=\"patch_38\">\n    <path clip-path=\"url(#p0bc52982b8)\" d=\"M 131.238578 166.68595 \nQ 113.257532 219.934107 133.531714 270.022646 \n\" style=\"fill:none;stroke:#000000;stroke-linecap:round;\"/>\n    <path clip-path=\"url(#p0bc52982b8)\" d=\"M 133.884818 265.564472 \nL 133.531714 270.022646 \nL 130.177037 267.065259 \nL 133.884818 265.564472 \nz\n\" style=\"stroke:#000000;stroke-linecap:round;\"/>\n   </g>\n   <g id=\"patch_39\">\n    <path clip-path=\"url(#p0bc52982b8)\" d=\"M 131.238578 166.68595 \nQ 131.238578 166.68595 131.238578 166.68595 \n\" style=\"fill:none;stroke:#000000;stroke-linecap:round;\"/>\n   </g>\n   <g id=\"patch_40\">\n    <path clip-path=\"url(#p0bc52982b8)\" d=\"M 160.446394 166.68595 \nQ 139.758093 218.843253 157.369325 269.832059 \n\" style=\"fill:none;stroke:#000000;stroke-linecap:round;\"/>\n    <path clip-path=\"url(#p0bc52982b8)\" d=\"M 157.953864 265.39829 \nL 157.369325 269.832059 \nL 154.173032 266.704166 \nL 157.953864 265.39829 \nz\n\" style=\"stroke:#000000;stroke-linecap:round;\"/>\n   </g>\n   <g id=\"patch_41\">\n    <path clip-path=\"url(#p0bc52982b8)\" d=\"M 160.446394 166.68595 \nQ 160.446394 166.68595 160.446394 166.68595 \n\" style=\"fill:none;stroke:#000000;stroke-linecap:round;\"/>\n   </g>\n   <g id=\"patch_42\">\n    <path clip-path=\"url(#p0bc52982b8)\" d=\"M 189.654211 166.68595 \nQ 166.405295 217.822983 181.513246 269.67439 \n\" style=\"fill:none;stroke:#000000;stroke-linecap:round;\"/>\n    <path clip-path=\"url(#p0bc52982b8)\" d=\"M 182.314448 265.274608 \nL 181.513246 269.67439 \nL 178.474143 266.393559 \nL 182.314448 265.274608 \nz\n\" style=\"stroke:#000000;stroke-linecap:round;\"/>\n   </g>\n   <g id=\"patch_43\">\n    <path clip-path=\"url(#p0bc52982b8)\" d=\"M 189.654211 166.68595 \nQ 189.654211 166.68595 189.654211 166.68595 \n\" style=\"fill:none;stroke:#000000;stroke-linecap:round;\"/>\n   </g>\n   <g id=\"patch_44\">\n    <path clip-path=\"url(#p0bc52982b8)\" d=\"M 189.654211 166.68595 \nQ 189.654211 166.68595 189.654211 166.68595 \n\" style=\"fill:none;stroke:#000000;stroke-linecap:round;\"/>\n   </g>\n   <g id=\"patch_45\">\n    <path clip-path=\"url(#p0bc52982b8)\" d=\"M 224.703591 166.68595 \nQ 204.165825 218.903467 221.924539 269.841825 \n\" style=\"fill:none;stroke:#000000;stroke-linecap:round;\"/>\n    <path clip-path=\"url(#p0bc52982b8)\" d=\"M 222.496264 265.406385 \nL 221.924539 269.841825 \nL 218.719222 266.72318 \nL 222.496264 265.406385 \nz\n\" style=\"stroke:#000000;stroke-linecap:round;\"/>\n   </g>\n   <g id=\"patch_46\">\n    <path clip-path=\"url(#p0bc52982b8)\" d=\"M 224.703591 166.68595 \nQ 224.703591 166.68595 224.703591 166.68595 \n\" style=\"fill:none;stroke:#000000;stroke-linecap:round;\"/>\n   </g>\n   <g id=\"patch_47\">\n    <path clip-path=\"url(#p0bc52982b8)\" d=\"M 253.911408 166.68595 \nQ 233.072572 218.783039 250.536324 269.822303 \n\" style=\"fill:none;stroke:#000000;stroke-linecap:round;\"/>\n    <path clip-path=\"url(#p0bc52982b8)\" d=\"M 251.133672 265.39024 \nL 250.536324 269.822303 \nL 247.349083 266.685187 \nL 251.133672 265.39024 \nz\n\" style=\"stroke:#000000;stroke-linecap:round;\"/>\n   </g>\n   <g id=\"patch_48\">\n    <path clip-path=\"url(#p0bc52982b8)\" d=\"M 253.911408 166.68595 \nQ 253.911408 166.68595 253.911408 166.68595 \n\" style=\"fill:none;stroke:#000000;stroke-linecap:round;\"/>\n   </g>\n   <g id=\"patch_49\">\n    <path clip-path=\"url(#p0bc52982b8)\" d=\"M 283.119224 166.68595 \nQ 262.129855 218.722825 279.44613 269.812555 \n\" style=\"fill:none;stroke:#000000;stroke-linecap:round;\"/>\n    <path clip-path=\"url(#p0bc52982b8)\" d=\"M 280.056282 265.382237 \nL 279.44613 269.812555 \nL 276.267967 266.666243 \nL 280.056282 265.382237 \nz\n\" style=\"stroke:#000000;stroke-linecap:round;\"/>\n   </g>\n   <g id=\"patch_50\">\n    <path clip-path=\"url(#p0bc52982b8)\" d=\"M 283.119224 166.68595 \nQ 283.119224 166.68595 283.119224 166.68595 \n\" style=\"fill:none;stroke:#000000;stroke-linecap:round;\"/>\n   </g>\n   <g id=\"patch_51\">\n    <path clip-path=\"url(#p0bc52982b8)\" d=\"M 283.119224 166.68595 \nQ 283.119224 166.68595 283.119224 166.68595 \n\" style=\"fill:none;stroke:#000000;stroke-linecap:round;\"/>\n   </g>\n   <g id=\"patch_52\">\n    <path clip-path=\"url(#p0bc52982b8)\" d=\"M 318.168604 166.68595 \nQ 318.168604 166.68595 318.168604 166.68595 \n\" style=\"fill:none;stroke:#000000;stroke-linecap:round;\"/>\n   </g>\n   <g id=\"patch_53\">\n    <path clip-path=\"url(#p0bc52982b8)\" d=\"M 347.376421 166.68595 \nQ 347.376421 166.68595 347.376421 166.68595 \n\" style=\"fill:none;stroke:#000000;stroke-linecap:round;\"/>\n   </g>\n   <g id=\"patch_54\">\n    <path clip-path=\"url(#p0bc52982b8)\" d=\"M 376.580992 166.68595 \nQ 376.580992 166.68595 376.580992 166.68595 \n\" style=\"fill:none;stroke:#000000;stroke-linecap:round;\"/>\n   </g>\n   <g id=\"patch_55\">\n    <path clip-path=\"url(#p0bc52982b8)\" d=\"M 405.788809 166.68595 \nQ 405.788809 166.68595 405.788809 166.68595 \n\" style=\"fill:none;stroke:#000000;stroke-linecap:round;\"/>\n   </g>\n   <g id=\"patch_56\">\n    <path clip-path=\"url(#p0bc52982b8)\" d=\"M 434.996626 166.68595 \nQ 434.996626 166.68595 434.996626 166.68595 \n\" style=\"fill:none;stroke:#000000;stroke-linecap:round;\"/>\n   </g>\n   <g id=\"patch_57\">\n    <path clip-path=\"url(#p0bc52982b8)\" d=\"M 464.204442 166.68595 \nQ 464.204442 166.68595 464.204442 166.68595 \n\" style=\"fill:none;stroke:#000000;stroke-linecap:round;\"/>\n   </g>\n   <g id=\"patch_58\">\n    <path clip-path=\"url(#p0bc52982b8)\" d=\"M 300.643914 54.371901 \nQ 371.88865 145.653205 483.762989 165.118402 \n\" style=\"fill:none;stroke:#000000;stroke-linecap:round;\"/>\n    <path clip-path=\"url(#p0bc52982b8)\" d=\"M 480.165027 162.46234 \nL 483.762989 165.118402 \nL 479.479362 166.403134 \nL 480.165027 162.46234 \nz\n\" style=\"stroke:#000000;stroke-linecap:round;\"/>\n   </g>\n   <g id=\"patch_59\">\n    <path clip-path=\"url(#p0bc52982b8)\" d=\"M 300.643914 54.371901 \nQ 226.684295 86.5894 193.631425 157.751886 \n\" style=\"fill:none;stroke:#000000;stroke-linecap:round;\"/>\n    <path clip-path=\"url(#p0bc52982b8)\" d=\"M 197.130311 154.966604 \nL 193.631425 157.751886 \nL 193.502531 153.281608 \nL 197.130311 154.966604 \nz\n\" style=\"stroke:#000000;stroke-linecap:round;\"/>\n   </g>\n   <g id=\"patch_60\">\n    <path clip-path=\"url(#p0bc52982b8)\" d=\"M 300.643914 54.371901 \nQ 357.543813 139.619061 454.698583 164.390002 \n\" style=\"fill:none;stroke:#000000;stroke-linecap:round;\"/>\n    <path clip-path=\"url(#p0bc52982b8)\" d=\"M 451.316702 161.463762 \nL 454.698583 164.390002 \nL 450.328463 165.339763 \nL 451.316702 161.463762 \nz\n\" style=\"stroke:#000000;stroke-linecap:round;\"/>\n   </g>\n   <g id=\"patch_61\">\n    <path clip-path=\"url(#p0bc52982b8)\" d=\"M 300.643914 54.371901 \nQ 177.35767 67.991899 96.743627 159.287433 \n\" style=\"fill:none;stroke:#000000;stroke-linecap:round;\"/>\n    <path clip-path=\"url(#p0bc52982b8)\" d=\"M 100.890399 157.612835 \nL 96.743627 159.287433 \nL 97.892012 154.965256 \nL 100.890399 157.612835 \nz\n\" style=\"stroke:#000000;stroke-linecap:round;\"/>\n   </g>\n   <g id=\"patch_62\">\n    <path clip-path=\"url(#p0bc52982b8)\" d=\"M 300.643914 54.371901 \nQ 383.409986 150.460537 507.06209 165.597595 \n\" style=\"fill:none;stroke:#000000;stroke-linecap:round;\"/>\n    <path clip-path=\"url(#p0bc52982b8)\" d=\"M 503.334747 163.126376 \nL 507.06209 165.597595 \nL 502.84871 167.096737 \nL 503.334747 163.126376 \nz\n\" style=\"stroke:#000000;stroke-linecap:round;\"/>\n   </g>\n   <g id=\"patch_63\">\n    <path clip-path=\"url(#p0bc52982b8)\" d=\"M 300.643914 54.371901 \nQ 271.649536 103.262436 281.19574 157.09617 \n\" style=\"fill:none;stroke:#000000;stroke-linecap:round;\"/>\n    <path clip-path=\"url(#p0bc52982b8)\" d=\"M 282.466604 152.808408 \nL 281.19574 157.09617 \nL 278.528048 153.506822 \nL 282.466604 152.808408 \nz\n\" style=\"stroke:#000000;stroke-linecap:round;\"/>\n   </g>\n   <g id=\"patch_64\">\n    <path clip-path=\"url(#p0bc52982b8)\" d=\"M 300.643914 54.371901 \nQ 257.870775 98.061056 254.299365 156.917415 \n\" style=\"fill:none;stroke:#000000;stroke-linecap:round;\"/>\n    <path clip-path=\"url(#p0bc52982b8)\" d=\"M 256.537968 153.045897 \nL 254.299365 156.917415 \nL 252.545312 152.803622 \nL 256.537968 153.045897 \nz\n\" style=\"stroke:#000000;stroke-linecap:round;\"/>\n   </g>\n   <g id=\"patch_65\">\n    <path clip-path=\"url(#p0bc52982b8)\" d=\"M 300.643914 54.371901 \nQ 343.290851 133.562027 425.75556 163.482642 \n\" style=\"fill:none;stroke:#000000;stroke-linecap:round;\"/>\n    <path clip-path=\"url(#p0bc52982b8)\" d=\"M 422.677558 160.238277 \nL 425.75556 163.482642 \nL 421.313267 163.998424 \nL 422.677558 160.238277 \nz\n\" style=\"stroke:#000000;stroke-linecap:round;\"/>\n   </g>\n   <g id=\"patch_66\">\n    <path clip-path=\"url(#p0bc52982b8)\" d=\"M 300.643914 54.371901 \nQ 133.374469 178.905165 95.64533 381.691542 \n\" style=\"fill:none;stroke:#000000;stroke-linecap:round;\"/>\n    <path clip-path=\"url(#p0bc52982b8)\" d=\"M 98.343246 378.124856 \nL 95.64533 381.691542 \nL 94.410731 377.393198 \nL 98.343246 378.124856 \nz\n\" style=\"stroke:#000000;stroke-linecap:round;\"/>\n   </g>\n   <g id=\"patch_67\">\n    <path clip-path=\"url(#p0bc52982b8)\" d=\"M 300.643914 54.371901 \nQ 212.25027 81.223327 165.40831 158.261833 \n\" style=\"fill:none;stroke:#000000;stroke-linecap:round;\"/>\n    <path clip-path=\"url(#p0bc52982b8)\" d=\"M 169.195345 155.883101 \nL 165.40831 158.261833 \nL 165.777545 153.804966 \nL 169.195345 155.883101 \nz\n\" style=\"stroke:#000000;stroke-linecap:round;\"/>\n   </g>\n   <g id=\"patch_68\">\n    <path clip-path=\"url(#p0bc52982b8)\" d=\"M 300.643914 54.371901 \nQ 197.741443 75.761728 136.922432 158.728101 \n\" style=\"fill:none;stroke:#000000;stroke-linecap:round;\"/>\n    <path clip-path=\"url(#p0bc52982b8)\" d=\"M 140.900329 156.684492 \nL 136.922432 158.728101 \nL 137.674282 154.319618 \nL 140.900329 156.684492 \nz\n\" style=\"stroke:#000000;stroke-linecap:round;\"/>\n   </g>\n   <g id=\"patch_69\">\n    <path clip-path=\"url(#p0bc52982b8)\" d=\"M 300.643914 54.371901 \nQ 329.168496 127.494615 397.018747 162.359924 \n\" style=\"fill:none;stroke:#000000;stroke-linecap:round;\"/>\n    <path clip-path=\"url(#p0bc52982b8)\" d=\"M 394.375068 158.752854 \nL 397.018747 162.359924 \nL 392.546883 162.310625 \nL 394.375068 158.752854 \nz\n\" style=\"stroke:#000000;stroke-linecap:round;\"/>\n   </g>\n   <g id=\"patch_70\">\n    <path clip-path=\"url(#p0bc52982b8)\" d=\"M 300.643914 54.371901 \nQ 243.823864 92.891575 227.001361 157.182319 \n\" style=\"fill:none;stroke:#000000;stroke-linecap:round;\"/>\n    <path clip-path=\"url(#p0bc52982b8)\" d=\"M 229.948782 153.818881 \nL 227.001361 157.182319 \nL 226.079064 152.80632 \nL 229.948782 153.818881 \nz\n\" style=\"stroke:#000000;stroke-linecap:round;\"/>\n   </g>\n   <g id=\"patch_71\">\n    <path clip-path=\"url(#p0bc52982b8)\" d=\"M 300.643914 54.371901 \nQ 315.22265 121.45109 368.617592 161.013142 \n\" style=\"fill:none;stroke:#000000;stroke-linecap:round;\"/>\n    <path clip-path=\"url(#p0bc52982b8)\" d=\"M 366.594313 157.024867 \nL 368.617592 161.013142 \nL 364.213004 160.238801 \nL 366.594313 157.024867 \nz\n\" style=\"stroke:#000000;stroke-linecap:round;\"/>\n   </g>\n   <g id=\"patch_72\">\n    <path clip-path=\"url(#p0bc52982b8)\" d=\"M 300.643914 54.371901 \nQ 301.487115 115.507592 340.720422 159.525471 \n\" style=\"fill:none;stroke:#000000;stroke-linecap:round;\"/>\n    <path clip-path=\"url(#p0bc52982b8)\" d=\"M 339.551968 155.208677 \nL 340.720422 159.525471 \nL 336.565914 157.870158 \nL 339.551968 155.208677 \nz\n\" style=\"stroke:#000000;stroke-linecap:round;\"/>\n   </g>\n   <g id=\"patch_73\">\n    <path clip-path=\"url(#p0bc52982b8)\" d=\"M 300.643914 54.371901 \nQ 287.922233 109.771515 313.415039 158.13801 \n\" style=\"fill:none;stroke:#000000;stroke-linecap:round;\"/>\n    <path clip-path=\"url(#p0bc52982b8)\" d=\"M 313.31923 153.6669 \nL 313.415039 158.13801 \nL 309.780666 155.531992 \nL 313.31923 153.6669 \nz\n\" style=\"stroke:#000000;stroke-linecap:round;\"/>\n   </g>\n   <g id=\"matplotlib.axis_1\">\n    <g id=\"xtick_1\"/>\n    <g id=\"xtick_2\"/>\n    <g id=\"xtick_3\"/>\n    <g id=\"xtick_4\"/>\n    <g id=\"xtick_5\"/>\n    <g id=\"xtick_6\"/>\n    <g id=\"xtick_7\"/>\n    <g id=\"xtick_8\"/>\n    <g id=\"xtick_9\"/>\n   </g>\n   <g id=\"matplotlib.axis_2\">\n    <g id=\"ytick_1\"/>\n    <g id=\"ytick_2\"/>\n    <g id=\"ytick_3\"/>\n    <g id=\"ytick_4\"/>\n    <g id=\"ytick_5\"/>\n    <g id=\"ytick_6\"/>\n    <g id=\"ytick_7\"/>\n   </g>\n   <g id=\"PathCollection_1\">\n    <defs>\n     <path d=\"M 0 8.660254 \nC 2.296726 8.660254 4.499694 7.747755 6.123724 6.123724 \nC 7.747755 4.499694 8.660254 2.296726 8.660254 0 \nC 8.660254 -2.296726 7.747755 -4.499694 6.123724 -6.123724 \nC 4.499694 -7.747755 2.296726 -8.660254 0 -8.660254 \nC -2.296726 -8.660254 -4.499694 -7.747755 -6.123724 -6.123724 \nC -7.747755 -4.499694 -8.660254 -2.296726 -8.660254 0 \nC -8.660254 2.296726 -7.747755 4.499694 -6.123724 6.123724 \nC -4.499694 7.747755 -2.296726 8.660254 0 8.660254 \nz\n\" id=\"mab7eeaadce\" style=\"stroke:#1f78b4;\"/>\n    </defs>\n    <g clip-path=\"url(#p0bc52982b8)\">\n     <use style=\"fill:#1f78b4;stroke:#1f78b4;\" x=\"93.917479\" xlink:href=\"#mab7eeaadce\" y=\"391.31405\"/>\n     <use style=\"fill:#1f78b4;stroke:#1f78b4;\" x=\"204.258119\" xlink:href=\"#mab7eeaadce\" y=\"503.628099\"/>\n     <use style=\"fill:#1f78b4;stroke:#1f78b4;\" x=\"253.911408\" xlink:href=\"#mab7eeaadce\" y=\"391.31405\"/>\n     <use style=\"fill:#1f78b4;stroke:#1f78b4;\" x=\"90.347634\" xlink:href=\"#mab7eeaadce\" y=\"166.68595\"/>\n     <use style=\"fill:#1f78b4;stroke:#1f78b4;\" x=\"55.621488\" xlink:href=\"#mab7eeaadce\" y=\"279\"/>\n     <use style=\"fill:#1f78b4;stroke:#1f78b4;\" x=\"253.911408\" xlink:href=\"#mab7eeaadce\" y=\"503.628099\"/>\n     <use style=\"fill:#1f78b4;stroke:#1f78b4;\" x=\"282.794693\" xlink:href=\"#mab7eeaadce\" y=\"279\"/>\n     <use style=\"fill:#1f78b4;stroke:#1f78b4;\" x=\"102.355292\" xlink:href=\"#mab7eeaadce\" y=\"279\"/>\n     <use style=\"fill:#1f78b4;stroke:#1f78b4;\" x=\"184.46171\" xlink:href=\"#mab7eeaadce\" y=\"391.31405\"/>\n     <use style=\"fill:#1f78b4;stroke:#1f78b4;\" x=\"184.46171\" xlink:href=\"#mab7eeaadce\" y=\"279\"/>\n     <use style=\"fill:#1f78b4;stroke:#1f78b4;\" x=\"131.238578\" xlink:href=\"#mab7eeaadce\" y=\"166.68595\"/>\n     <use style=\"fill:#1f78b4;stroke:#1f78b4;\" x=\"137.404672\" xlink:href=\"#mab7eeaadce\" y=\"279\"/>\n     <use style=\"fill:#1f78b4;stroke:#1f78b4;\" x=\"160.446394\" xlink:href=\"#mab7eeaadce\" y=\"166.68595\"/>\n     <use style=\"fill:#1f78b4;stroke:#1f78b4;\" x=\"160.770926\" xlink:href=\"#mab7eeaadce\" y=\"279\"/>\n     <use style=\"fill:#1f78b4;stroke:#1f78b4;\" x=\"189.654211\" xlink:href=\"#mab7eeaadce\" y=\"166.68595\"/>\n     <use style=\"fill:#1f78b4;stroke:#1f78b4;\" x=\"224.703591\" xlink:href=\"#mab7eeaadce\" y=\"166.68595\"/>\n     <use style=\"fill:#1f78b4;stroke:#1f78b4;\" x=\"225.352654\" xlink:href=\"#mab7eeaadce\" y=\"279\"/>\n     <use style=\"fill:#1f78b4;stroke:#1f78b4;\" x=\"253.911408\" xlink:href=\"#mab7eeaadce\" y=\"166.68595\"/>\n     <use style=\"fill:#1f78b4;stroke:#1f78b4;\" x=\"253.911408\" xlink:href=\"#mab7eeaadce\" y=\"279\"/>\n     <use style=\"fill:#1f78b4;stroke:#1f78b4;\" x=\"283.119224\" xlink:href=\"#mab7eeaadce\" y=\"166.68595\"/>\n     <use style=\"fill:#1f78b4;stroke:#1f78b4;\" x=\"318.168604\" xlink:href=\"#mab7eeaadce\" y=\"166.68595\"/>\n     <use style=\"fill:#1f78b4;stroke:#1f78b4;\" x=\"347.376421\" xlink:href=\"#mab7eeaadce\" y=\"166.68595\"/>\n     <use style=\"fill:#1f78b4;stroke:#1f78b4;\" x=\"376.580992\" xlink:href=\"#mab7eeaadce\" y=\"166.68595\"/>\n     <use style=\"fill:#1f78b4;stroke:#1f78b4;\" x=\"405.788809\" xlink:href=\"#mab7eeaadce\" y=\"166.68595\"/>\n     <use style=\"fill:#1f78b4;stroke:#1f78b4;\" x=\"434.996626\" xlink:href=\"#mab7eeaadce\" y=\"166.68595\"/>\n     <use style=\"fill:#1f78b4;stroke:#1f78b4;\" x=\"464.204442\" xlink:href=\"#mab7eeaadce\" y=\"166.68595\"/>\n     <use style=\"fill:#1f78b4;stroke:#1f78b4;\" x=\"300.643914\" xlink:href=\"#mab7eeaadce\" y=\"54.371901\"/>\n     <use style=\"fill:#1f78b4;stroke:#1f78b4;\" x=\"493.412259\" xlink:href=\"#mab7eeaadce\" y=\"166.68595\"/>\n     <use style=\"fill:#1f78b4;stroke:#1f78b4;\" x=\"516.778512\" xlink:href=\"#mab7eeaadce\" y=\"166.68595\"/>\n    </g>\n   </g>\n   <g id=\"patch_74\">\n    <path d=\"M 7.2 550.8 \nL 7.2 7.2 \n\" style=\"fill:none;stroke:#000000;stroke-linecap:square;stroke-linejoin:miter;stroke-width:0.8;\"/>\n   </g>\n   <g id=\"patch_75\">\n    <path d=\"M 565.2 550.8 \nL 565.2 7.2 \n\" style=\"fill:none;stroke:#000000;stroke-linecap:square;stroke-linejoin:miter;stroke-width:0.8;\"/>\n   </g>\n   <g id=\"patch_76\">\n    <path d=\"M 7.2 550.8 \nL 565.2 550.8 \n\" style=\"fill:none;stroke:#000000;stroke-linecap:square;stroke-linejoin:miter;stroke-width:0.8;\"/>\n   </g>\n   <g id=\"patch_77\">\n    <path d=\"M 7.2 7.2 \nL 565.2 7.2 \n\" style=\"fill:none;stroke:#000000;stroke-linecap:square;stroke-linejoin:miter;stroke-width:0.8;\"/>\n   </g>\n   <g id=\"text_1\">\n    <g clip-path=\"url(#p0bc52982b8)\">\n     <!-- 8 -->\n     <defs>\n      <path d=\"M 31.78125 34.625 \nQ 24.75 34.625 20.71875 30.859375 \nQ 16.703125 27.09375 16.703125 20.515625 \nQ 16.703125 13.921875 20.71875 10.15625 \nQ 24.75 6.390625 31.78125 6.390625 \nQ 38.8125 6.390625 42.859375 10.171875 \nQ 46.921875 13.96875 46.921875 20.515625 \nQ 46.921875 27.09375 42.890625 30.859375 \nQ 38.875 34.625 31.78125 34.625 \nz\nM 21.921875 38.8125 \nQ 15.578125 40.375 12.03125 44.71875 \nQ 8.5 49.078125 8.5 55.328125 \nQ 8.5 64.0625 14.71875 69.140625 \nQ 20.953125 74.21875 31.78125 74.21875 \nQ 42.671875 74.21875 48.875 69.140625 \nQ 55.078125 64.0625 55.078125 55.328125 \nQ 55.078125 49.078125 51.53125 44.71875 \nQ 48 40.375 41.703125 38.8125 \nQ 48.828125 37.15625 52.796875 32.3125 \nQ 56.78125 27.484375 56.78125 20.515625 \nQ 56.78125 9.90625 50.3125 4.234375 \nQ 43.84375 -1.421875 31.78125 -1.421875 \nQ 19.734375 -1.421875 13.25 4.234375 \nQ 6.78125 9.90625 6.78125 20.515625 \nQ 6.78125 27.484375 10.78125 32.3125 \nQ 14.796875 37.15625 21.921875 38.8125 \nz\nM 18.3125 54.390625 \nQ 18.3125 48.734375 21.84375 45.5625 \nQ 25.390625 42.390625 31.78125 42.390625 \nQ 38.140625 42.390625 41.71875 45.5625 \nQ 45.3125 48.734375 45.3125 54.390625 \nQ 45.3125 60.0625 41.71875 63.234375 \nQ 38.140625 66.40625 31.78125 66.40625 \nQ 25.390625 66.40625 21.84375 63.234375 \nQ 18.3125 60.0625 18.3125 54.390625 \nz\n\" id=\"DejaVuSans-56\"/>\n     </defs>\n     <g transform=\"translate(90.099979 394.6253)scale(0.12 -0.12)\">\n      <use xlink:href=\"#DejaVuSans-56\"/>\n     </g>\n    </g>\n   </g>\n   <g id=\"text_2\">\n    <g clip-path=\"url(#p0bc52982b8)\">\n     <!-- 26 -->\n     <defs>\n      <path d=\"M 19.1875 8.296875 \nL 53.609375 8.296875 \nL 53.609375 0 \nL 7.328125 0 \nL 7.328125 8.296875 \nQ 12.9375 14.109375 22.625 23.890625 \nQ 32.328125 33.6875 34.8125 36.53125 \nQ 39.546875 41.84375 41.421875 45.53125 \nQ 43.3125 49.21875 43.3125 52.78125 \nQ 43.3125 58.59375 39.234375 62.25 \nQ 35.15625 65.921875 28.609375 65.921875 \nQ 23.96875 65.921875 18.8125 64.3125 \nQ 13.671875 62.703125 7.8125 59.421875 \nL 7.8125 69.390625 \nQ 13.765625 71.78125 18.9375 73 \nQ 24.125 74.21875 28.421875 74.21875 \nQ 39.75 74.21875 46.484375 68.546875 \nQ 53.21875 62.890625 53.21875 53.421875 \nQ 53.21875 48.921875 51.53125 44.890625 \nQ 49.859375 40.875 45.40625 35.40625 \nQ 44.1875 33.984375 37.640625 27.21875 \nQ 31.109375 20.453125 19.1875 8.296875 \nz\n\" id=\"DejaVuSans-50\"/>\n      <path d=\"M 33.015625 40.375 \nQ 26.375 40.375 22.484375 35.828125 \nQ 18.609375 31.296875 18.609375 23.390625 \nQ 18.609375 15.53125 22.484375 10.953125 \nQ 26.375 6.390625 33.015625 6.390625 \nQ 39.65625 6.390625 43.53125 10.953125 \nQ 47.40625 15.53125 47.40625 23.390625 \nQ 47.40625 31.296875 43.53125 35.828125 \nQ 39.65625 40.375 33.015625 40.375 \nz\nM 52.59375 71.296875 \nL 52.59375 62.3125 \nQ 48.875 64.0625 45.09375 64.984375 \nQ 41.3125 65.921875 37.59375 65.921875 \nQ 27.828125 65.921875 22.671875 59.328125 \nQ 17.53125 52.734375 16.796875 39.40625 \nQ 19.671875 43.65625 24.015625 45.921875 \nQ 28.375 48.1875 33.59375 48.1875 \nQ 44.578125 48.1875 50.953125 41.515625 \nQ 57.328125 34.859375 57.328125 23.390625 \nQ 57.328125 12.15625 50.6875 5.359375 \nQ 44.046875 -1.421875 33.015625 -1.421875 \nQ 20.359375 -1.421875 13.671875 8.265625 \nQ 6.984375 17.96875 6.984375 36.375 \nQ 6.984375 53.65625 15.1875 63.9375 \nQ 23.390625 74.21875 37.203125 74.21875 \nQ 40.921875 74.21875 44.703125 73.484375 \nQ 48.484375 72.75 52.59375 71.296875 \nz\n\" id=\"DejaVuSans-54\"/>\n     </defs>\n     <g transform=\"translate(196.623119 506.939349)scale(0.12 -0.12)\">\n      <use xlink:href=\"#DejaVuSans-50\"/>\n      <use x=\"63.623047\" xlink:href=\"#DejaVuSans-54\"/>\n     </g>\n    </g>\n   </g>\n   <g id=\"text_3\">\n    <g clip-path=\"url(#p0bc52982b8)\">\n     <!-- 17 -->\n     <defs>\n      <path d=\"M 12.40625 8.296875 \nL 28.515625 8.296875 \nL 28.515625 63.921875 \nL 10.984375 60.40625 \nL 10.984375 69.390625 \nL 28.421875 72.90625 \nL 38.28125 72.90625 \nL 38.28125 8.296875 \nL 54.390625 8.296875 \nL 54.390625 0 \nL 12.40625 0 \nz\n\" id=\"DejaVuSans-49\"/>\n      <path d=\"M 8.203125 72.90625 \nL 55.078125 72.90625 \nL 55.078125 68.703125 \nL 28.609375 0 \nL 18.3125 0 \nL 43.21875 64.59375 \nL 8.203125 64.59375 \nz\n\" id=\"DejaVuSans-55\"/>\n     </defs>\n     <g transform=\"translate(246.276408 394.6253)scale(0.12 -0.12)\">\n      <use xlink:href=\"#DejaVuSans-49\"/>\n      <use x=\"63.623047\" xlink:href=\"#DejaVuSans-55\"/>\n     </g>\n    </g>\n   </g>\n   <g id=\"text_4\">\n    <g clip-path=\"url(#p0bc52982b8)\">\n     <!-- 3 -->\n     <defs>\n      <path d=\"M 40.578125 39.3125 \nQ 47.65625 37.796875 51.625 33 \nQ 55.609375 28.21875 55.609375 21.1875 \nQ 55.609375 10.40625 48.1875 4.484375 \nQ 40.765625 -1.421875 27.09375 -1.421875 \nQ 22.515625 -1.421875 17.65625 -0.515625 \nQ 12.796875 0.390625 7.625 2.203125 \nL 7.625 11.71875 \nQ 11.71875 9.328125 16.59375 8.109375 \nQ 21.484375 6.890625 26.8125 6.890625 \nQ 36.078125 6.890625 40.9375 10.546875 \nQ 45.796875 14.203125 45.796875 21.1875 \nQ 45.796875 27.640625 41.28125 31.265625 \nQ 36.765625 34.90625 28.71875 34.90625 \nL 20.21875 34.90625 \nL 20.21875 43.015625 \nL 29.109375 43.015625 \nQ 36.375 43.015625 40.234375 45.921875 \nQ 44.09375 48.828125 44.09375 54.296875 \nQ 44.09375 59.90625 40.109375 62.90625 \nQ 36.140625 65.921875 28.71875 65.921875 \nQ 24.65625 65.921875 20.015625 65.03125 \nQ 15.375 64.15625 9.8125 62.3125 \nL 9.8125 71.09375 \nQ 15.4375 72.65625 20.34375 73.4375 \nQ 25.25 74.21875 29.59375 74.21875 \nQ 40.828125 74.21875 47.359375 69.109375 \nQ 53.90625 64.015625 53.90625 55.328125 \nQ 53.90625 49.265625 50.4375 45.09375 \nQ 46.96875 40.921875 40.578125 39.3125 \nz\n\" id=\"DejaVuSans-51\"/>\n     </defs>\n     <g transform=\"translate(86.530134 169.9972)scale(0.12 -0.12)\">\n      <use xlink:href=\"#DejaVuSans-51\"/>\n     </g>\n    </g>\n   </g>\n   <g id=\"text_5\">\n    <g clip-path=\"url(#p0bc52982b8)\">\n     <!-- 19 -->\n     <defs>\n      <path d=\"M 10.984375 1.515625 \nL 10.984375 10.5 \nQ 14.703125 8.734375 18.5 7.8125 \nQ 22.3125 6.890625 25.984375 6.890625 \nQ 35.75 6.890625 40.890625 13.453125 \nQ 46.046875 20.015625 46.78125 33.40625 \nQ 43.953125 29.203125 39.59375 26.953125 \nQ 35.25 24.703125 29.984375 24.703125 \nQ 19.046875 24.703125 12.671875 31.3125 \nQ 6.296875 37.9375 6.296875 49.421875 \nQ 6.296875 60.640625 12.9375 67.421875 \nQ 19.578125 74.21875 30.609375 74.21875 \nQ 43.265625 74.21875 49.921875 64.515625 \nQ 56.59375 54.828125 56.59375 36.375 \nQ 56.59375 19.140625 48.40625 8.859375 \nQ 40.234375 -1.421875 26.421875 -1.421875 \nQ 22.703125 -1.421875 18.890625 -0.6875 \nQ 15.09375 0.046875 10.984375 1.515625 \nz\nM 30.609375 32.421875 \nQ 37.25 32.421875 41.125 36.953125 \nQ 45.015625 41.5 45.015625 49.421875 \nQ 45.015625 57.28125 41.125 61.84375 \nQ 37.25 66.40625 30.609375 66.40625 \nQ 23.96875 66.40625 20.09375 61.84375 \nQ 16.21875 57.28125 16.21875 49.421875 \nQ 16.21875 41.5 20.09375 36.953125 \nQ 23.96875 32.421875 30.609375 32.421875 \nz\n\" id=\"DejaVuSans-57\"/>\n     </defs>\n     <g transform=\"translate(47.986488 282.31125)scale(0.12 -0.12)\">\n      <use xlink:href=\"#DejaVuSans-49\"/>\n      <use x=\"63.623047\" xlink:href=\"#DejaVuSans-57\"/>\n     </g>\n    </g>\n   </g>\n   <g id=\"text_6\">\n    <g clip-path=\"url(#p0bc52982b8)\">\n     <!-- 18 -->\n     <g transform=\"translate(246.276408 506.939349)scale(0.12 -0.12)\">\n      <use xlink:href=\"#DejaVuSans-49\"/>\n      <use x=\"63.623047\" xlink:href=\"#DejaVuSans-56\"/>\n     </g>\n    </g>\n   </g>\n   <g id=\"text_7\">\n    <g clip-path=\"url(#p0bc52982b8)\">\n     <!-- 16 -->\n     <g transform=\"translate(275.159693 282.31125)scale(0.12 -0.12)\">\n      <use xlink:href=\"#DejaVuSans-49\"/>\n      <use x=\"63.623047\" xlink:href=\"#DejaVuSans-54\"/>\n     </g>\n    </g>\n   </g>\n   <g id=\"text_8\">\n    <g clip-path=\"url(#p0bc52982b8)\">\n     <!-- 20 -->\n     <defs>\n      <path d=\"M 31.78125 66.40625 \nQ 24.171875 66.40625 20.328125 58.90625 \nQ 16.5 51.421875 16.5 36.375 \nQ 16.5 21.390625 20.328125 13.890625 \nQ 24.171875 6.390625 31.78125 6.390625 \nQ 39.453125 6.390625 43.28125 13.890625 \nQ 47.125 21.390625 47.125 36.375 \nQ 47.125 51.421875 43.28125 58.90625 \nQ 39.453125 66.40625 31.78125 66.40625 \nz\nM 31.78125 74.21875 \nQ 44.046875 74.21875 50.515625 64.515625 \nQ 56.984375 54.828125 56.984375 36.375 \nQ 56.984375 17.96875 50.515625 8.265625 \nQ 44.046875 -1.421875 31.78125 -1.421875 \nQ 19.53125 -1.421875 13.0625 8.265625 \nQ 6.59375 17.96875 6.59375 36.375 \nQ 6.59375 54.828125 13.0625 64.515625 \nQ 19.53125 74.21875 31.78125 74.21875 \nz\n\" id=\"DejaVuSans-48\"/>\n     </defs>\n     <g transform=\"translate(94.720292 282.31125)scale(0.12 -0.12)\">\n      <use xlink:href=\"#DejaVuSans-50\"/>\n      <use x=\"63.623047\" xlink:href=\"#DejaVuSans-48\"/>\n     </g>\n    </g>\n   </g>\n   <g id=\"text_9\">\n    <g clip-path=\"url(#p0bc52982b8)\">\n     <!-- 23 -->\n     <g transform=\"translate(176.82671 394.6253)scale(0.12 -0.12)\">\n      <use xlink:href=\"#DejaVuSans-50\"/>\n      <use x=\"63.623047\" xlink:href=\"#DejaVuSans-51\"/>\n     </g>\n    </g>\n   </g>\n   <g id=\"text_10\">\n    <g clip-path=\"url(#p0bc52982b8)\">\n     <!-- 22 -->\n     <g transform=\"translate(176.82671 282.31125)scale(0.12 -0.12)\">\n      <use xlink:href=\"#DejaVuSans-50\"/>\n      <use x=\"63.623047\" xlink:href=\"#DejaVuSans-50\"/>\n     </g>\n    </g>\n   </g>\n   <g id=\"text_11\">\n    <g clip-path=\"url(#p0bc52982b8)\">\n     <!-- 10 -->\n     <g transform=\"translate(123.603578 169.9972)scale(0.12 -0.12)\">\n      <use xlink:href=\"#DejaVuSans-49\"/>\n      <use x=\"63.623047\" xlink:href=\"#DejaVuSans-48\"/>\n     </g>\n    </g>\n   </g>\n   <g id=\"text_12\">\n    <g clip-path=\"url(#p0bc52982b8)\">\n     <!-- 25 -->\n     <defs>\n      <path d=\"M 10.796875 72.90625 \nL 49.515625 72.90625 \nL 49.515625 64.59375 \nL 19.828125 64.59375 \nL 19.828125 46.734375 \nQ 21.96875 47.46875 24.109375 47.828125 \nQ 26.265625 48.1875 28.421875 48.1875 \nQ 40.625 48.1875 47.75 41.5 \nQ 54.890625 34.8125 54.890625 23.390625 \nQ 54.890625 11.625 47.5625 5.09375 \nQ 40.234375 -1.421875 26.90625 -1.421875 \nQ 22.3125 -1.421875 17.546875 -0.640625 \nQ 12.796875 0.140625 7.71875 1.703125 \nL 7.71875 11.625 \nQ 12.109375 9.234375 16.796875 8.0625 \nQ 21.484375 6.890625 26.703125 6.890625 \nQ 35.15625 6.890625 40.078125 11.328125 \nQ 45.015625 15.765625 45.015625 23.390625 \nQ 45.015625 31 40.078125 35.4375 \nQ 35.15625 39.890625 26.703125 39.890625 \nQ 22.75 39.890625 18.8125 39.015625 \nQ 14.890625 38.140625 10.796875 36.28125 \nz\n\" id=\"DejaVuSans-53\"/>\n     </defs>\n     <g transform=\"translate(129.769672 282.31125)scale(0.12 -0.12)\">\n      <use xlink:href=\"#DejaVuSans-50\"/>\n      <use x=\"63.623047\" xlink:href=\"#DejaVuSans-53\"/>\n     </g>\n    </g>\n   </g>\n   <g id=\"text_13\">\n    <g clip-path=\"url(#p0bc52982b8)\">\n     <!-- 9 -->\n     <g transform=\"translate(156.628894 169.9972)scale(0.12 -0.12)\">\n      <use xlink:href=\"#DejaVuSans-57\"/>\n     </g>\n    </g>\n   </g>\n   <g id=\"text_14\">\n    <g clip-path=\"url(#p0bc52982b8)\">\n     <!-- 24 -->\n     <defs>\n      <path d=\"M 37.796875 64.3125 \nL 12.890625 25.390625 \nL 37.796875 25.390625 \nz\nM 35.203125 72.90625 \nL 47.609375 72.90625 \nL 47.609375 25.390625 \nL 58.015625 25.390625 \nL 58.015625 17.1875 \nL 47.609375 17.1875 \nL 47.609375 0 \nL 37.796875 0 \nL 37.796875 17.1875 \nL 4.890625 17.1875 \nL 4.890625 26.703125 \nz\n\" id=\"DejaVuSans-52\"/>\n     </defs>\n     <g transform=\"translate(153.135926 282.31125)scale(0.12 -0.12)\">\n      <use xlink:href=\"#DejaVuSans-50\"/>\n      <use x=\"63.623047\" xlink:href=\"#DejaVuSans-52\"/>\n     </g>\n    </g>\n   </g>\n   <g id=\"text_15\">\n    <g clip-path=\"url(#p0bc52982b8)\">\n     <!-- 1 -->\n     <g transform=\"translate(185.836711 169.9972)scale(0.12 -0.12)\">\n      <use xlink:href=\"#DejaVuSans-49\"/>\n     </g>\n    </g>\n   </g>\n   <g id=\"text_16\">\n    <g clip-path=\"url(#p0bc52982b8)\">\n     <!-- 12 -->\n     <g transform=\"translate(217.068591 169.9972)scale(0.12 -0.12)\">\n      <use xlink:href=\"#DejaVuSans-49\"/>\n      <use x=\"63.623047\" xlink:href=\"#DejaVuSans-50\"/>\n     </g>\n    </g>\n   </g>\n   <g id=\"text_17\">\n    <g clip-path=\"url(#p0bc52982b8)\">\n     <!-- 21 -->\n     <g transform=\"translate(217.717654 282.31125)scale(0.12 -0.12)\">\n      <use xlink:href=\"#DejaVuSans-50\"/>\n      <use x=\"63.623047\" xlink:href=\"#DejaVuSans-49\"/>\n     </g>\n    </g>\n   </g>\n   <g id=\"text_18\">\n    <g clip-path=\"url(#p0bc52982b8)\">\n     <!-- 6 -->\n     <g transform=\"translate(250.093908 169.9972)scale(0.12 -0.12)\">\n      <use xlink:href=\"#DejaVuSans-54\"/>\n     </g>\n    </g>\n   </g>\n   <g id=\"text_19\">\n    <g clip-path=\"url(#p0bc52982b8)\">\n     <!-- removed -->\n     <defs>\n      <path d=\"M 41.109375 46.296875 \nQ 39.59375 47.171875 37.8125 47.578125 \nQ 36.03125 48 33.890625 48 \nQ 26.265625 48 22.1875 43.046875 \nQ 18.109375 38.09375 18.109375 28.8125 \nL 18.109375 0 \nL 9.078125 0 \nL 9.078125 54.6875 \nL 18.109375 54.6875 \nL 18.109375 46.1875 \nQ 20.953125 51.171875 25.484375 53.578125 \nQ 30.03125 56 36.53125 56 \nQ 37.453125 56 38.578125 55.875 \nQ 39.703125 55.765625 41.0625 55.515625 \nz\n\" id=\"DejaVuSans-114\"/>\n      <path d=\"M 56.203125 29.59375 \nL 56.203125 25.203125 \nL 14.890625 25.203125 \nQ 15.484375 15.921875 20.484375 11.0625 \nQ 25.484375 6.203125 34.421875 6.203125 \nQ 39.59375 6.203125 44.453125 7.46875 \nQ 49.3125 8.734375 54.109375 11.28125 \nL 54.109375 2.78125 \nQ 49.265625 0.734375 44.1875 -0.34375 \nQ 39.109375 -1.421875 33.890625 -1.421875 \nQ 20.796875 -1.421875 13.15625 6.1875 \nQ 5.515625 13.8125 5.515625 26.8125 \nQ 5.515625 40.234375 12.765625 48.109375 \nQ 20.015625 56 32.328125 56 \nQ 43.359375 56 49.78125 48.890625 \nQ 56.203125 41.796875 56.203125 29.59375 \nz\nM 47.21875 32.234375 \nQ 47.125 39.59375 43.09375 43.984375 \nQ 39.0625 48.390625 32.421875 48.390625 \nQ 24.90625 48.390625 20.390625 44.140625 \nQ 15.875 39.890625 15.1875 32.171875 \nz\n\" id=\"DejaVuSans-101\"/>\n      <path d=\"M 52 44.1875 \nQ 55.375 50.25 60.0625 53.125 \nQ 64.75 56 71.09375 56 \nQ 79.640625 56 84.28125 50.015625 \nQ 88.921875 44.046875 88.921875 33.015625 \nL 88.921875 0 \nL 79.890625 0 \nL 79.890625 32.71875 \nQ 79.890625 40.578125 77.09375 44.375 \nQ 74.3125 48.1875 68.609375 48.1875 \nQ 61.625 48.1875 57.5625 43.546875 \nQ 53.515625 38.921875 53.515625 30.90625 \nL 53.515625 0 \nL 44.484375 0 \nL 44.484375 32.71875 \nQ 44.484375 40.625 41.703125 44.40625 \nQ 38.921875 48.1875 33.109375 48.1875 \nQ 26.21875 48.1875 22.15625 43.53125 \nQ 18.109375 38.875 18.109375 30.90625 \nL 18.109375 0 \nL 9.078125 0 \nL 9.078125 54.6875 \nL 18.109375 54.6875 \nL 18.109375 46.1875 \nQ 21.1875 51.21875 25.484375 53.609375 \nQ 29.78125 56 35.6875 56 \nQ 41.65625 56 45.828125 52.96875 \nQ 50 49.953125 52 44.1875 \nz\n\" id=\"DejaVuSans-109\"/>\n      <path d=\"M 30.609375 48.390625 \nQ 23.390625 48.390625 19.1875 42.75 \nQ 14.984375 37.109375 14.984375 27.296875 \nQ 14.984375 17.484375 19.15625 11.84375 \nQ 23.34375 6.203125 30.609375 6.203125 \nQ 37.796875 6.203125 41.984375 11.859375 \nQ 46.1875 17.53125 46.1875 27.296875 \nQ 46.1875 37.015625 41.984375 42.703125 \nQ 37.796875 48.390625 30.609375 48.390625 \nz\nM 30.609375 56 \nQ 42.328125 56 49.015625 48.375 \nQ 55.71875 40.765625 55.71875 27.296875 \nQ 55.71875 13.875 49.015625 6.21875 \nQ 42.328125 -1.421875 30.609375 -1.421875 \nQ 18.84375 -1.421875 12.171875 6.21875 \nQ 5.515625 13.875 5.515625 27.296875 \nQ 5.515625 40.765625 12.171875 48.375 \nQ 18.84375 56 30.609375 56 \nz\n\" id=\"DejaVuSans-111\"/>\n      <path d=\"M 2.984375 54.6875 \nL 12.5 54.6875 \nL 29.59375 8.796875 \nL 46.6875 54.6875 \nL 56.203125 54.6875 \nL 35.6875 0 \nL 23.484375 0 \nz\n\" id=\"DejaVuSans-118\"/>\n      <path d=\"M 45.40625 46.390625 \nL 45.40625 75.984375 \nL 54.390625 75.984375 \nL 54.390625 0 \nL 45.40625 0 \nL 45.40625 8.203125 \nQ 42.578125 3.328125 38.25 0.953125 \nQ 33.9375 -1.421875 27.875 -1.421875 \nQ 17.96875 -1.421875 11.734375 6.484375 \nQ 5.515625 14.40625 5.515625 27.296875 \nQ 5.515625 40.1875 11.734375 48.09375 \nQ 17.96875 56 27.875 56 \nQ 33.9375 56 38.25 53.625 \nQ 42.578125 51.265625 45.40625 46.390625 \nz\nM 14.796875 27.296875 \nQ 14.796875 17.390625 18.875 11.75 \nQ 22.953125 6.109375 30.078125 6.109375 \nQ 37.203125 6.109375 41.296875 11.75 \nQ 45.40625 17.390625 45.40625 27.296875 \nQ 45.40625 37.203125 41.296875 42.84375 \nQ 37.203125 48.484375 30.078125 48.484375 \nQ 22.953125 48.484375 18.875 42.84375 \nQ 14.796875 37.203125 14.796875 27.296875 \nz\n\" id=\"DejaVuSans-100\"/>\n     </defs>\n     <g transform=\"translate(227.187033 282.31125)scale(0.12 -0.12)\">\n      <use xlink:href=\"#DejaVuSans-114\"/>\n      <use x=\"41.082031\" xlink:href=\"#DejaVuSans-101\"/>\n      <use x=\"102.605469\" xlink:href=\"#DejaVuSans-109\"/>\n      <use x=\"200.017578\" xlink:href=\"#DejaVuSans-111\"/>\n      <use x=\"261.199219\" xlink:href=\"#DejaVuSans-118\"/>\n      <use x=\"320.378906\" xlink:href=\"#DejaVuSans-101\"/>\n      <use x=\"381.902344\" xlink:href=\"#DejaVuSans-100\"/>\n     </g>\n    </g>\n   </g>\n   <g id=\"text_20\">\n    <g clip-path=\"url(#p0bc52982b8)\">\n     <!-- 5 -->\n     <g transform=\"translate(279.301724 169.9972)scale(0.12 -0.12)\">\n      <use xlink:href=\"#DejaVuSans-53\"/>\n     </g>\n    </g>\n   </g>\n   <g id=\"text_21\">\n    <g clip-path=\"url(#p0bc52982b8)\">\n     <!-- 15 -->\n     <g transform=\"translate(310.533604 169.9972)scale(0.12 -0.12)\">\n      <use xlink:href=\"#DejaVuSans-49\"/>\n      <use x=\"63.623047\" xlink:href=\"#DejaVuSans-53\"/>\n     </g>\n    </g>\n   </g>\n   <g id=\"text_22\">\n    <g clip-path=\"url(#p0bc52982b8)\">\n     <!-- 14 -->\n     <g transform=\"translate(339.741421 169.9972)scale(0.12 -0.12)\">\n      <use xlink:href=\"#DejaVuSans-49\"/>\n      <use x=\"63.623047\" xlink:href=\"#DejaVuSans-52\"/>\n     </g>\n    </g>\n   </g>\n   <g id=\"text_23\">\n    <g clip-path=\"url(#p0bc52982b8)\">\n     <!-- 13 -->\n     <g transform=\"translate(368.945992 169.9972)scale(0.12 -0.12)\">\n      <use xlink:href=\"#DejaVuSans-49\"/>\n      <use x=\"63.623047\" xlink:href=\"#DejaVuSans-51\"/>\n     </g>\n    </g>\n   </g>\n   <g id=\"text_24\">\n    <g clip-path=\"url(#p0bc52982b8)\">\n     <!-- 11 -->\n     <g transform=\"translate(398.153809 169.9972)scale(0.12 -0.12)\">\n      <use xlink:href=\"#DejaVuSans-49\"/>\n      <use x=\"63.623047\" xlink:href=\"#DejaVuSans-49\"/>\n     </g>\n    </g>\n   </g>\n   <g id=\"text_25\">\n    <g clip-path=\"url(#p0bc52982b8)\">\n     <!-- 7 -->\n     <g transform=\"translate(431.179126 169.9972)scale(0.12 -0.12)\">\n      <use xlink:href=\"#DejaVuSans-55\"/>\n     </g>\n    </g>\n   </g>\n   <g id=\"text_26\">\n    <g clip-path=\"url(#p0bc52982b8)\">\n     <!-- 2 -->\n     <g transform=\"translate(460.386942 169.9972)scale(0.12 -0.12)\">\n      <use xlink:href=\"#DejaVuSans-50\"/>\n     </g>\n    </g>\n   </g>\n   <g id=\"text_27\">\n    <g clip-path=\"url(#p0bc52982b8)\">\n     <!-- start -->\n     <defs>\n      <path d=\"M 44.28125 53.078125 \nL 44.28125 44.578125 \nQ 40.484375 46.53125 36.375 47.5 \nQ 32.28125 48.484375 27.875 48.484375 \nQ 21.1875 48.484375 17.84375 46.4375 \nQ 14.5 44.390625 14.5 40.28125 \nQ 14.5 37.15625 16.890625 35.375 \nQ 19.28125 33.59375 26.515625 31.984375 \nL 29.59375 31.296875 \nQ 39.15625 29.25 43.1875 25.515625 \nQ 47.21875 21.78125 47.21875 15.09375 \nQ 47.21875 7.46875 41.1875 3.015625 \nQ 35.15625 -1.421875 24.609375 -1.421875 \nQ 20.21875 -1.421875 15.453125 -0.5625 \nQ 10.6875 0.296875 5.421875 2 \nL 5.421875 11.28125 \nQ 10.40625 8.6875 15.234375 7.390625 \nQ 20.0625 6.109375 24.8125 6.109375 \nQ 31.15625 6.109375 34.5625 8.28125 \nQ 37.984375 10.453125 37.984375 14.40625 \nQ 37.984375 18.0625 35.515625 20.015625 \nQ 33.0625 21.96875 24.703125 23.78125 \nL 21.578125 24.515625 \nQ 13.234375 26.265625 9.515625 29.90625 \nQ 5.8125 33.546875 5.8125 39.890625 \nQ 5.8125 47.609375 11.28125 51.796875 \nQ 16.75 56 26.8125 56 \nQ 31.78125 56 36.171875 55.265625 \nQ 40.578125 54.546875 44.28125 53.078125 \nz\n\" id=\"DejaVuSans-115\"/>\n      <path d=\"M 18.3125 70.21875 \nL 18.3125 54.6875 \nL 36.8125 54.6875 \nL 36.8125 47.703125 \nL 18.3125 47.703125 \nL 18.3125 18.015625 \nQ 18.3125 11.328125 20.140625 9.421875 \nQ 21.96875 7.515625 27.59375 7.515625 \nL 36.8125 7.515625 \nL 36.8125 0 \nL 27.59375 0 \nQ 17.1875 0 13.234375 3.875 \nQ 9.28125 7.765625 9.28125 18.015625 \nL 9.28125 47.703125 \nL 2.6875 47.703125 \nL 2.6875 54.6875 \nL 9.28125 54.6875 \nL 9.28125 70.21875 \nz\n\" id=\"DejaVuSans-116\"/>\n      <path d=\"M 34.28125 27.484375 \nQ 23.390625 27.484375 19.1875 25 \nQ 14.984375 22.515625 14.984375 16.5 \nQ 14.984375 11.71875 18.140625 8.90625 \nQ 21.296875 6.109375 26.703125 6.109375 \nQ 34.1875 6.109375 38.703125 11.40625 \nQ 43.21875 16.703125 43.21875 25.484375 \nL 43.21875 27.484375 \nz\nM 52.203125 31.203125 \nL 52.203125 0 \nL 43.21875 0 \nL 43.21875 8.296875 \nQ 40.140625 3.328125 35.546875 0.953125 \nQ 30.953125 -1.421875 24.3125 -1.421875 \nQ 15.921875 -1.421875 10.953125 3.296875 \nQ 6 8.015625 6 15.921875 \nQ 6 25.140625 12.171875 29.828125 \nQ 18.359375 34.515625 30.609375 34.515625 \nL 43.21875 34.515625 \nL 43.21875 35.40625 \nQ 43.21875 41.609375 39.140625 45 \nQ 35.0625 48.390625 27.6875 48.390625 \nQ 23 48.390625 18.546875 47.265625 \nQ 14.109375 46.140625 10.015625 43.890625 \nL 10.015625 52.203125 \nQ 14.9375 54.109375 19.578125 55.046875 \nQ 24.21875 56 28.609375 56 \nQ 40.484375 56 46.34375 49.84375 \nQ 52.203125 43.703125 52.203125 31.203125 \nz\n\" id=\"DejaVuSans-97\"/>\n     </defs>\n     <g transform=\"translate(286.670477 57.683151)scale(0.12 -0.12)\">\n      <use xlink:href=\"#DejaVuSans-115\"/>\n      <use x=\"52.099609\" xlink:href=\"#DejaVuSans-116\"/>\n      <use x=\"91.308594\" xlink:href=\"#DejaVuSans-97\"/>\n      <use x=\"152.587891\" xlink:href=\"#DejaVuSans-114\"/>\n      <use x=\"193.701172\" xlink:href=\"#DejaVuSans-116\"/>\n     </g>\n    </g>\n   </g>\n   <g id=\"text_28\">\n    <g clip-path=\"url(#p0bc52982b8)\">\n     <!-- 0 -->\n     <g transform=\"translate(489.594759 169.9972)scale(0.12 -0.12)\">\n      <use xlink:href=\"#DejaVuSans-48\"/>\n     </g>\n    </g>\n   </g>\n   <g id=\"text_29\">\n    <g clip-path=\"url(#p0bc52982b8)\">\n     <!-- 4 -->\n     <g transform=\"translate(512.961012 169.9972)scale(0.12 -0.12)\">\n      <use xlink:href=\"#DejaVuSans-52\"/>\n     </g>\n    </g>\n   </g>\n  </g>\n </g>\n <defs>\n  <clipPath id=\"p0bc52982b8\">\n   <rect height=\"543.6\" width=\"558\" x=\"7.2\" y=\"7.2\"/>\n  </clipPath>\n </defs>\n</svg>\n",
      "image/png": "[encoded data removed]"
     },
     "metadata": {}
    }
   ],
   "source": [
    "from matplotlib import pyplot as plt\n",
    "\n",
    "plt.figure(figsize=(10,10))\n",
    "pos = nx.nx_pydot.graphviz_layout(col_graph,prog=\"dot\")\n",
    "#nx.draw_networkx(col_graph,pos=pos,connectionstyle='arc3, rad = 0.2')\n",
    "edge_labels=dict([((u,v,),d['state'])\n",
    "             for u,v,d in col_graph.edges(data=True)])\n",
    "nx.draw_networkx(col_graph,pos=pos,connectionstyle='arc3, rad = 0.2')\n",
    "#nx.draw_networkx_edge_labels(col_graph, pos, edge_labels=edge_labels,connectionstyle='arc3, rad = 0.2')\n",
    "plt.show()"
   ]
  },
  {
   "cell_type": "code",
   "execution_count": 110,
   "metadata": {},
   "outputs": [
    {
     "output_type": "display_data",
     "data": {
      "text/plain": "<Figure size 720x720 with 1 Axes>",
      "image/svg+xml": "<?xml version=\"1.0\" encoding=\"utf-8\" standalone=\"no\"?>\n<!DOCTYPE svg PUBLIC \"-//W3C//DTD SVG 1.1//EN\"\n  \"http://www.w3.org/Graphics/SVG/1.1/DTD/svg11.dtd\">\n<!-- Created with matplotlib (https://matplotlib.org/) -->\n<svg height=\"734.4pt\" version=\"1.1\" viewBox=\"0 0 734.4 734.4\" width=\"734.4pt\" xmlns=\"http://www.w3.org/2000/svg\" xmlns:xlink=\"http://www.w3.org/1999/xlink\">\n <defs>\n  <style type=\"text/css\">\n*{stroke-linecap:butt;stroke-linejoin:round;}\n  </style>\n </defs>\n <g id=\"figure_1\">\n  <g id=\"patch_1\">\n   <path d=\"M 0 734.4 \nL 734.4 734.4 \nL 734.4 0 \nL 0 0 \nz\n\" style=\"fill:#ffffff;\"/>\n  </g>\n  <g id=\"axes_1\">\n   <g id=\"patch_2\">\n    <path clip-path=\"url(#p7044c9cc8d)\" d=\"M 133.36961 432.947593 \nQ 108.031117 432.184363 85.171085 439.449991 \n\" style=\"fill:none;stroke:#000000;stroke-linecap:round;\"/>\n    <path clip-path=\"url(#p7044c9cc8d)\" d=\"M 89.588974 440.144435 \nL 85.171085 439.449991 \nL 88.377374 436.332346 \nL 89.588974 440.144435 \nz\n\" style=\"stroke:#000000;stroke-linecap:round;\"/>\n   </g>\n   <g id=\"patch_3\">\n    <path clip-path=\"url(#p7044c9cc8d)\" d=\"M 133.36961 432.947593 \nQ 133.36961 432.947593 133.36961 432.947593 \n\" style=\"fill:none;stroke:#000000;stroke-linecap:round;\"/>\n   </g>\n   <g id=\"patch_4\">\n    <path clip-path=\"url(#p7044c9cc8d)\" d=\"M 133.36961 432.947593 \nQ 133.36961 432.947593 133.36961 432.947593 \n\" style=\"fill:none;stroke:#000000;stroke-linecap:round;\"/>\n   </g>\n   <g id=\"patch_5\">\n    <path clip-path=\"url(#p7044c9cc8d)\" d=\"M 320.31409 512.68631 \nQ 208.97735 455.216023 85.666708 443.514556 \n\" style=\"fill:none;stroke:#000000;stroke-linecap:round;\"/>\n    <path clip-path=\"url(#p7044c9cc8d)\" d=\"M 89.459879 445.883491 \nL 85.666708 443.514556 \nL 89.837758 441.90138 \nL 89.459879 445.883491 \nz\n\" style=\"stroke:#000000;stroke-linecap:round;\"/>\n   </g>\n   <g id=\"patch_6\">\n    <path clip-path=\"url(#p7044c9cc8d)\" d=\"M 320.31409 512.68631 \nQ 320.31409 512.68631 320.31409 512.68631 \n\" style=\"fill:none;stroke:#000000;stroke-linecap:round;\"/>\n   </g>\n   <g id=\"patch_7\">\n    <path clip-path=\"url(#p7044c9cc8d)\" d=\"M 320.31409 512.68631 \nQ 320.31409 512.68631 320.31409 512.68631 \n\" style=\"fill:none;stroke:#000000;stroke-linecap:round;\"/>\n   </g>\n   <g id=\"patch_8\">\n    <path clip-path=\"url(#p7044c9cc8d)\" d=\"M 320.31409 512.68631 \nQ 320.31409 512.68631 320.31409 512.68631 \n\" style=\"fill:none;stroke:#000000;stroke-linecap:round;\"/>\n   </g>\n   <g id=\"patch_9\">\n    <path clip-path=\"url(#p7044c9cc8d)\" d=\"M 320.31409 512.68631 \nQ 432.157423 569.579178 555.72213 580.563011 \n\" style=\"fill:none;stroke:#000000;stroke-linecap:round;\"/>\n    <path clip-path=\"url(#p7044c9cc8d)\" d=\"M 551.914925 578.216697 \nL 555.72213 580.563011 \nL 551.560756 582.200987 \nL 551.914925 578.216697 \nz\n\" style=\"stroke:#000000;stroke-linecap:round;\"/>\n   </g>\n   <g id=\"patch_10\">\n    <path clip-path=\"url(#p7044c9cc8d)\" d=\"M 417.772293 485.817392 \nQ 417.772293 485.817392 417.772293 485.817392 \n\" style=\"fill:none;stroke:#000000;stroke-linecap:round;\"/>\n   </g>\n   <g id=\"patch_11\">\n    <path clip-path=\"url(#p7044c9cc8d)\" d=\"M 417.772293 485.817392 \nQ 417.772293 485.817392 417.772293 485.817392 \n\" style=\"fill:none;stroke:#000000;stroke-linecap:round;\"/>\n   </g>\n   <g id=\"patch_12\">\n    <path clip-path=\"url(#p7044c9cc8d)\" d=\"M 417.772293 485.817392 \nQ 417.772293 485.817392 417.772293 485.817392 \n\" style=\"fill:none;stroke:#000000;stroke-linecap:round;\"/>\n   </g>\n   <g id=\"patch_13\">\n    <path clip-path=\"url(#p7044c9cc8d)\" d=\"M 417.772293 485.817392 \nQ 546.30053 464.560189 656.392633 397.62471 \n\" style=\"fill:none;stroke:#000000;stroke-linecap:round;\"/>\n    <path clip-path=\"url(#p7044c9cc8d)\" d=\"M 651.935756 397.993822 \nL 656.392633 397.62471 \nL 654.013797 401.411679 \nL 651.935756 397.993822 \nz\n\" style=\"stroke:#000000;stroke-linecap:round;\"/>\n   </g>\n   <g id=\"patch_14\">\n    <path clip-path=\"url(#p7044c9cc8d)\" d=\"M 417.772293 485.817392 \nQ 288.811652 507.239312 178.382428 574.493335 \n\" style=\"fill:none;stroke:#000000;stroke-linecap:round;\"/>\n    <path clip-path=\"url(#p7044c9cc8d)\" d=\"M 182.839027 574.120878 \nL 178.382428 574.493335 \nL 180.758422 570.704582 \nL 182.839027 574.120878 \nz\n\" style=\"stroke:#000000;stroke-linecap:round;\"/>\n   </g>\n   <g id=\"patch_15\">\n    <path clip-path=\"url(#p7044c9cc8d)\" d=\"M 664.720661 392.498289 \nQ 664.720661 392.498289 664.720661 392.498289 \n\" style=\"fill:none;stroke:#000000;stroke-linecap:round;\"/>\n   </g>\n   <g id=\"patch_16\">\n    <path clip-path=\"url(#p7044c9cc8d)\" d=\"M 664.720661 392.498289 \nQ 664.720661 392.498289 664.720661 392.498289 \n\" style=\"fill:none;stroke:#000000;stroke-linecap:round;\"/>\n   </g>\n   <g id=\"patch_17\">\n    <path clip-path=\"url(#p7044c9cc8d)\" d=\"M 664.720661 392.498289 \nQ 664.720661 392.498289 664.720661 392.498289 \n\" style=\"fill:none;stroke:#000000;stroke-linecap:round;\"/>\n   </g>\n   <g id=\"patch_18\">\n    <path clip-path=\"url(#p7044c9cc8d)\" d=\"M 664.720661 392.498289 \nQ 664.720661 392.498289 664.720661 392.498289 \n\" style=\"fill:none;stroke:#000000;stroke-linecap:round;\"/>\n   </g>\n   <g id=\"patch_19\">\n    <path clip-path=\"url(#p7044c9cc8d)\" d=\"M 565.467794 581.373252 \nQ 565.467794 581.373252 565.467794 581.373252 \n\" style=\"fill:none;stroke:#000000;stroke-linecap:round;\"/>\n   </g>\n   <g id=\"patch_20\">\n    <path clip-path=\"url(#p7044c9cc8d)\" d=\"M 565.467794 581.373252 \nQ 565.467794 581.373252 565.467794 581.373252 \n\" style=\"fill:none;stroke:#000000;stroke-linecap:round;\"/>\n   </g>\n   <g id=\"patch_21\">\n    <path clip-path=\"url(#p7044c9cc8d)\" d=\"M 565.467794 581.373252 \nQ 565.467794 581.373252 565.467794 581.373252 \n\" style=\"fill:none;stroke:#000000;stroke-linecap:round;\"/>\n   </g>\n   <g id=\"patch_22\">\n    <path clip-path=\"url(#p7044c9cc8d)\" d=\"M 565.467794 581.373252 \nQ 565.467794 581.373252 565.467794 581.373252 \n\" style=\"fill:none;stroke:#000000;stroke-linecap:round;\"/>\n   </g>\n   <g id=\"patch_23\">\n    <path clip-path=\"url(#p7044c9cc8d)\" d=\"M 565.467794 581.373252 \nQ 565.467794 581.373252 565.467794 581.373252 \n\" style=\"fill:none;stroke:#000000;stroke-linecap:round;\"/>\n   </g>\n   <g id=\"patch_24\">\n    <path clip-path=\"url(#p7044c9cc8d)\" d=\"M 329.511574 492.452191 \nQ 329.511574 492.452191 329.511574 492.452191 \n\" style=\"fill:none;stroke:#000000;stroke-linecap:round;\"/>\n   </g>\n   <g id=\"patch_25\">\n    <path clip-path=\"url(#p7044c9cc8d)\" d=\"M 329.511574 492.452191 \nQ 329.511574 492.452191 329.511574 492.452191 \n\" style=\"fill:none;stroke:#000000;stroke-linecap:round;\"/>\n   </g>\n   <g id=\"patch_26\">\n    <path clip-path=\"url(#p7044c9cc8d)\" d=\"M 329.511574 492.452191 \nQ 329.511574 492.452191 329.511574 492.452191 \n\" style=\"fill:none;stroke:#000000;stroke-linecap:round;\"/>\n   </g>\n   <g id=\"patch_27\">\n    <path clip-path=\"url(#p7044c9cc8d)\" d=\"M 329.511574 492.452191 \nQ 325.45114 498.091606 323.328322 503.384911 \n\" style=\"fill:none;stroke:#000000;stroke-linecap:round;\"/>\n    <path clip-path=\"url(#p7044c9cc8d)\" d=\"M 326.673495 500.416777 \nL 323.328322 503.384911 \nL 322.960919 498.927892 \nL 326.673495 500.416777 \nz\n\" style=\"stroke:#000000;stroke-linecap:round;\"/>\n   </g>\n   <g id=\"patch_28\">\n    <path clip-path=\"url(#p7044c9cc8d)\" d=\"M 170.061408 579.623815 \nQ 170.061408 579.623815 170.061408 579.623815 \n\" style=\"fill:none;stroke:#000000;stroke-linecap:round;\"/>\n   </g>\n   <g id=\"patch_29\">\n    <path clip-path=\"url(#p7044c9cc8d)\" d=\"M 170.061408 579.623815 \nQ 170.061408 579.623815 170.061408 579.623815 \n\" style=\"fill:none;stroke:#000000;stroke-linecap:round;\"/>\n   </g>\n   <g id=\"patch_30\">\n    <path clip-path=\"url(#p7044c9cc8d)\" d=\"M 378.822098 664.720661 \nQ 378.822098 664.720661 378.822098 664.720661 \n\" style=\"fill:none;stroke:#000000;stroke-linecap:round;\"/>\n   </g>\n   <g id=\"patch_31\">\n    <path clip-path=\"url(#p7044c9cc8d)\" d=\"M 378.822098 664.720661 \nQ 378.822098 664.720661 378.822098 664.720661 \n\" style=\"fill:none;stroke:#000000;stroke-linecap:round;\"/>\n   </g>\n   <g id=\"patch_32\">\n    <path clip-path=\"url(#p7044c9cc8d)\" d=\"M 378.822098 664.720661 \nQ 378.822098 664.720661 378.822098 664.720661 \n\" style=\"fill:none;stroke:#000000;stroke-linecap:round;\"/>\n   </g>\n   <g id=\"patch_33\">\n    <path clip-path=\"url(#p7044c9cc8d)\" d=\"M 363.975001 579.924435 \nQ 363.975001 579.924435 363.975001 579.924435 \n\" style=\"fill:none;stroke:#000000;stroke-linecap:round;\"/>\n   </g>\n   <g id=\"patch_34\">\n    <path clip-path=\"url(#p7044c9cc8d)\" d=\"M 363.975001 579.924435 \nQ 363.975001 579.924435 363.975001 579.924435 \n\" style=\"fill:none;stroke:#000000;stroke-linecap:round;\"/>\n   </g>\n   <g id=\"patch_35\">\n    <path clip-path=\"url(#p7044c9cc8d)\" d=\"M 363.975001 579.924435 \nQ 363.975001 579.924435 363.975001 579.924435 \n\" style=\"fill:none;stroke:#000000;stroke-linecap:round;\"/>\n   </g>\n   <g id=\"patch_36\">\n    <path clip-path=\"url(#p7044c9cc8d)\" d=\"M 363.975001 579.924435 \nQ 363.023509 619.461562 375.473852 655.531423 \n\" style=\"fill:none;stroke:#000000;stroke-linecap:round;\"/>\n    <path clip-path=\"url(#p7044c9cc8d)\" d=\"M 376.059267 651.097769 \nL 375.473852 655.531423 \nL 372.278177 652.402899 \nL 376.059267 651.097769 \nz\n\" style=\"stroke:#000000;stroke-linecap:round;\"/>\n   </g>\n   <g id=\"patch_37\">\n    <path clip-path=\"url(#p7044c9cc8d)\" d=\"M 158.027442 182.014096 \nQ 152.332076 171.544802 144.803262 164.05635 \n\" style=\"fill:none;stroke:#000000;stroke-linecap:round;\"/>\n    <path clip-path=\"url(#p7044c9cc8d)\" d=\"M 146.228873 168.295175 \nL 144.803262 164.05635 \nL 149.049688 165.459155 \nL 146.228873 168.295175 \nz\n\" style=\"stroke:#000000;stroke-linecap:round;\"/>\n   </g>\n   <g id=\"patch_38\">\n    <path clip-path=\"url(#p7044c9cc8d)\" d=\"M 158.027442 182.014096 \nQ 158.027442 182.014096 158.027442 182.014096 \n\" style=\"fill:none;stroke:#000000;stroke-linecap:round;\"/>\n   </g>\n   <g id=\"patch_39\">\n    <path clip-path=\"url(#p7044c9cc8d)\" d=\"M 479.629065 135.565382 \nQ 486.299902 127.819359 490.055226 119.708376 \n\" style=\"fill:none;stroke:#000000;stroke-linecap:round;\"/>\n    <path clip-path=\"url(#p7044c9cc8d)\" d=\"M 486.55973 122.497912 \nL 490.055226 119.708376 \nL 490.189557 124.178494 \nL 486.55973 122.497912 \nz\n\" style=\"stroke:#000000;stroke-linecap:round;\"/>\n   </g>\n   <g id=\"patch_40\">\n    <path clip-path=\"url(#p7044c9cc8d)\" d=\"M 479.629065 135.565382 \nQ 479.629065 135.565382 479.629065 135.565382 \n\" style=\"fill:none;stroke:#000000;stroke-linecap:round;\"/>\n   </g>\n   <g id=\"patch_41\">\n    <path clip-path=\"url(#p7044c9cc8d)\" d=\"M 365.014122 536.46073 \nQ 361.105399 553.834102 362.697715 570.228778 \n\" style=\"fill:none;stroke:#000000;stroke-linecap:round;\"/>\n    <path clip-path=\"url(#p7044c9cc8d)\" d=\"M 364.301672 566.054173 \nL 362.697715 570.228778 \nL 360.320405 566.44085 \nL 364.301672 566.054173 \nz\n\" style=\"stroke:#000000;stroke-linecap:round;\"/>\n   </g>\n   <g id=\"patch_42\">\n    <path clip-path=\"url(#p7044c9cc8d)\" d=\"M 365.014122 536.46073 \nQ 365.014122 536.46073 365.014122 536.46073 \n\" style=\"fill:none;stroke:#000000;stroke-linecap:round;\"/>\n   </g>\n   <g id=\"patch_43\">\n    <path clip-path=\"url(#p7044c9cc8d)\" d=\"M 365.014122 536.46073 \nQ 365.014122 536.46073 365.014122 536.46073 \n\" style=\"fill:none;stroke:#000000;stroke-linecap:round;\"/>\n   </g>\n   <g id=\"patch_44\">\n    <path clip-path=\"url(#p7044c9cc8d)\" d=\"M 342.092543 100.404723 \nQ 344.23771 89.313088 343.293351 79.354783 \n\" style=\"fill:none;stroke:#000000;stroke-linecap:round;\"/>\n    <path clip-path=\"url(#p7044c9cc8d)\" d=\"M 341.679915 83.525732 \nL 343.293351 79.354783 \nL 345.66205 83.148102 \nL 341.679915 83.525732 \nz\n\" style=\"stroke:#000000;stroke-linecap:round;\"/>\n   </g>\n   <g id=\"patch_45\">\n    <path clip-path=\"url(#p7044c9cc8d)\" d=\"M 342.092543 100.404723 \nQ 342.092543 100.404723 342.092543 100.404723 \n\" style=\"fill:none;stroke:#000000;stroke-linecap:round;\"/>\n   </g>\n   <g id=\"patch_46\">\n    <path clip-path=\"url(#p7044c9cc8d)\" d=\"M 555.53019 297.240304 \nQ 585.423072 293.19224 610.954163 279.884904 \n\" style=\"fill:none;stroke:#000000;stroke-linecap:round;\"/>\n    <path clip-path=\"url(#p7044c9cc8d)\" d=\"M 606.48266 279.960176 \nL 610.954163 279.884904 \nL 608.331479 283.507269 \nL 606.48266 279.960176 \nz\n\" style=\"stroke:#000000;stroke-linecap:round;\"/>\n   </g>\n   <g id=\"patch_47\">\n    <path clip-path=\"url(#p7044c9cc8d)\" d=\"M 555.53019 297.240304 \nQ 555.53019 297.240304 555.53019 297.240304 \n\" style=\"fill:none;stroke:#000000;stroke-linecap:round;\"/>\n   </g>\n   <g id=\"patch_48\">\n    <path clip-path=\"url(#p7044c9cc8d)\" d=\"M 304.954432 482.059979 \nQ 312.575842 487.248683 320.094969 489.817553 \n\" style=\"fill:none;stroke:#000000;stroke-linecap:round;\"/>\n    <path clip-path=\"url(#p7044c9cc8d)\" d=\"M 316.956375 486.631768 \nL 320.094969 489.817553 \nL 315.663185 490.416958 \nL 316.956375 486.631768 \nz\n\" style=\"stroke:#000000;stroke-linecap:round;\"/>\n   </g>\n   <g id=\"patch_49\">\n    <path clip-path=\"url(#p7044c9cc8d)\" d=\"M 304.954432 482.059979 \nQ 304.954432 482.059979 304.954432 482.059979 \n\" style=\"fill:none;stroke:#000000;stroke-linecap:round;\"/>\n   </g>\n   <g id=\"patch_50\">\n    <path clip-path=\"url(#p7044c9cc8d)\" d=\"M 304.954432 482.059979 \nQ 304.954432 482.059979 304.954432 482.059979 \n\" style=\"fill:none;stroke:#000000;stroke-linecap:round;\"/>\n   </g>\n   <g id=\"patch_51\">\n    <path clip-path=\"url(#p7044c9cc8d)\" d=\"M 607.809724 169.415141 \nQ 607.809724 169.415141 607.809724 169.415141 \n\" style=\"fill:none;stroke:#000000;stroke-linecap:round;\"/>\n   </g>\n   <g id=\"patch_52\">\n    <path clip-path=\"url(#p7044c9cc8d)\" d=\"M 230.713451 652.587824 \nQ 230.713451 652.587824 230.713451 652.587824 \n\" style=\"fill:none;stroke:#000000;stroke-linecap:round;\"/>\n   </g>\n   <g id=\"patch_53\">\n    <path clip-path=\"url(#p7044c9cc8d)\" d=\"M 69.679339 343.483172 \nQ 69.679339 343.483172 69.679339 343.483172 \n\" style=\"fill:none;stroke:#000000;stroke-linecap:round;\"/>\n   </g>\n   <g id=\"patch_54\">\n    <path clip-path=\"url(#p7044c9cc8d)\" d=\"M 629.657245 487.532655 \nQ 629.657245 487.532655 629.657245 487.532655 \n\" style=\"fill:none;stroke:#000000;stroke-linecap:round;\"/>\n   </g>\n   <g id=\"patch_55\">\n    <path clip-path=\"url(#p7044c9cc8d)\" d=\"M 71.694669 262.564884 \nQ 71.694669 262.564884 71.694669 262.564884 \n\" style=\"fill:none;stroke:#000000;stroke-linecap:round;\"/>\n   </g>\n   <g id=\"patch_56\">\n    <path clip-path=\"url(#p7044c9cc8d)\" d=\"M 102.757214 547.725787 \nQ 102.757214 547.725787 102.757214 547.725787 \n\" style=\"fill:none;stroke:#000000;stroke-linecap:round;\"/>\n   </g>\n   <g id=\"PathCollection_1\">\n    <defs>\n     <path d=\"M 0 8.660254 \nC 2.296726 8.660254 4.499694 7.747755 6.123724 6.123724 \nC 7.747755 4.499694 8.660254 2.296726 8.660254 0 \nC 8.660254 -2.296726 7.747755 -4.499694 6.123724 -6.123724 \nC 4.499694 -7.747755 2.296726 -8.660254 0 -8.660254 \nC -2.296726 -8.660254 -4.499694 -7.747755 -6.123724 -6.123724 \nC -7.747755 -4.499694 -8.660254 -2.296726 -8.660254 0 \nC -8.660254 2.296726 -7.747755 4.499694 -6.123724 6.123724 \nC -4.499694 7.747755 -2.296726 8.660254 0 8.660254 \nz\n\" id=\"m19a3f6fac8\" style=\"stroke:#1f78b4;\"/>\n    </defs>\n    <g clip-path=\"url(#p7044c9cc8d)\">\n     <use style=\"fill:#1f78b4;stroke:#1f78b4;\" x=\"133.36961\" xlink:href=\"#m19a3f6fac8\" y=\"432.947593\"/>\n     <use style=\"fill:#1f78b4;stroke:#1f78b4;\" x=\"75.930794\" xlink:href=\"#m19a3f6fac8\" y=\"442.646789\"/>\n     <use style=\"fill:#1f78b4;stroke:#1f78b4;\" x=\"320.31409\" xlink:href=\"#m19a3f6fac8\" y=\"512.68631\"/>\n     <use style=\"fill:#1f78b4;stroke:#1f78b4;\" x=\"417.772293\" xlink:href=\"#m19a3f6fac8\" y=\"485.817392\"/>\n     <use style=\"fill:#1f78b4;stroke:#1f78b4;\" x=\"664.720661\" xlink:href=\"#m19a3f6fac8\" y=\"392.498289\"/>\n     <use style=\"fill:#1f78b4;stroke:#1f78b4;\" x=\"565.467794\" xlink:href=\"#m19a3f6fac8\" y=\"581.373252\"/>\n     <use style=\"fill:#1f78b4;stroke:#1f78b4;\" x=\"329.511574\" xlink:href=\"#m19a3f6fac8\" y=\"492.452191\"/>\n     <use style=\"fill:#1f78b4;stroke:#1f78b4;\" x=\"170.061408\" xlink:href=\"#m19a3f6fac8\" y=\"579.623815\"/>\n     <use style=\"fill:#1f78b4;stroke:#1f78b4;\" x=\"378.822098\" xlink:href=\"#m19a3f6fac8\" y=\"664.720661\"/>\n     <use style=\"fill:#1f78b4;stroke:#1f78b4;\" x=\"363.975001\" xlink:href=\"#m19a3f6fac8\" y=\"579.924435\"/>\n     <use style=\"fill:#1f78b4;stroke:#1f78b4;\" x=\"158.027442\" xlink:href=\"#m19a3f6fac8\" y=\"182.014096\"/>\n     <use style=\"fill:#1f78b4;stroke:#1f78b4;\" x=\"137.558676\" xlink:href=\"#m19a3f6fac8\" y=\"157.495852\"/>\n     <use style=\"fill:#1f78b4;stroke:#1f78b4;\" x=\"479.629065\" xlink:href=\"#m19a3f6fac8\" y=\"135.565382\"/>\n     <use style=\"fill:#1f78b4;stroke:#1f78b4;\" x=\"493.693106\" xlink:href=\"#m19a3f6fac8\" y=\"110.631108\"/>\n     <use style=\"fill:#1f78b4;stroke:#1f78b4;\" x=\"365.014122\" xlink:href=\"#m19a3f6fac8\" y=\"536.46073\"/>\n     <use style=\"fill:#1f78b4;stroke:#1f78b4;\" x=\"342.092543\" xlink:href=\"#m19a3f6fac8\" y=\"100.404723\"/>\n     <use style=\"fill:#1f78b4;stroke:#1f78b4;\" x=\"341.897428\" xlink:href=\"#m19a3f6fac8\" y=\"69.679339\"/>\n     <use style=\"fill:#1f78b4;stroke:#1f78b4;\" x=\"555.53019\" xlink:href=\"#m19a3f6fac8\" y=\"297.240304\"/>\n     <use style=\"fill:#1f78b4;stroke:#1f78b4;\" x=\"619.52535\" xlink:href=\"#m19a3f6fac8\" y=\"275.177569\"/>\n     <use style=\"fill:#1f78b4;stroke:#1f78b4;\" x=\"304.954432\" xlink:href=\"#m19a3f6fac8\" y=\"482.059979\"/>\n     <use style=\"fill:#1f78b4;stroke:#1f78b4;\" x=\"607.809724\" xlink:href=\"#m19a3f6fac8\" y=\"169.415141\"/>\n     <use style=\"fill:#1f78b4;stroke:#1f78b4;\" x=\"230.713451\" xlink:href=\"#m19a3f6fac8\" y=\"652.587824\"/>\n     <use style=\"fill:#1f78b4;stroke:#1f78b4;\" x=\"69.679339\" xlink:href=\"#m19a3f6fac8\" y=\"343.483172\"/>\n     <use style=\"fill:#1f78b4;stroke:#1f78b4;\" x=\"629.657245\" xlink:href=\"#m19a3f6fac8\" y=\"487.532655\"/>\n     <use style=\"fill:#1f78b4;stroke:#1f78b4;\" x=\"71.694669\" xlink:href=\"#m19a3f6fac8\" y=\"262.564884\"/>\n     <use style=\"fill:#1f78b4;stroke:#1f78b4;\" x=\"102.757214\" xlink:href=\"#m19a3f6fac8\" y=\"547.725787\"/>\n    </g>\n   </g>\n   <g id=\"text_1\">\n    <g clip-path=\"url(#p7044c9cc8d)\">\n     <!-- 8 -->\n     <defs>\n      <path d=\"M 31.78125 34.625 \nQ 24.75 34.625 20.71875 30.859375 \nQ 16.703125 27.09375 16.703125 20.515625 \nQ 16.703125 13.921875 20.71875 10.15625 \nQ 24.75 6.390625 31.78125 6.390625 \nQ 38.8125 6.390625 42.859375 10.171875 \nQ 46.921875 13.96875 46.921875 20.515625 \nQ 46.921875 27.09375 42.890625 30.859375 \nQ 38.875 34.625 31.78125 34.625 \nz\nM 21.921875 38.8125 \nQ 15.578125 40.375 12.03125 44.71875 \nQ 8.5 49.078125 8.5 55.328125 \nQ 8.5 64.0625 14.71875 69.140625 \nQ 20.953125 74.21875 31.78125 74.21875 \nQ 42.671875 74.21875 48.875 69.140625 \nQ 55.078125 64.0625 55.078125 55.328125 \nQ 55.078125 49.078125 51.53125 44.71875 \nQ 48 40.375 41.703125 38.8125 \nQ 48.828125 37.15625 52.796875 32.3125 \nQ 56.78125 27.484375 56.78125 20.515625 \nQ 56.78125 9.90625 50.3125 4.234375 \nQ 43.84375 -1.421875 31.78125 -1.421875 \nQ 19.734375 -1.421875 13.25 4.234375 \nQ 6.78125 9.90625 6.78125 20.515625 \nQ 6.78125 27.484375 10.78125 32.3125 \nQ 14.796875 37.15625 21.921875 38.8125 \nz\nM 18.3125 54.390625 \nQ 18.3125 48.734375 21.84375 45.5625 \nQ 25.390625 42.390625 31.78125 42.390625 \nQ 38.140625 42.390625 41.71875 45.5625 \nQ 45.3125 48.734375 45.3125 54.390625 \nQ 45.3125 60.0625 41.71875 63.234375 \nQ 38.140625 66.40625 31.78125 66.40625 \nQ 25.390625 66.40625 21.84375 63.234375 \nQ 18.3125 60.0625 18.3125 54.390625 \nz\n\" id=\"DejaVuSans-56\"/>\n     </defs>\n     <g transform=\"translate(129.55211 436.258843)scale(0.12 -0.12)\">\n      <use xlink:href=\"#DejaVuSans-56\"/>\n     </g>\n    </g>\n   </g>\n   <g id=\"text_2\">\n    <g clip-path=\"url(#p7044c9cc8d)\">\n     <!-- 26 -->\n     <defs>\n      <path d=\"M 19.1875 8.296875 \nL 53.609375 8.296875 \nL 53.609375 0 \nL 7.328125 0 \nL 7.328125 8.296875 \nQ 12.9375 14.109375 22.625 23.890625 \nQ 32.328125 33.6875 34.8125 36.53125 \nQ 39.546875 41.84375 41.421875 45.53125 \nQ 43.3125 49.21875 43.3125 52.78125 \nQ 43.3125 58.59375 39.234375 62.25 \nQ 35.15625 65.921875 28.609375 65.921875 \nQ 23.96875 65.921875 18.8125 64.3125 \nQ 13.671875 62.703125 7.8125 59.421875 \nL 7.8125 69.390625 \nQ 13.765625 71.78125 18.9375 73 \nQ 24.125 74.21875 28.421875 74.21875 \nQ 39.75 74.21875 46.484375 68.546875 \nQ 53.21875 62.890625 53.21875 53.421875 \nQ 53.21875 48.921875 51.53125 44.890625 \nQ 49.859375 40.875 45.40625 35.40625 \nQ 44.1875 33.984375 37.640625 27.21875 \nQ 31.109375 20.453125 19.1875 8.296875 \nz\n\" id=\"DejaVuSans-50\"/>\n      <path d=\"M 33.015625 40.375 \nQ 26.375 40.375 22.484375 35.828125 \nQ 18.609375 31.296875 18.609375 23.390625 \nQ 18.609375 15.53125 22.484375 10.953125 \nQ 26.375 6.390625 33.015625 6.390625 \nQ 39.65625 6.390625 43.53125 10.953125 \nQ 47.40625 15.53125 47.40625 23.390625 \nQ 47.40625 31.296875 43.53125 35.828125 \nQ 39.65625 40.375 33.015625 40.375 \nz\nM 52.59375 71.296875 \nL 52.59375 62.3125 \nQ 48.875 64.0625 45.09375 64.984375 \nQ 41.3125 65.921875 37.59375 65.921875 \nQ 27.828125 65.921875 22.671875 59.328125 \nQ 17.53125 52.734375 16.796875 39.40625 \nQ 19.671875 43.65625 24.015625 45.921875 \nQ 28.375 48.1875 33.59375 48.1875 \nQ 44.578125 48.1875 50.953125 41.515625 \nQ 57.328125 34.859375 57.328125 23.390625 \nQ 57.328125 12.15625 50.6875 5.359375 \nQ 44.046875 -1.421875 33.015625 -1.421875 \nQ 20.359375 -1.421875 13.671875 8.265625 \nQ 6.984375 17.96875 6.984375 36.375 \nQ 6.984375 53.65625 15.1875 63.9375 \nQ 23.390625 74.21875 37.203125 74.21875 \nQ 40.921875 74.21875 44.703125 73.484375 \nQ 48.484375 72.75 52.59375 71.296875 \nz\n\" id=\"DejaVuSans-54\"/>\n     </defs>\n     <g transform=\"translate(68.295794 445.958039)scale(0.12 -0.12)\">\n      <use xlink:href=\"#DejaVuSans-50\"/>\n      <use x=\"63.623047\" xlink:href=\"#DejaVuSans-54\"/>\n     </g>\n    </g>\n   </g>\n   <g id=\"text_3\">\n    <g clip-path=\"url(#p7044c9cc8d)\">\n     <!-- 17 -->\n     <defs>\n      <path d=\"M 12.40625 8.296875 \nL 28.515625 8.296875 \nL 28.515625 63.921875 \nL 10.984375 60.40625 \nL 10.984375 69.390625 \nL 28.421875 72.90625 \nL 38.28125 72.90625 \nL 38.28125 8.296875 \nL 54.390625 8.296875 \nL 54.390625 0 \nL 12.40625 0 \nz\n\" id=\"DejaVuSans-49\"/>\n      <path d=\"M 8.203125 72.90625 \nL 55.078125 72.90625 \nL 55.078125 68.703125 \nL 28.609375 0 \nL 18.3125 0 \nL 43.21875 64.59375 \nL 8.203125 64.59375 \nz\n\" id=\"DejaVuSans-55\"/>\n     </defs>\n     <g transform=\"translate(312.67909 515.99756)scale(0.12 -0.12)\">\n      <use xlink:href=\"#DejaVuSans-49\"/>\n      <use x=\"63.623047\" xlink:href=\"#DejaVuSans-55\"/>\n     </g>\n    </g>\n   </g>\n   <g id=\"text_4\">\n    <g clip-path=\"url(#p7044c9cc8d)\">\n     <!-- 3 -->\n     <defs>\n      <path d=\"M 40.578125 39.3125 \nQ 47.65625 37.796875 51.625 33 \nQ 55.609375 28.21875 55.609375 21.1875 \nQ 55.609375 10.40625 48.1875 4.484375 \nQ 40.765625 -1.421875 27.09375 -1.421875 \nQ 22.515625 -1.421875 17.65625 -0.515625 \nQ 12.796875 0.390625 7.625 2.203125 \nL 7.625 11.71875 \nQ 11.71875 9.328125 16.59375 8.109375 \nQ 21.484375 6.890625 26.8125 6.890625 \nQ 36.078125 6.890625 40.9375 10.546875 \nQ 45.796875 14.203125 45.796875 21.1875 \nQ 45.796875 27.640625 41.28125 31.265625 \nQ 36.765625 34.90625 28.71875 34.90625 \nL 20.21875 34.90625 \nL 20.21875 43.015625 \nL 29.109375 43.015625 \nQ 36.375 43.015625 40.234375 45.921875 \nQ 44.09375 48.828125 44.09375 54.296875 \nQ 44.09375 59.90625 40.109375 62.90625 \nQ 36.140625 65.921875 28.71875 65.921875 \nQ 24.65625 65.921875 20.015625 65.03125 \nQ 15.375 64.15625 9.8125 62.3125 \nL 9.8125 71.09375 \nQ 15.4375 72.65625 20.34375 73.4375 \nQ 25.25 74.21875 29.59375 74.21875 \nQ 40.828125 74.21875 47.359375 69.109375 \nQ 53.90625 64.015625 53.90625 55.328125 \nQ 53.90625 49.265625 50.4375 45.09375 \nQ 46.96875 40.921875 40.578125 39.3125 \nz\n\" id=\"DejaVuSans-51\"/>\n     </defs>\n     <g transform=\"translate(413.954793 489.128642)scale(0.12 -0.12)\">\n      <use xlink:href=\"#DejaVuSans-51\"/>\n     </g>\n    </g>\n   </g>\n   <g id=\"text_5\">\n    <g clip-path=\"url(#p7044c9cc8d)\">\n     <!-- 19 -->\n     <defs>\n      <path d=\"M 10.984375 1.515625 \nL 10.984375 10.5 \nQ 14.703125 8.734375 18.5 7.8125 \nQ 22.3125 6.890625 25.984375 6.890625 \nQ 35.75 6.890625 40.890625 13.453125 \nQ 46.046875 20.015625 46.78125 33.40625 \nQ 43.953125 29.203125 39.59375 26.953125 \nQ 35.25 24.703125 29.984375 24.703125 \nQ 19.046875 24.703125 12.671875 31.3125 \nQ 6.296875 37.9375 6.296875 49.421875 \nQ 6.296875 60.640625 12.9375 67.421875 \nQ 19.578125 74.21875 30.609375 74.21875 \nQ 43.265625 74.21875 49.921875 64.515625 \nQ 56.59375 54.828125 56.59375 36.375 \nQ 56.59375 19.140625 48.40625 8.859375 \nQ 40.234375 -1.421875 26.421875 -1.421875 \nQ 22.703125 -1.421875 18.890625 -0.6875 \nQ 15.09375 0.046875 10.984375 1.515625 \nz\nM 30.609375 32.421875 \nQ 37.25 32.421875 41.125 36.953125 \nQ 45.015625 41.5 45.015625 49.421875 \nQ 45.015625 57.28125 41.125 61.84375 \nQ 37.25 66.40625 30.609375 66.40625 \nQ 23.96875 66.40625 20.09375 61.84375 \nQ 16.21875 57.28125 16.21875 49.421875 \nQ 16.21875 41.5 20.09375 36.953125 \nQ 23.96875 32.421875 30.609375 32.421875 \nz\n\" id=\"DejaVuSans-57\"/>\n     </defs>\n     <g transform=\"translate(657.085661 395.809539)scale(0.12 -0.12)\">\n      <use xlink:href=\"#DejaVuSans-49\"/>\n      <use x=\"63.623047\" xlink:href=\"#DejaVuSans-57\"/>\n     </g>\n    </g>\n   </g>\n   <g id=\"text_6\">\n    <g clip-path=\"url(#p7044c9cc8d)\">\n     <!-- 18 -->\n     <g transform=\"translate(557.832794 584.684502)scale(0.12 -0.12)\">\n      <use xlink:href=\"#DejaVuSans-49\"/>\n      <use x=\"63.623047\" xlink:href=\"#DejaVuSans-56\"/>\n     </g>\n    </g>\n   </g>\n   <g id=\"text_7\">\n    <g clip-path=\"url(#p7044c9cc8d)\">\n     <!-- 16 -->\n     <g transform=\"translate(321.876574 495.763441)scale(0.12 -0.12)\">\n      <use xlink:href=\"#DejaVuSans-49\"/>\n      <use x=\"63.623047\" xlink:href=\"#DejaVuSans-54\"/>\n     </g>\n    </g>\n   </g>\n   <g id=\"text_8\">\n    <g clip-path=\"url(#p7044c9cc8d)\">\n     <!-- 20 -->\n     <defs>\n      <path d=\"M 31.78125 66.40625 \nQ 24.171875 66.40625 20.328125 58.90625 \nQ 16.5 51.421875 16.5 36.375 \nQ 16.5 21.390625 20.328125 13.890625 \nQ 24.171875 6.390625 31.78125 6.390625 \nQ 39.453125 6.390625 43.28125 13.890625 \nQ 47.125 21.390625 47.125 36.375 \nQ 47.125 51.421875 43.28125 58.90625 \nQ 39.453125 66.40625 31.78125 66.40625 \nz\nM 31.78125 74.21875 \nQ 44.046875 74.21875 50.515625 64.515625 \nQ 56.984375 54.828125 56.984375 36.375 \nQ 56.984375 17.96875 50.515625 8.265625 \nQ 44.046875 -1.421875 31.78125 -1.421875 \nQ 19.53125 -1.421875 13.0625 8.265625 \nQ 6.59375 17.96875 6.59375 36.375 \nQ 6.59375 54.828125 13.0625 64.515625 \nQ 19.53125 74.21875 31.78125 74.21875 \nz\n\" id=\"DejaVuSans-48\"/>\n     </defs>\n     <g transform=\"translate(162.426408 582.935065)scale(0.12 -0.12)\">\n      <use xlink:href=\"#DejaVuSans-50\"/>\n      <use x=\"63.623047\" xlink:href=\"#DejaVuSans-48\"/>\n     </g>\n    </g>\n   </g>\n   <g id=\"text_9\">\n    <g clip-path=\"url(#p7044c9cc8d)\">\n     <!-- 23 -->\n     <g transform=\"translate(371.187098 668.031911)scale(0.12 -0.12)\">\n      <use xlink:href=\"#DejaVuSans-50\"/>\n      <use x=\"63.623047\" xlink:href=\"#DejaVuSans-51\"/>\n     </g>\n    </g>\n   </g>\n   <g id=\"text_10\">\n    <g clip-path=\"url(#p7044c9cc8d)\">\n     <!-- 22 -->\n     <g transform=\"translate(356.340001 583.235685)scale(0.12 -0.12)\">\n      <use xlink:href=\"#DejaVuSans-50\"/>\n      <use x=\"63.623047\" xlink:href=\"#DejaVuSans-50\"/>\n     </g>\n    </g>\n   </g>\n   <g id=\"text_11\">\n    <g clip-path=\"url(#p7044c9cc8d)\">\n     <!-- 10 -->\n     <g transform=\"translate(150.392442 185.325346)scale(0.12 -0.12)\">\n      <use xlink:href=\"#DejaVuSans-49\"/>\n      <use x=\"63.623047\" xlink:href=\"#DejaVuSans-48\"/>\n     </g>\n    </g>\n   </g>\n   <g id=\"text_12\">\n    <g clip-path=\"url(#p7044c9cc8d)\">\n     <!-- 25 -->\n     <defs>\n      <path d=\"M 10.796875 72.90625 \nL 49.515625 72.90625 \nL 49.515625 64.59375 \nL 19.828125 64.59375 \nL 19.828125 46.734375 \nQ 21.96875 47.46875 24.109375 47.828125 \nQ 26.265625 48.1875 28.421875 48.1875 \nQ 40.625 48.1875 47.75 41.5 \nQ 54.890625 34.8125 54.890625 23.390625 \nQ 54.890625 11.625 47.5625 5.09375 \nQ 40.234375 -1.421875 26.90625 -1.421875 \nQ 22.3125 -1.421875 17.546875 -0.640625 \nQ 12.796875 0.140625 7.71875 1.703125 \nL 7.71875 11.625 \nQ 12.109375 9.234375 16.796875 8.0625 \nQ 21.484375 6.890625 26.703125 6.890625 \nQ 35.15625 6.890625 40.078125 11.328125 \nQ 45.015625 15.765625 45.015625 23.390625 \nQ 45.015625 31 40.078125 35.4375 \nQ 35.15625 39.890625 26.703125 39.890625 \nQ 22.75 39.890625 18.8125 39.015625 \nQ 14.890625 38.140625 10.796875 36.28125 \nz\n\" id=\"DejaVuSans-53\"/>\n     </defs>\n     <g transform=\"translate(129.923676 160.807102)scale(0.12 -0.12)\">\n      <use xlink:href=\"#DejaVuSans-50\"/>\n      <use x=\"63.623047\" xlink:href=\"#DejaVuSans-53\"/>\n     </g>\n    </g>\n   </g>\n   <g id=\"text_13\">\n    <g clip-path=\"url(#p7044c9cc8d)\">\n     <!-- 9 -->\n     <g transform=\"translate(475.811565 138.876632)scale(0.12 -0.12)\">\n      <use xlink:href=\"#DejaVuSans-57\"/>\n     </g>\n    </g>\n   </g>\n   <g id=\"text_14\">\n    <g clip-path=\"url(#p7044c9cc8d)\">\n     <!-- 24 -->\n     <defs>\n      <path d=\"M 37.796875 64.3125 \nL 12.890625 25.390625 \nL 37.796875 25.390625 \nz\nM 35.203125 72.90625 \nL 47.609375 72.90625 \nL 47.609375 25.390625 \nL 58.015625 25.390625 \nL 58.015625 17.1875 \nL 47.609375 17.1875 \nL 47.609375 0 \nL 37.796875 0 \nL 37.796875 17.1875 \nL 4.890625 17.1875 \nL 4.890625 26.703125 \nz\n\" id=\"DejaVuSans-52\"/>\n     </defs>\n     <g transform=\"translate(486.058106 113.942358)scale(0.12 -0.12)\">\n      <use xlink:href=\"#DejaVuSans-50\"/>\n      <use x=\"63.623047\" xlink:href=\"#DejaVuSans-52\"/>\n     </g>\n    </g>\n   </g>\n   <g id=\"text_15\">\n    <g clip-path=\"url(#p7044c9cc8d)\">\n     <!-- 1 -->\n     <g transform=\"translate(361.196622 539.77198)scale(0.12 -0.12)\">\n      <use xlink:href=\"#DejaVuSans-49\"/>\n     </g>\n    </g>\n   </g>\n   <g id=\"text_16\">\n    <g clip-path=\"url(#p7044c9cc8d)\">\n     <!-- 12 -->\n     <g transform=\"translate(334.457543 103.715973)scale(0.12 -0.12)\">\n      <use xlink:href=\"#DejaVuSans-49\"/>\n      <use x=\"63.623047\" xlink:href=\"#DejaVuSans-50\"/>\n     </g>\n    </g>\n   </g>\n   <g id=\"text_17\">\n    <g clip-path=\"url(#p7044c9cc8d)\">\n     <!-- 21 -->\n     <g transform=\"translate(334.262428 72.990589)scale(0.12 -0.12)\">\n      <use xlink:href=\"#DejaVuSans-50\"/>\n      <use x=\"63.623047\" xlink:href=\"#DejaVuSans-49\"/>\n     </g>\n    </g>\n   </g>\n   <g id=\"text_18\">\n    <g clip-path=\"url(#p7044c9cc8d)\">\n     <!-- 6 -->\n     <g transform=\"translate(551.71269 300.551554)scale(0.12 -0.12)\">\n      <use xlink:href=\"#DejaVuSans-54\"/>\n     </g>\n    </g>\n   </g>\n   <g id=\"text_19\">\n    <g clip-path=\"url(#p7044c9cc8d)\">\n     <!-- removed -->\n     <defs>\n      <path d=\"M 41.109375 46.296875 \nQ 39.59375 47.171875 37.8125 47.578125 \nQ 36.03125 48 33.890625 48 \nQ 26.265625 48 22.1875 43.046875 \nQ 18.109375 38.09375 18.109375 28.8125 \nL 18.109375 0 \nL 9.078125 0 \nL 9.078125 54.6875 \nL 18.109375 54.6875 \nL 18.109375 46.1875 \nQ 20.953125 51.171875 25.484375 53.578125 \nQ 30.03125 56 36.53125 56 \nQ 37.453125 56 38.578125 55.875 \nQ 39.703125 55.765625 41.0625 55.515625 \nz\n\" id=\"DejaVuSans-114\"/>\n      <path d=\"M 56.203125 29.59375 \nL 56.203125 25.203125 \nL 14.890625 25.203125 \nQ 15.484375 15.921875 20.484375 11.0625 \nQ 25.484375 6.203125 34.421875 6.203125 \nQ 39.59375 6.203125 44.453125 7.46875 \nQ 49.3125 8.734375 54.109375 11.28125 \nL 54.109375 2.78125 \nQ 49.265625 0.734375 44.1875 -0.34375 \nQ 39.109375 -1.421875 33.890625 -1.421875 \nQ 20.796875 -1.421875 13.15625 6.1875 \nQ 5.515625 13.8125 5.515625 26.8125 \nQ 5.515625 40.234375 12.765625 48.109375 \nQ 20.015625 56 32.328125 56 \nQ 43.359375 56 49.78125 48.890625 \nQ 56.203125 41.796875 56.203125 29.59375 \nz\nM 47.21875 32.234375 \nQ 47.125 39.59375 43.09375 43.984375 \nQ 39.0625 48.390625 32.421875 48.390625 \nQ 24.90625 48.390625 20.390625 44.140625 \nQ 15.875 39.890625 15.1875 32.171875 \nz\n\" id=\"DejaVuSans-101\"/>\n      <path d=\"M 52 44.1875 \nQ 55.375 50.25 60.0625 53.125 \nQ 64.75 56 71.09375 56 \nQ 79.640625 56 84.28125 50.015625 \nQ 88.921875 44.046875 88.921875 33.015625 \nL 88.921875 0 \nL 79.890625 0 \nL 79.890625 32.71875 \nQ 79.890625 40.578125 77.09375 44.375 \nQ 74.3125 48.1875 68.609375 48.1875 \nQ 61.625 48.1875 57.5625 43.546875 \nQ 53.515625 38.921875 53.515625 30.90625 \nL 53.515625 0 \nL 44.484375 0 \nL 44.484375 32.71875 \nQ 44.484375 40.625 41.703125 44.40625 \nQ 38.921875 48.1875 33.109375 48.1875 \nQ 26.21875 48.1875 22.15625 43.53125 \nQ 18.109375 38.875 18.109375 30.90625 \nL 18.109375 0 \nL 9.078125 0 \nL 9.078125 54.6875 \nL 18.109375 54.6875 \nL 18.109375 46.1875 \nQ 21.1875 51.21875 25.484375 53.609375 \nQ 29.78125 56 35.6875 56 \nQ 41.65625 56 45.828125 52.96875 \nQ 50 49.953125 52 44.1875 \nz\n\" id=\"DejaVuSans-109\"/>\n      <path d=\"M 30.609375 48.390625 \nQ 23.390625 48.390625 19.1875 42.75 \nQ 14.984375 37.109375 14.984375 27.296875 \nQ 14.984375 17.484375 19.15625 11.84375 \nQ 23.34375 6.203125 30.609375 6.203125 \nQ 37.796875 6.203125 41.984375 11.859375 \nQ 46.1875 17.53125 46.1875 27.296875 \nQ 46.1875 37.015625 41.984375 42.703125 \nQ 37.796875 48.390625 30.609375 48.390625 \nz\nM 30.609375 56 \nQ 42.328125 56 49.015625 48.375 \nQ 55.71875 40.765625 55.71875 27.296875 \nQ 55.71875 13.875 49.015625 6.21875 \nQ 42.328125 -1.421875 30.609375 -1.421875 \nQ 18.84375 -1.421875 12.171875 6.21875 \nQ 5.515625 13.875 5.515625 27.296875 \nQ 5.515625 40.765625 12.171875 48.375 \nQ 18.84375 56 30.609375 56 \nz\n\" id=\"DejaVuSans-111\"/>\n      <path d=\"M 2.984375 54.6875 \nL 12.5 54.6875 \nL 29.59375 8.796875 \nL 46.6875 54.6875 \nL 56.203125 54.6875 \nL 35.6875 0 \nL 23.484375 0 \nz\n\" id=\"DejaVuSans-118\"/>\n      <path d=\"M 45.40625 46.390625 \nL 45.40625 75.984375 \nL 54.390625 75.984375 \nL 54.390625 0 \nL 45.40625 0 \nL 45.40625 8.203125 \nQ 42.578125 3.328125 38.25 0.953125 \nQ 33.9375 -1.421875 27.875 -1.421875 \nQ 17.96875 -1.421875 11.734375 6.484375 \nQ 5.515625 14.40625 5.515625 27.296875 \nQ 5.515625 40.1875 11.734375 48.09375 \nQ 17.96875 56 27.875 56 \nQ 33.9375 56 38.25 53.625 \nQ 42.578125 51.265625 45.40625 46.390625 \nz\nM 14.796875 27.296875 \nQ 14.796875 17.390625 18.875 11.75 \nQ 22.953125 6.109375 30.078125 6.109375 \nQ 37.203125 6.109375 41.296875 11.75 \nQ 45.40625 17.390625 45.40625 27.296875 \nQ 45.40625 37.203125 41.296875 42.84375 \nQ 37.203125 48.484375 30.078125 48.484375 \nQ 22.953125 48.484375 18.875 42.84375 \nQ 14.796875 37.203125 14.796875 27.296875 \nz\n\" id=\"DejaVuSans-100\"/>\n     </defs>\n     <g transform=\"translate(592.800975 278.488819)scale(0.12 -0.12)\">\n      <use xlink:href=\"#DejaVuSans-114\"/>\n      <use x=\"41.082031\" xlink:href=\"#DejaVuSans-101\"/>\n      <use x=\"102.605469\" xlink:href=\"#DejaVuSans-109\"/>\n      <use x=\"200.017578\" xlink:href=\"#DejaVuSans-111\"/>\n      <use x=\"261.199219\" xlink:href=\"#DejaVuSans-118\"/>\n      <use x=\"320.378906\" xlink:href=\"#DejaVuSans-101\"/>\n      <use x=\"381.902344\" xlink:href=\"#DejaVuSans-100\"/>\n     </g>\n    </g>\n   </g>\n   <g id=\"text_20\">\n    <g clip-path=\"url(#p7044c9cc8d)\">\n     <!-- 5 -->\n     <g transform=\"translate(301.136932 485.371229)scale(0.12 -0.12)\">\n      <use xlink:href=\"#DejaVuSans-53\"/>\n     </g>\n    </g>\n   </g>\n   <g id=\"text_21\">\n    <g clip-path=\"url(#p7044c9cc8d)\">\n     <!-- 15 -->\n     <g transform=\"translate(600.174724 172.726391)scale(0.12 -0.12)\">\n      <use xlink:href=\"#DejaVuSans-49\"/>\n      <use x=\"63.623047\" xlink:href=\"#DejaVuSans-53\"/>\n     </g>\n    </g>\n   </g>\n   <g id=\"text_22\">\n    <g clip-path=\"url(#p7044c9cc8d)\">\n     <!-- 14 -->\n     <g transform=\"translate(223.078451 655.899074)scale(0.12 -0.12)\">\n      <use xlink:href=\"#DejaVuSans-49\"/>\n      <use x=\"63.623047\" xlink:href=\"#DejaVuSans-52\"/>\n     </g>\n    </g>\n   </g>\n   <g id=\"text_23\">\n    <g clip-path=\"url(#p7044c9cc8d)\">\n     <!-- 13 -->\n     <g transform=\"translate(62.044339 346.794422)scale(0.12 -0.12)\">\n      <use xlink:href=\"#DejaVuSans-49\"/>\n      <use x=\"63.623047\" xlink:href=\"#DejaVuSans-51\"/>\n     </g>\n    </g>\n   </g>\n   <g id=\"text_24\">\n    <g clip-path=\"url(#p7044c9cc8d)\">\n     <!-- 11 -->\n     <g transform=\"translate(622.022245 490.843905)scale(0.12 -0.12)\">\n      <use xlink:href=\"#DejaVuSans-49\"/>\n      <use x=\"63.623047\" xlink:href=\"#DejaVuSans-49\"/>\n     </g>\n    </g>\n   </g>\n   <g id=\"text_25\">\n    <g clip-path=\"url(#p7044c9cc8d)\">\n     <!-- 7 -->\n     <g transform=\"translate(67.877169 265.876134)scale(0.12 -0.12)\">\n      <use xlink:href=\"#DejaVuSans-55\"/>\n     </g>\n    </g>\n   </g>\n   <g id=\"text_26\">\n    <g clip-path=\"url(#p7044c9cc8d)\">\n     <!-- 2 -->\n     <g transform=\"translate(98.939714 551.037037)scale(0.12 -0.12)\">\n      <use xlink:href=\"#DejaVuSans-50\"/>\n     </g>\n    </g>\n   </g>\n  </g>\n </g>\n <defs>\n  <clipPath id=\"p7044c9cc8d\">\n   <rect height=\"720\" width=\"720\" x=\"7.2\" y=\"7.2\"/>\n  </clipPath>\n </defs>\n</svg>\n",
      "image/png": "[encoded data removed]"
     },
     "metadata": {}
    }
   ],
   "source": [
    "plt.figure(figsize=(10,10))\n",
    "\n",
    "pos = nx.spring_layout(col_graph)\n",
    "nx.draw(col_graph, pos, with_labels=True, connectionstyle='arc3, rad = 0.1')\n",
    "edge_labels=dict([((u,v,),d['state'])\n",
    "             for u,v,d in col_graph.edges(data=True)])\n"
   ]
  },
  {
   "cell_type": "code",
   "execution_count": 15,
   "metadata": {},
   "outputs": [
    {
     "output_type": "stream",
     "name": "stdout",
     "text": [
      "p(10) q(1) q(2)\n"
     ]
    },
    {
     "output_type": "execute_result",
     "data": {
      "text/plain": [
       "SAT"
      ]
     },
     "metadata": {},
     "execution_count": 15
    }
   ],
   "source": [
    "import clingo\n",
    "class Context:\n",
    "    def id(self, x):\n",
    "        return x\n",
    "    def seq(self, x, y):\n",
    "        return [x, y]\n",
    "\n",
    "def on_model(m):\n",
    "    print(m)\n",
    "\n",
    "ctl = clingo.Control()\n",
    "ctl.add(\"base\", [], \"\"\"\\\n",
    "p(@id(10)).\n",
    "q(@seq(1,2)).\n",
    "\"\"\")\n",
    "ctl.ground([(\"base\", [])], context=Context())\n",
    "ctl.solve(on_model=on_model)"
   ]
  },
  {
   "cell_type": "code",
   "execution_count": 16,
   "metadata": {},
   "outputs": [
    {
     "output_type": "stream",
     "name": "stdout",
     "text": [
      "/Users/nnp2/Documents/projects/openrefine\n"
     ]
    }
   ],
   "source": [
    "!pwd"
   ]
  },
  {
   "cell_type": "code",
   "execution_count": 17,
   "metadata": {},
   "outputs": [
    {
     "output_type": "stream",
     "name": "stdout",
     "text": [
      "\n"
     ]
    },
    {
     "output_type": "execute_result",
     "data": {
      "text/plain": [
       "10"
      ]
     },
     "metadata": {},
     "execution_count": 17
    }
   ],
   "source": [
    "import sys\n",
    "import clingo\n",
    "\n",
    "class Application:\n",
    "    def __init__(self, name):\n",
    "        self.program_name = name\n",
    "\n",
    "    def main(self, ctl, files):\n",
    "        if len(files) > 0:\n",
    "            for f in files:\n",
    "                ctl.load(f)\n",
    "        else:\n",
    "            ctl.load(\"-\")\n",
    "        ctl.ground([(\"base\", [])])\n",
    "        #ctl.solve()\n",
    "        ctl.solve(on_model=on_model)\n",
    "\n",
    "clingo.clingo_main(Application(\"03_poster_demo.openrefine.extract/facts.pl\"), \"\")"
   ]
  },
  {
   "cell_type": "code",
   "execution_count": 18,
   "metadata": {},
   "outputs": [],
   "source": [
    "ctl = clingo.Control()\n",
    "#with open(\"03_poster_demo.openrefine.extract/facts.pl\",\"r\") as files:\n",
    "#    for f in files:\n",
    "ctl.load(\"03_poster_demo.openrefine.extract/facts.pl\")\n",
    "ctl.add(\"base\",[],\"\"\"\n",
    "#show cell/1.\n",
    "\"\"\")"
   ]
  },
  {
   "cell_type": "code",
   "execution_count": 19,
   "metadata": {},
   "outputs": [
    {
     "output_type": "stream",
     "name": "stdout",
     "text": [
      "\n"
     ]
    },
    {
     "output_type": "execute_result",
     "data": {
      "text/plain": [
       "SAT"
      ]
     },
     "metadata": {},
     "execution_count": 19
    }
   ],
   "source": [
    "ctl.solve(on_model=on_model)"
   ]
  },
  {
   "cell_type": "code",
   "execution_count": 20,
   "metadata": {},
   "outputs": [
    {
     "output_type": "stream",
     "name": "stdout",
     "text": [
      "frozenset({('obj', ('b',)), ('rel', ('b', 'e')), ('obj', ('a',)), ('rel', ('b', 'd')), ('rel', ('a', 'c')), ('att', ('d',)), ('rel', ('a', 'd'))})\nfrozenset({('att', ('c',)), ('rel', ('b', 'e')), ('obj', ('a',)), ('rel', ('b', 'd')), ('rel', ('a', 'c')), ('att', ('d',)), ('rel', ('a', 'd'))})\nfrozenset({('obj', ('b',)), ('rel', ('b', 'e')), ('att', ('e',)), ('rel', ('b', 'd')), ('rel', ('a', 'c')), ('att', ('d',)), ('rel', ('a', 'd'))})\n"
     ]
    }
   ],
   "source": [
    "from clyngor import ASP, solve\n",
    "\n",
    "answers = ASP(\"\"\"\n",
    "rel(a,(c;d)). rel(b,(d;e)).\n",
    "obj(X):- rel(X,_) ; rel(X,Y): att(Y).\n",
    "att(Y):- rel(_,Y) ; rel(X,Y): obj(X).\n",
    ":- not obj(X):obj(X).\n",
    ":- not att(Y):att(Y).\n",
    "\"\"\")\n",
    "for answer in answers:\n",
    "    print(answer)\n"
   ]
  },
  {
   "cell_type": "code",
   "execution_count": 21,
   "metadata": {},
   "outputs": [],
   "source": [
    "answers = solve('03_poster_demo.openrefine.extract/facts.pl'); # also accepts an iterable of file"
   ]
  },
  {
   "cell_type": "code",
   "execution_count": 22,
   "metadata": {},
   "outputs": [
    {
     "output_type": "stream",
     "name": "stdout",
     "text": [
      "frozenset({(3, 1, 1, -1), (5, 2, 1, 0), (1, 1, -1, 0), (2, 2, -1, 1), (0, 0, -1, -1), (4, 0, 1, 1)}) frozenset({(1, 1, 0), (8, 2, 2), (2, 2, 0), (7, 1, 2), (0, 0, 0), (4, 1, 1), (5, 2, 1), (3, 0, 1), (6, 0, 2)})\n"
     ]
    }
   ],
   "source": [
    "for answer in answers.by_predicate:\n",
    "    print(answer[\"row_position\"],answer[\"cell\"])\n",
    "    #print(answer)"
   ]
  },
  {
   "cell_type": "code",
   "execution_count": 23,
   "metadata": {},
   "outputs": [],
   "source": [
    "for x in answers:\n",
    "    print(x)"
   ]
  },
  {
   "cell_type": "code",
   "execution_count": 24,
   "metadata": {},
   "outputs": [],
   "source": [
    "import clyngor"
   ]
  },
  {
   "cell_type": "code",
   "execution_count": 25,
   "metadata": {},
   "outputs": [
    {
     "output_type": "stream",
     "name": "stdout",
     "text": [
      "frozenset({('q1', ('\"03_poster_demo.openrefine.tar.gz\"',))})\n"
     ]
    }
   ],
   "source": [
    "answers = clyngor.solve([\"03_poster_demo.openrefine.extract/facts.pl\",\"rules/column_query.pl\"],inline=\"\"\"\n",
    "state(N) :- N=1.\n",
    "#show q1/1.\n",
    "\"\"\")\n",
    "for x in answers:\n",
    "    print(x)"
   ]
  },
  {
   "cell_type": "code",
   "execution_count": 26,
   "metadata": {},
   "outputs": [
    {
     "output_type": "stream",
     "name": "stdout",
     "text": [
      "frozenset({('column_order', (('cons', (('col_name', (-1, 0, '\"Title\"')), 3, ('cons', (('col_name', (0, 1, '\"Author\"')), 2, ('cons', (('col_name', (1, 2, '\"Date\"')), 1, 'empty')))))),))})\n"
     ]
    }
   ],
   "source": [
    "answers = clyngor.solve([\"03_poster_demo.openrefine.extract/facts.pl\",\"rules/column_query.pl\"],inline=\"\"\"\n",
    "state(N) :- N=1.\n",
    "all_column_schema_at_before_state_test(A,B) :-\n",
    "    all_column_schema_at_before_state(A,B),\n",
    "    state(B).\n",
    "all_column_schema_at_state_test(A,B,C) :-\n",
    "    all_column_schema_at_state(A,B,C),\n",
    "    state(C).    \n",
    "#show column_order/1.    \n",
    "\"\"\")\n",
    "for x in answers:\n",
    "    print(x)"
   ]
  },
  {
   "source": [
    "# Show me the state dependency"
   ],
   "cell_type": "markdown",
   "metadata": {}
  },
  {
   "cell_type": "code",
   "execution_count": 27,
   "metadata": {},
   "outputs": [
    {
     "output_type": "execute_result",
     "data": {
      "text/plain": [
       "[(-1, '\"com.google.refine.model.changes.ColumnAdditionChange\"'),\n",
       " (0, '\"com.google.refine.model.changes.RowRemovalChange\"'),\n",
       " (1, '\"com.google.refine.model.changes.RowStarChange\"'),\n",
       " (2, '\"com.google.refine.model.changes.RowStarChange\"'),\n",
       " (3, '\"com.google.refine.model.changes.CellChange\"'),\n",
       " (4, '\"com.google.refine.model.changes.RowReorderChange\"'),\n",
       " (5, '\"com.google.refine.model.changes.RowReorderChange\"'),\n",
       " (6, '\"com.google.refine.model.changes.ColumnMoveChange\"'),\n",
       " (7, '\"com.google.refine.model.changes.CellChange\"'),\n",
       " (8, '\"com.google.refine.model.changes.ColumnRenameChange\"'),\n",
       " (9, '\"com.google.refine.model.changes.MassCellChange\"'),\n",
       " (10, '\"com.google.refine.model.changes.MassCellChange\"'),\n",
       " (11, '\"com.google.refine.model.changes.MassCellChange\"'),\n",
       " (12, '\"com.google.refine.model.changes.MassCellChange\"'),\n",
       " (13, '\"com.google.refine.model.changes.MassCellChange\"'),\n",
       " (14, '\"com.google.refine.model.changes.MassCellChange\"'),\n",
       " (15, '\"com.google.refine.model.changes.MassCellChange\"'),\n",
       " (16, '\"com.google.refine.model.changes.MassCellChange\"'),\n",
       " (17, '\"com.google.refine.model.changes.MassCellChange\"'),\n",
       " (18, '\"com.google.refine.model.changes.MassCellChange\"'),\n",
       " (19, '\"com.google.refine.model.changes.MassCellChange\"'),\n",
       " (20, '\"com.google.refine.model.changes.MassCellChange\"'),\n",
       " (21, '\"com.google.refine.model.changes.MassCellChange\"'),\n",
       " (22, '\"com.google.refine.model.changes.ColumnAdditionChange\"'),\n",
       " (23, '\"com.google.refine.model.changes.ColumnAdditionChange\"'),\n",
       " (24, '\"com.google.refine.model.changes.MassCellChange\"'),\n",
       " (25, '\"com.google.refine.model.changes.ColumnAdditionChange\"'),\n",
       " (26, '\"com.google.refine.model.changes.MassCellChange\"'),\n",
       " (27, '\"com.google.refine.model.changes.ColumnAdditionChange\"'),\n",
       " (28, '\"com.google.refine.model.changes.ColumnAdditionChange\"'),\n",
       " (29, '\"com.google.refine.model.changes.MassCellChange\"'),\n",
       " (30, '\"com.google.refine.model.changes.ColumnRemovalChange\"'),\n",
       " (31, '\"com.google.refine.model.changes.ColumnSplitChange\"'),\n",
       " (32, '\"com.google.refine.model.changes.MassCellChange\"'),\n",
       " (33, '\"com.google.refine.model.changes.MassCellChange\"'),\n",
       " (34, '\"com.google.refine.model.changes.MassCellChange\"'),\n",
       " (35, '\"com.google.refine.model.changes.MassCellChange\"'),\n",
       " (36, '\"com.google.refine.model.changes.ColumnAdditionChange\"'),\n",
       " (37, '\"com.google.refine.model.changes.MassCellChange\"'),\n",
       " (38, '\"com.google.refine.model.changes.ColumnAdditionChange\"'),\n",
       " (39, '\"com.google.refine.model.changes.MassCellChange\"'),\n",
       " (40, '\"com.google.refine.model.changes.ColumnAdditionChange\"'),\n",
       " (41, '\"com.google.refine.model.changes.MassCellChange\"'),\n",
       " (42, '\"com.google.refine.model.changes.MassCellChange\"'),\n",
       " (43, '\"com.google.refine.model.changes.MassCellChange\"'),\n",
       " (44, '\"com.google.refine.model.changes.MassCellChange\"'),\n",
       " (45, '\"com.google.refine.model.changes.MassCellChange\"'),\n",
       " (46, '\"com.google.refine.model.changes.MassCellChange\"'),\n",
       " (47, '\"com.google.refine.model.changes.MassCellChange\"'),\n",
       " (48, '\"com.google.refine.model.changes.MassCellChange\"'),\n",
       " (49, '\"com.google.refine.model.changes.MassCellChange\"'),\n",
       " (50, '\"com.google.refine.model.changes.MassCellChange\"'),\n",
       " (51, '\"com.google.refine.model.changes.MassCellChange\"'),\n",
       " (52, '\"com.google.refine.model.changes.MassCellChange\"'),\n",
       " (53, '\"com.google.refine.model.changes.MassCellChange\"'),\n",
       " (54, '\"com.google.refine.model.changes.MassCellChange\"'),\n",
       " (55, '\"com.google.refine.model.changes.MassCellChange\"'),\n",
       " (56, '\"com.google.refine.model.changes.MassCellChange\"'),\n",
       " (57, '\"com.google.refine.model.changes.MassCellChange\"'),\n",
       " (58, 'original')]"
      ]
     },
     "metadata": {},
     "execution_count": 27
    }
   ],
   "source": [
    "import clyngor\n",
    "#facts_file = \"03_poster_demo.openrefine.extract/facts.pl\"\n",
    "#dname = \"03_poster_demo.openrefine.tar.gz\"\n",
    "facts_file=\"airbnb_dirty-csv.openrefine-2.extract/facts_content_excluded.pl\"\n",
    "dname = \"airbnb_dirty-csv.openrefine-2.tar.gz\"\n",
    "def state_dependency(facts_file,dname):\n",
    "    answers = clyngor.solve([facts_file,\"rules/general_query.pl\"],inline=\"\"\"\n",
    "    dataset_name(N) :- N=\"{dname}\".\n",
    "    state(N) :- N=-1.\n",
    "    #show state_edge/2.\n",
    "    \"\"\".format(dname=dname))\n",
    "\n",
    "    state_graph = nx.DiGraph()\n",
    "\n",
    "    for x in answers.by_predicate:\n",
    "        #print(x[\"all_column_name_at_state_test\"])\n",
    "        for y in x[\"state_edge\"]:\n",
    "            #print(y[0][1],y[0][2])\n",
    "            #print(y[0])\n",
    "            #print(y[1])            \n",
    "            #state_graph.add_node(y[0][1],col_name=y[2],col_schema_id=y[4])\n",
    "            state_graph.add_edge(y[0][1][0],y[0][1][1],op_name=y[0][1][2])\n",
    "            state_graph.add_edge(y[1][1][0],y[1][1][1],op_name=y[1][1][2])\n",
    "\n",
    "    #print(state_graph.edges)\n",
    "    state_path = nx.dag_longest_path(state_graph)\n",
    "    #print(state_path)\n",
    "    #state_name = nx.get_edge_attributes(state_graph)\n",
    "    #print(state_name)\n",
    "    state_schema = []\n",
    "    state_names = nx.get_edge_attributes(state_graph,\"op_name\")\n",
    "    for i,x in enumerate(state_path[:-1]):\n",
    "        #col_schema.append((x,col_name[x]))            \n",
    "        state_schema.append((state_path[i],state_names[(x,state_path[i+1])]))\n",
    "        #print(state_name)\n",
    "\n",
    "    state_schema.append((state_path[i+1],\"original\"))\n",
    "\n",
    "\n",
    "    #print(state_schema)\n",
    "    return state_schema\n",
    "state_schema = state_dependency(facts_file,dname)\n",
    "state_schema\n",
    "    "
   ]
  },
  {
   "source": [
    "## What are the column names and orders at state ?"
   ],
   "cell_type": "markdown",
   "metadata": {}
  },
  {
   "cell_type": "code",
   "execution_count": 30,
   "metadata": {},
   "outputs": [
    {
     "output_type": "execute_result",
     "data": {
      "text/plain": [
       "[(0, '\"id\"'),\n",
       " (1, '\"name\"'),\n",
       " (22, '\"name_grel\"'),\n",
       " (23, '\"name_grel_star\"'),\n",
       " (2, '\"host_id\"'),\n",
       " (19, '\"host_name 1 test\"'),\n",
       " (3, '\"host_name\"'),\n",
       " (20, '\"host_name 2\"'),\n",
       " (5, '\"neighbourhood\"'),\n",
       " (16, '\"neighbourhood_case\"'),\n",
       " (17, '\"neighbourhood_loop\"'),\n",
       " (26, '\"test_combine\"'),\n",
       " (18, '\"neighbourhood_cluster\"'),\n",
       " (6, '\"latitude\"'),\n",
       " (7, '\"longitude\"'),\n",
       " (8, '\"room_type\"'),\n",
       " (9, '\"price\"'),\n",
       " (24, '\"price_crazy\"'),\n",
       " (10, '\"minimum_nights\"'),\n",
       " (25, '\"minimum_nights_long\"'),\n",
       " (11, '\"number_of_reviews\"'),\n",
       " (12, '\"last_review\"'),\n",
       " (21, '\"last_review_timeless\"'),\n",
       " (13, '\"reviews_per_month\"'),\n",
       " (14, '\"calculated_host_listings_count\"'),\n",
       " (15, '\"availability_365\"')]"
      ]
     },
     "metadata": {},
     "execution_count": 30
    }
   ],
   "source": [
    "#facts_file = \"03_poster_demo.openrefine.extract/facts.pl\"\n",
    "facts_file=\"airbnb_dirty-csv.openrefine-2.extract/facts_content_excluded.pl\"\n",
    "dname = \"airbnb_dirty-csv.openrefine-2.tar.gz\"\n",
    "\n",
    "def col_schema_at_state(facts_file,dname,state):\n",
    "    answers = clyngor.solve([facts_file,\"rules/general_query.pl\"],inline=\"\"\"\n",
    "    dataset_name(N) :- N=\"{dname}\".\n",
    "    state(N) :- N={state}.\n",
    "    all_column_schema_at_before_state_test(A,B) :-\n",
    "        all_column_schema_at_before_state(A,B),\n",
    "        state(B).\n",
    "    all_column_schema_at_state_test(A,B,C) :-\n",
    "        all_column_schema_at_state(A,B,C),\n",
    "        state(C).    \n",
    "    #show all_column_name_at_state_test/5.    \n",
    "    \"\"\".format(state=state,dname=dname))\n",
    "\n",
    "    col_graph = nx.DiGraph()\n",
    "    for x in answers.by_predicate:\n",
    "        #print(x[\"all_column_name_at_state_test\"])\n",
    "        for y in x[\"all_column_name_at_state_test\"]:\n",
    "            #print(y)\n",
    "            col_graph.add_node(y[1],col_name=y[2],col_schema_id=y[4])\n",
    "            col_graph.add_edge(y[3],y[1])\n",
    "    col_path = nx.dag_longest_path(col_graph)\n",
    "    col_name = nx.get_node_attributes(col_graph,\"col_name\")\n",
    "    col_schema = []\n",
    "    for x in col_path[1:]:\n",
    "        col_schema.append((x,col_name[x]))\n",
    "    return col_schema\n",
    "col_schema = col_schema_at_state(facts_file,dname,-1)\n",
    "col_schema\n",
    "    "
   ]
  },
  {
   "cell_type": "code",
   "execution_count": 250,
   "metadata": {},
   "outputs": [
    {
     "output_type": "execute_result",
     "data": {
      "text/plain": [
       "([0, 1, 3, 2], 4)"
      ]
     },
     "metadata": {},
     "execution_count": 250
    }
   ],
   "source": [
    "#facts_file=\"airbnb_dirty-csv.openrefine-2.extract/facts.pl\"\n",
    "#facts_file=\"airbnb_dirty-csv.openrefine-2.extract/facts_content_excluded.pl\"\n",
    "facts_file = \"ipaw_2021_demo.openrefine.extract/facts_content_excluded.pl\"\n",
    "#dname = \"airbnb_dirty-csv.openrefine-2.tar.gz\"\n",
    "dname = \"ipaw_2021_demo.openrefine.tar.gz\"\n",
    "\n",
    "#facts_file = \"03_poster_demo.openrefine.extract/facts.pl\"\n",
    "#dname = \"03_poster_demo.openrefine.extract.tar.gz\"\n",
    "\n",
    "#row_graph = nx.DiGraph()\n",
    "\n",
    "def row_order_at_state(facts_file,dname,state):\n",
    "    # column_query.pl general_query.pl\n",
    "    answers = clyngor.solve([facts_file,\"rules/general_query.pl\"],inline=\"\"\"    \n",
    "    state(N) :- N={state}.\n",
    "    dataset_name(N) :- N=\"{dname}\".\n",
    "    #show row_position_at_state_test/4.\n",
    "    \"\"\".format(state=state,dname=dname))\n",
    "\n",
    "    row_graph = nx.DiGraph()\n",
    "    for x in answers.by_predicate:\n",
    "        for y in x[\"row_position_at_state_test\"]:\n",
    "            #print(y)\n",
    "            row_graph.add_node(y[1],row_schema_id=y[0])\n",
    "            row_graph.add_edge(y[3],y[1])\n",
    "    row_path = nx.dag_longest_path(row_graph)\n",
    "    row_order = []\n",
    "    for x in row_path[1:]:\n",
    "        row_order.append(x)\n",
    "    return row_order\n",
    "\n",
    "row_order = row_order_at_state(facts_file,dname,4)\n",
    "row_order[:20],len(row_order)\n",
    "    "
   ]
  },
  {
   "source": [
    "### What are the column values at state ?"
   ],
   "cell_type": "markdown",
   "metadata": {}
  },
  {
   "cell_type": "code",
   "execution_count": 251,
   "metadata": {},
   "outputs": [
    {
     "output_type": "execute_result",
     "data": {
      "text/plain": [
       "'\\nselect a.content_id,b.col_id,b.row_id,c.value_text from content a, cell b, value c where a.cell_id = b.cell_id and c.value_id=a.value_id\\n'"
      ]
     },
     "metadata": {},
     "execution_count": 251
    }
   ],
   "source": [
    "\"\"\"\n",
    "select a.content_id,b.col_id,b.row_id,c.value_text from content a, cell b, value c where a.cell_id = b.cell_id and c.value_id=a.value_id\n",
    "\"\"\""
   ]
  },
  {
   "cell_type": "code",
   "execution_count": 255,
   "metadata": {},
   "outputs": [
    {
     "output_type": "stream",
     "name": "stdout",
     "text": [
      "col_order\nrow_order\n"
     ]
    }
   ],
   "source": [
    "#facts_file = \"03_poster_demo.openrefine.extract/facts.pl\"\n",
    "#dname = \"03_poster_demo.openrefine\"\n",
    "#facts_file = \"airbnb_dirty-csv.openrefine-2.extract/facts_content_excluded.pl\"\n",
    "#dname = \"airbnb_dirty-csv.openrefine-2\"\n",
    "facts_file = \"ipaw_2021_demo.openrefine.extract/facts_content_excluded.pl\"\n",
    "dname = \"ipaw_2021_demo.openrefine\"\n",
    "\n",
    "import numpy as np\n",
    "import tqdm\n",
    "answers = None\n",
    "def cell_content_at_state(facts_file,dname,state):\n",
    "    dbname = dname + \".db\"\n",
    "    dname = dname + \".tar.gz\"\n",
    "    col_schema = col_schema_at_state(facts_file,dname,state)\n",
    "    print(\"col_order\")\n",
    "    row_order = row_order_at_state(facts_file,dname,state)\n",
    "    print(\"row_order\")\n",
    "\n",
    "    answers = clyngor.solve([facts_file,\"rules/general_query.pl\"],inline=\"\"\"\n",
    "    state(N) :- N={state}.\n",
    "    dataset_name(N) :- N=\"{dname}\".\n",
    "\n",
    "    content(-1,nul,nul,nul,nul).\n",
    "\n",
    "    change_content_at_before_state(PrevContentId, StateId) :-\n",
    "        content(ContentId, _, NextColumnSchemaStateId, _, PrevContentId),\n",
    "        NextColumnSchemaStateId <= StateId,\n",
    "        state_num(StateId).\n",
    "\n",
    "    change_content_at_state(ContentId, CellId, StateId) :-\n",
    "        content(ContentId, CellId, AssignmentStateId, _, _),\n",
    "        StateId >= AssignmentStateId,\n",
    "        not change_content_at_before_state(ContentId, StateId),\n",
    "        state_num(StateId).\n",
    "\n",
    "    change_count_at_before_state(B) :- content(A,B,N,_,_),\n",
    "        state(N).\n",
    "\n",
    "    change_count_at_state(B) :- content(A,B,N,_,_),\n",
    "        state(N).\n",
    "\n",
    "    change_content_at_state_test(ContentId, CellId, StateId) :-\n",
    "        change_content_at_state(ContentId, CellId, StateId),\n",
    "        state(StateId).\n",
    "\n",
    "    #show change_content_at_state_test/3.\n",
    "    \"\"\".format(state=state,dname=dname))\n",
    "    #print(list(answers))\n",
    "\n",
    "    #col_graph = nx.DiGraph()\n",
    "\n",
    "    col_len = max([x[0] for x in col_schema])+1\n",
    "    row_len = max(row_order)+1\n",
    "\n",
    "    #print(col_len,row_len)    \n",
    "\n",
    "    temp_table = np.empty((row_len,col_len),dtype=object)\n",
    "\n",
    "    log_col = {}\n",
    "    col_name = np.empty(col_len,dtype=object)\n",
    "    for i,x in enumerate(col_schema):\n",
    "        log_col[x[0]]=i\n",
    "        col_name[x[0]] = eval(x[1])\n",
    "    log_row = {}\n",
    "    for i,x in enumerate(row_order):\n",
    "        log_row[x]=i\n",
    "    #print(row_order)\n",
    "    #print(temp_table.shape)\n",
    "    tt = []\n",
    "    #return answers, log_col, log_row\n",
    "    conn = sqlite3.connect(dbname)\n",
    "    cursor = conn.cursor()\n",
    "\n",
    "    for x in answers.by_predicate:\n",
    "        #print(x)\n",
    "        #print(x[\"all_column_name_at_state_test\"])\n",
    "        for y in x[\"change_content_at_state_test\"]:\n",
    "            #tt.append(y)\n",
    "            #print(y)\n",
    "            #print(y[3],y[2],y[4])\n",
    "            #temp_table[log_row[y[3]],log_col[y[2]]] = eval(y[0])\n",
    "\n",
    "            cts = list(cursor.execute(\"select a.content_id,b.col_id,b.row_id,c.value_text from content a, cell b, value c where a.cell_id = b.cell_id and c.value_id=a.value_id and a.content_id=?\",(y[0],)))[0]\n",
    "            if (cts[1]<col_len):\n",
    "                temp_table[cts[2],cts[1]] = cts[3]\n",
    "            \n",
    "    cursor.close()        \n",
    "    \n",
    "    \n",
    "    temp_pd = pd.DataFrame(temp_table)\n",
    "    temp_pd.columns = col_name\n",
    "    \n",
    "\n",
    "    return temp_pd\n",
    "\n",
    "test = cell_content_at_state(facts_file,dname,5)\n",
    "    "
   ]
  },
  {
   "cell_type": "code",
   "execution_count": 256,
   "metadata": {},
   "outputs": [
    {
     "output_type": "execute_result",
     "data": {
      "text/plain": [
       "('ipaw_2021_demo.openrefine.extract/facts_content_excluded.pl',\n",
       " 'ipaw_2021_demo.openrefine')"
      ]
     },
     "metadata": {},
     "execution_count": 256
    }
   ],
   "source": [
    "facts_file,dname"
   ]
  },
  {
   "cell_type": "code",
   "execution_count": 296,
   "metadata": {},
   "outputs": [
    {
     "output_type": "execute_result",
     "data": {
      "text/plain": [
       "[(0, '\"TItle\"'), (1, '\"Author\"'), (3, '\"Author 1\"'), (4, '\"Author 2\"')]"
      ]
     },
     "metadata": {},
     "execution_count": 296
    }
   ],
   "source": [
    "col_schema = col_schema_at_state(facts_file,dname,5)\n",
    "col_schema"
   ]
  },
  {
   "cell_type": "code",
   "execution_count": 292,
   "metadata": {},
   "outputs": [
    {
     "output_type": "execute_result",
     "data": {
      "text/plain": [
       "[0, 1, 3, 2]"
      ]
     },
     "metadata": {},
     "execution_count": 292
    }
   ],
   "source": [
    "row_order_at_state(facts_file,dname,4)"
   ]
  },
  {
   "cell_type": "code",
   "execution_count": 300,
   "metadata": {},
   "outputs": [
    {
     "output_type": "stream",
     "name": "stdout",
     "text": [
      "col_order\nrow_order\n"
     ]
    },
    {
     "output_type": "execute_result",
     "data": {
      "text/plain": [
       "                   TItle          Author  Date    Author 1 Author 2\n",
       "0         Against Method  Feyerabend, P.  1975  Feyerabend     None\n",
       "1         Changing Order   Collins, H.M.  1985     Collins     None\n",
       "3  Theory of Information                  1992        None     None\n",
       "2    Exceeding Our Grasp  Stanford, P.K.  2006    Stanford     None"
      ],
      "text/html": "<div>\n<style scoped>\n    .dataframe tbody tr th:only-of-type {\n        vertical-align: middle;\n    }\n\n    .dataframe tbody tr th {\n        vertical-align: top;\n    }\n\n    .dataframe thead th {\n        text-align: right;\n    }\n</style>\n<table border=\"1\" class=\"dataframe\">\n  <thead>\n    <tr style=\"text-align: right;\">\n      <th></th>\n      <th>TItle</th>\n      <th>Author</th>\n      <th>Date</th>\n      <th>Author 1</th>\n      <th>Author 2</th>\n    </tr>\n  </thead>\n  <tbody>\n    <tr>\n      <th>0</th>\n      <td>Against Method</td>\n      <td>Feyerabend, P.</td>\n      <td>1975</td>\n      <td>Feyerabend</td>\n      <td>None</td>\n    </tr>\n    <tr>\n      <th>1</th>\n      <td>Changing Order</td>\n      <td>Collins, H.M.</td>\n      <td>1985</td>\n      <td>Collins</td>\n      <td>None</td>\n    </tr>\n    <tr>\n      <th>3</th>\n      <td>Theory of Information</td>\n      <td></td>\n      <td>1992</td>\n      <td>None</td>\n      <td>None</td>\n    </tr>\n    <tr>\n      <th>2</th>\n      <td>Exceeding Our Grasp</td>\n      <td>Stanford, P.K.</td>\n      <td>2006</td>\n      <td>Stanford</td>\n      <td>None</td>\n    </tr>\n  </tbody>\n</table>\n</div>"
     },
     "metadata": {},
     "execution_count": 300
    }
   ],
   "source": [
    "tt = cell_content_at_state(facts_file,dname,4)\n",
    "tt.columns = [\"TItle\",\"Author\",\"Date\",\"Author 1\",\"Author 2\"]\n",
    "tt.iloc[row_order_at_state(facts_file,dname,4)]"
   ]
  },
  {
   "cell_type": "code",
   "execution_count": 276,
   "metadata": {},
   "outputs": [
    {
     "output_type": "stream",
     "name": "stdout",
     "text": [
      "col_order\nrow_order\n"
     ]
    }
   ],
   "source": [
    "test2 = cell_content_at_state(facts_file,dname,8)\n"
   ]
  },
  {
   "cell_type": "code",
   "execution_count": 112,
   "metadata": {},
   "outputs": [
    {
     "output_type": "execute_result",
     "data": {
      "text/plain": [
       "            id                                               name    host_id  \\\n",
       "0     30041063          (Quiet & Affordable Private BDR near UOC)  225773707   \n",
       "1     29960994                             (Feel cozy in chicago)  225262670   \n",
       "2     29946929  (Cozy 2 Bedroom Apartment in the Heart of Chic...  225157895   \n",
       "3     29940545  (Beautiful 7Br 6200 sf Brick & Steel Custom Ma...  225106605   \n",
       "4     29936021    (Convenient, Beautiful, Spacious 2Br/2Ba Condo)  225076770   \n",
       "...        ...                                                ...        ...   \n",
       "7589   3983057                (4 Cooperative Living in Hyde Park)       2140   \n",
       "7590   3984079                        (5 Sabbatical in Hyde Park)       2140   \n",
       "7591   4011519                       (1 A Hyde Park Co-op Living)       2140   \n",
       "7592  29955320                          (Explore Chicago by Foot)  225219313   \n",
       "7593  29947690   (???Pool???Hot tub???Free Parking???Shopping???)  225163320   \n",
       "\n",
       "        host_name neighbourhood_group    neighbourhood     latitude  \\\n",
       "0          LaShun                None         Woodlawn  41.77712429   \n",
       "1           Karla                None        Edgewater  41.98536071   \n",
       "2         Frankie                None  Lower West Side  41.85198185   \n",
       "3            Neda                None       Bridgeport  41.84452795   \n",
       "4               J                None    Mckinley Park   41.8296729   \n",
       "...           ...                 ...              ...          ...   \n",
       "7589  Lois And Ed                None        hyde park  41.79507237   \n",
       "7590  Lois And Ed                None        hyde park  41.79718187   \n",
       "7591  Lois And Ed                None        hyde park  41.79535661   \n",
       "7592      Milaina                None   Near West Side   41.8791222   \n",
       "7593     Leighton                None          Kenwood  41.80303094   \n",
       "\n",
       "         longitude        room_type price minimum_nights number_of_reviews  \\\n",
       "0     -87.59471115     Private room    25              1                 0   \n",
       "1     -87.66898893     Private room    70              2                 0   \n",
       "2     -87.67767597  Entire home/apt    79              1                 0   \n",
       "3      -87.6558587  Entire home/apt   300              2                 0   \n",
       "4     -87.67826309  Entire home/apt    70              1                 0   \n",
       "...            ...              ...   ...            ...               ...   \n",
       "7589  -87.59332266     Private room    40              2                38   \n",
       "7590  -87.59378733  Entire home/apt   150              2                10   \n",
       "7591  -87.59219207     Private room    30              2                31   \n",
       "7592  -87.65005215     Private room    48              1                 0   \n",
       "7593  -87.58462046  Entire home/apt   146              1                 0   \n",
       "\n",
       "     last_review reviews_per_month calculated_host_listings_count  \\\n",
       "0           None              None                              1   \n",
       "1           None              None                              1   \n",
       "2           None              None                              1   \n",
       "3           None              None                              1   \n",
       "4           None              None                              1   \n",
       "...          ...               ...                            ...   \n",
       "7589     9/16/18              0.88                              5   \n",
       "7590     7/23/18              0.31                              5   \n",
       "7591      9/8/18              0.65                              5   \n",
       "7592        None              None                              1   \n",
       "7593        None              None                              1   \n",
       "\n",
       "     availability_365  \n",
       "0                 173  \n",
       "1                 179  \n",
       "2                  62  \n",
       "3                 355  \n",
       "4                   3  \n",
       "...               ...  \n",
       "7589              333  \n",
       "7590               55  \n",
       "7591              216  \n",
       "7592              175  \n",
       "7593              319  \n",
       "\n",
       "[7594 rows x 16 columns]"
      ],
      "text/html": "<div>\n<style scoped>\n    .dataframe tbody tr th:only-of-type {\n        vertical-align: middle;\n    }\n\n    .dataframe tbody tr th {\n        vertical-align: top;\n    }\n\n    .dataframe thead th {\n        text-align: right;\n    }\n</style>\n<table border=\"1\" class=\"dataframe\">\n  <thead>\n    <tr style=\"text-align: right;\">\n      <th></th>\n      <th>id</th>\n      <th>name</th>\n      <th>host_id</th>\n      <th>host_name</th>\n      <th>neighbourhood_group</th>\n      <th>neighbourhood</th>\n      <th>latitude</th>\n      <th>longitude</th>\n      <th>room_type</th>\n      <th>price</th>\n      <th>minimum_nights</th>\n      <th>number_of_reviews</th>\n      <th>last_review</th>\n      <th>reviews_per_month</th>\n      <th>calculated_host_listings_count</th>\n      <th>availability_365</th>\n    </tr>\n  </thead>\n  <tbody>\n    <tr>\n      <th>0</th>\n      <td>30041063</td>\n      <td>(Quiet &amp; Affordable Private BDR near UOC)</td>\n      <td>225773707</td>\n      <td>LaShun</td>\n      <td>None</td>\n      <td>Woodlawn</td>\n      <td>41.77712429</td>\n      <td>-87.59471115</td>\n      <td>Private room</td>\n      <td>25</td>\n      <td>1</td>\n      <td>0</td>\n      <td>None</td>\n      <td>None</td>\n      <td>1</td>\n      <td>173</td>\n    </tr>\n    <tr>\n      <th>1</th>\n      <td>29960994</td>\n      <td>(Feel cozy in chicago)</td>\n      <td>225262670</td>\n      <td>Karla</td>\n      <td>None</td>\n      <td>Edgewater</td>\n      <td>41.98536071</td>\n      <td>-87.66898893</td>\n      <td>Private room</td>\n      <td>70</td>\n      <td>2</td>\n      <td>0</td>\n      <td>None</td>\n      <td>None</td>\n      <td>1</td>\n      <td>179</td>\n    </tr>\n    <tr>\n      <th>2</th>\n      <td>29946929</td>\n      <td>(Cozy 2 Bedroom Apartment in the Heart of Chic...</td>\n      <td>225157895</td>\n      <td>Frankie</td>\n      <td>None</td>\n      <td>Lower West Side</td>\n      <td>41.85198185</td>\n      <td>-87.67767597</td>\n      <td>Entire home/apt</td>\n      <td>79</td>\n      <td>1</td>\n      <td>0</td>\n      <td>None</td>\n      <td>None</td>\n      <td>1</td>\n      <td>62</td>\n    </tr>\n    <tr>\n      <th>3</th>\n      <td>29940545</td>\n      <td>(Beautiful 7Br 6200 sf Brick &amp; Steel Custom Ma...</td>\n      <td>225106605</td>\n      <td>Neda</td>\n      <td>None</td>\n      <td>Bridgeport</td>\n      <td>41.84452795</td>\n      <td>-87.6558587</td>\n      <td>Entire home/apt</td>\n      <td>300</td>\n      <td>2</td>\n      <td>0</td>\n      <td>None</td>\n      <td>None</td>\n      <td>1</td>\n      <td>355</td>\n    </tr>\n    <tr>\n      <th>4</th>\n      <td>29936021</td>\n      <td>(Convenient, Beautiful, Spacious 2Br/2Ba Condo)</td>\n      <td>225076770</td>\n      <td>J</td>\n      <td>None</td>\n      <td>Mckinley Park</td>\n      <td>41.8296729</td>\n      <td>-87.67826309</td>\n      <td>Entire home/apt</td>\n      <td>70</td>\n      <td>1</td>\n      <td>0</td>\n      <td>None</td>\n      <td>None</td>\n      <td>1</td>\n      <td>3</td>\n    </tr>\n    <tr>\n      <th>...</th>\n      <td>...</td>\n      <td>...</td>\n      <td>...</td>\n      <td>...</td>\n      <td>...</td>\n      <td>...</td>\n      <td>...</td>\n      <td>...</td>\n      <td>...</td>\n      <td>...</td>\n      <td>...</td>\n      <td>...</td>\n      <td>...</td>\n      <td>...</td>\n      <td>...</td>\n      <td>...</td>\n    </tr>\n    <tr>\n      <th>7589</th>\n      <td>3983057</td>\n      <td>(4 Cooperative Living in Hyde Park)</td>\n      <td>2140</td>\n      <td>Lois And Ed</td>\n      <td>None</td>\n      <td>hyde park</td>\n      <td>41.79507237</td>\n      <td>-87.59332266</td>\n      <td>Private room</td>\n      <td>40</td>\n      <td>2</td>\n      <td>38</td>\n      <td>9/16/18</td>\n      <td>0.88</td>\n      <td>5</td>\n      <td>333</td>\n    </tr>\n    <tr>\n      <th>7590</th>\n      <td>3984079</td>\n      <td>(5 Sabbatical in Hyde Park)</td>\n      <td>2140</td>\n      <td>Lois And Ed</td>\n      <td>None</td>\n      <td>hyde park</td>\n      <td>41.79718187</td>\n      <td>-87.59378733</td>\n      <td>Entire home/apt</td>\n      <td>150</td>\n      <td>2</td>\n      <td>10</td>\n      <td>7/23/18</td>\n      <td>0.31</td>\n      <td>5</td>\n      <td>55</td>\n    </tr>\n    <tr>\n      <th>7591</th>\n      <td>4011519</td>\n      <td>(1 A Hyde Park Co-op Living)</td>\n      <td>2140</td>\n      <td>Lois And Ed</td>\n      <td>None</td>\n      <td>hyde park</td>\n      <td>41.79535661</td>\n      <td>-87.59219207</td>\n      <td>Private room</td>\n      <td>30</td>\n      <td>2</td>\n      <td>31</td>\n      <td>9/8/18</td>\n      <td>0.65</td>\n      <td>5</td>\n      <td>216</td>\n    </tr>\n    <tr>\n      <th>7592</th>\n      <td>29955320</td>\n      <td>(Explore Chicago by Foot)</td>\n      <td>225219313</td>\n      <td>Milaina</td>\n      <td>None</td>\n      <td>Near West Side</td>\n      <td>41.8791222</td>\n      <td>-87.65005215</td>\n      <td>Private room</td>\n      <td>48</td>\n      <td>1</td>\n      <td>0</td>\n      <td>None</td>\n      <td>None</td>\n      <td>1</td>\n      <td>175</td>\n    </tr>\n    <tr>\n      <th>7593</th>\n      <td>29947690</td>\n      <td>(???Pool???Hot tub???Free Parking???Shopping???)</td>\n      <td>225163320</td>\n      <td>Leighton</td>\n      <td>None</td>\n      <td>Kenwood</td>\n      <td>41.80303094</td>\n      <td>-87.58462046</td>\n      <td>Entire home/apt</td>\n      <td>146</td>\n      <td>1</td>\n      <td>0</td>\n      <td>None</td>\n      <td>None</td>\n      <td>1</td>\n      <td>319</td>\n    </tr>\n  </tbody>\n</table>\n<p>7594 rows × 16 columns</p>\n</div>"
     },
     "metadata": {},
     "execution_count": 112
    }
   ],
   "source": [
    "test2"
   ]
  },
  {
   "cell_type": "code",
   "execution_count": 42,
   "metadata": {},
   "outputs": [],
   "source": [
    "xx = list(test[0])"
   ]
  },
  {
   "cell_type": "code",
   "execution_count": 68,
   "metadata": {},
   "outputs": [],
   "source": [
    "cursor.close()"
   ]
  },
  {
   "source": [
    "conn = sqlite3.connect(\"airbnb_dirty-csv.openrefine-2.db\")\n",
    "cursor = conn.cursor()\n",
    "\n",
    "dd = []\n",
    "for x in xx[0]:\n",
    "    #print(x[1][0])\n",
    "    cts = list(cursor.execute(\"select a.content_id,b.col_id,b.row_id,c.value_text from content a, cell b, value c where a.cell_id = b.cell_id and c.value_id=a.value_id and a.content_id=?\",(x[1][0],)))\n",
    "    dd.append(list(cts)[0])\n",
    "    #print(list(cts))\n",
    "    #break\n",
    "cursor.close()    "
   ],
   "cell_type": "code",
   "metadata": {
    "tags": [
     "outputPrepend"
    ]
   },
   "execution_count": null,
   "outputs": []
  },
  {
   "source": [
    "    cts = list(cursor.execute(\"select a.content_id,b.col_id,b.row_id,c.value_text from content a, cell b, value c where a.cell_id = b.cell_id and c.value_id=a.value_id and a.content_id=?\",(x[1][0],)))\n"
   ],
   "cell_type": "code",
   "metadata": {},
   "execution_count": null,
   "outputs": []
  },
  {
   "cell_type": "code",
   "execution_count": 39,
   "metadata": {},
   "outputs": [
    {
     "output_type": "error",
     "ename": "IndentationError",
     "evalue": "unexpected indent (<ipython-input-39-1cf53d949950>, line 78)",
     "traceback": [
      "\u001b[0;36m  File \u001b[0;32m\"<ipython-input-39-1cf53d949950>\"\u001b[0;36m, line \u001b[0;32m78\u001b[0m\n\u001b[0;31m    temp_pd = pd.DataFrame(temp_table)\u001b[0m\n\u001b[0m    ^\u001b[0m\n\u001b[0;31mIndentationError\u001b[0m\u001b[0;31m:\u001b[0m unexpected indent\n"
     ]
    }
   ],
   "source": [
    "facts_file = \"03_poster_demo.openrefine.extract/facts.pl\"\n",
    "dname = \"03_poster_demo.openrefine.extract.tar.gz\"\n",
    "#facts_file = \"03_poster_demo.openrefine.extract/facts.pl\"\n",
    "#dname = \"03_poster_demo.openrefine.tar.gz\"\n",
    "\n",
    "import numpy as np\n",
    "def cell_content_at_state(facts_file,dname,state):\n",
    "    col_schema = col_schema_at_state(facts_file,dname,state)\n",
    "    row_order = row_order_at_state(facts_file,dname,state)\n",
    "\n",
    "\n",
    "    answers = clyngor.solve([facts_file,\"rules/column_query.pl\"],inline=\"\"\"\n",
    "    state(N) :- N={state}.\n",
    "    dataset_name(N) :- N=\"{dname}\".\n",
    "\n",
    "    content(-1,nul,nul,nul,nul).\n",
    "\n",
    "    change_content_at_before_state(PrevContentId, StateId) :-\n",
    "        content(ContentId, _, NextColumnSchemaStateId, _, PrevContentId),\n",
    "        NextColumnSchemaStateId <= StateId,\n",
    "        state_num(StateId).\n",
    "\n",
    "    change_content_at_state(ContentId, CellId, StateId) :-\n",
    "        content(ContentId, CellId, AssignmentStateId, _, _),\n",
    "        StateId >= AssignmentStateId,\n",
    "        not change_content_at_before_state(ContentId, StateId),\n",
    "        state_num(StateId).\n",
    "\n",
    "    change_count_at_before_state(B) :- content(A,B,N,_,_),\n",
    "        state(N).\n",
    "\n",
    "    change_count_at_state(B) :- content(A,B,N,_,_),\n",
    "        state(N).\n",
    "\n",
    "    change_content_at_state_test(ContentId, CellId, ColNum, RowNum, Value, StateId) :-\n",
    "        change_content_at_state(ContentId, CellId, StateId),\n",
    "        value(ValueId,Value),\n",
    "        cell(CellId,ColNum,RowNum),\n",
    "        content(ContentId,_,_,ValueId,_),\n",
    "        state(StateId).\n",
    "\n",
    "    #show change_content_at_state_test/6.\n",
    "    \"\"\".format(state=state,dname=dname))\n",
    "    #print(list(answers))\n",
    "\n",
    "    #col_graph = nx.DiGraph()\n",
    "\n",
    "    col_len = len(col_schema)\n",
    "    row_len = len(row_order)\n",
    "\n",
    "    temp_table = np.empty((row_len,col_len),dtype=object)\n",
    "\n",
    "    log_col = {}\n",
    "    col_name = np.empty(col_len,dtype=object)\n",
    "    for i,x in enumerate(col_schema):\n",
    "        log_col[x[0]]=i\n",
    "        col_name[x[0]] = eval(x[1])\n",
    "    log_row = {}\n",
    "    for i,x in enumerate(row_order):\n",
    "        log_row[x]=i\n",
    "\n",
    "    return answers,log_col,log_row\n",
    "\n",
    "    #print(row_order)\n",
    "    #print(temp_table.shape)\n",
    "    for x in answers.by_predicate:\n",
    "        #print(x)\n",
    "        #print(x[\"all_column_name_at_state_test\"])\n",
    "        for y in x[\"change_content_at_state_test\"]:\n",
    "            #print(y)\n",
    "            #print(y[3],y[2],y[4])\n",
    "            temp_table[log_row[y[3]],log_col[y[2]]] = eval(y[4])\n",
    "\n",
    "            cts = list(cursor.execute(\"SELECT b.state_id,b.command,count(1) from content a,state_command b  where a.state_id >= 0 and a.state_id=b.state_id group by b.state_id order by b.state_id desc\"))\n",
    "            #cts = list(cursor.execute(\"SELECT * from content\"))\n",
    "            cts            \n",
    "    \n",
    "    temp_pd = pd.DataFrame(temp_table)\n",
    "    temp_pd.columns = col_name\n",
    "\n",
    "    return temp_pd\n",
    "\n",
    "cell_content_at_state(facts_file,dname,5)\n",
    "    "
   ]
  },
  {
   "cell_type": "code",
   "execution_count": null,
   "metadata": {},
   "outputs": [],
   "source": []
  },
  {
   "cell_type": "code",
   "execution_count": null,
   "metadata": {},
   "outputs": [],
   "source": []
  },
  {
   "cell_type": "code",
   "execution_count": 37,
   "metadata": {},
   "outputs": [],
   "source": [
    "answers"
   ]
  },
  {
   "cell_type": "code",
   "execution_count": 39,
   "metadata": {},
   "outputs": [
    {
     "output_type": "stream",
     "name": "stdout",
     "text": [
      "(5, 'original')\ncol_order\n"
     ]
    },
    {
     "output_type": "error",
     "ename": "NetworkXUnfeasible",
     "evalue": "Graph contains a cycle or graph changed during iteration",
     "traceback": [
      "\u001b[0;31m---------------------------------------------------------------------------\u001b[0m",
      "\u001b[0;31mNetworkXUnfeasible\u001b[0m                        Traceback (most recent call last)",
      "\u001b[0;32m<ipython-input-39-2ad8059fce5a>\u001b[0m in \u001b[0;36m<module>\u001b[0;34m\u001b[0m\n\u001b[1;32m      5\u001b[0m \u001b[0;32mfor\u001b[0m \u001b[0mx\u001b[0m \u001b[0;32min\u001b[0m \u001b[0mstate_schema\u001b[0m\u001b[0;34m[\u001b[0m\u001b[0;34m:\u001b[0m\u001b[0;34m:\u001b[0m\u001b[0;34m-\u001b[0m\u001b[0;36m1\u001b[0m\u001b[0;34m]\u001b[0m\u001b[0;34m:\u001b[0m\u001b[0;34m\u001b[0m\u001b[0;34m\u001b[0m\u001b[0m\n\u001b[1;32m      6\u001b[0m     \u001b[0mprint\u001b[0m\u001b[0;34m(\u001b[0m\u001b[0mx\u001b[0m\u001b[0;34m)\u001b[0m\u001b[0;34m\u001b[0m\u001b[0;34m\u001b[0m\u001b[0m\n\u001b[0;32m----> 7\u001b[0;31m     \u001b[0mprint\u001b[0m\u001b[0;34m(\u001b[0m\u001b[0mcell_content_at_state\u001b[0m\u001b[0;34m(\u001b[0m\u001b[0mfacts_file\u001b[0m\u001b[0;34m,\u001b[0m\u001b[0mdname\u001b[0m\u001b[0;34m,\u001b[0m\u001b[0mx\u001b[0m\u001b[0;34m[\u001b[0m\u001b[0;36m0\u001b[0m\u001b[0;34m]\u001b[0m\u001b[0;34m)\u001b[0m\u001b[0;34m)\u001b[0m\u001b[0;34m\u001b[0m\u001b[0;34m\u001b[0m\u001b[0m\n\u001b[0m",
      "\u001b[0;32m<ipython-input-29-6ed2c8683b63>\u001b[0m in \u001b[0;36mcell_content_at_state\u001b[0;34m(facts_file, dname, state)\u001b[0m\n\u001b[1;32m      7\u001b[0m \u001b[0;32mdef\u001b[0m \u001b[0mcell_content_at_state\u001b[0m\u001b[0;34m(\u001b[0m\u001b[0mfacts_file\u001b[0m\u001b[0;34m,\u001b[0m\u001b[0mdname\u001b[0m\u001b[0;34m,\u001b[0m\u001b[0mstate\u001b[0m\u001b[0;34m)\u001b[0m\u001b[0;34m:\u001b[0m\u001b[0;34m\u001b[0m\u001b[0;34m\u001b[0m\u001b[0m\n\u001b[1;32m      8\u001b[0m     \u001b[0mprint\u001b[0m\u001b[0;34m(\u001b[0m\u001b[0;34m\"col_order\"\u001b[0m\u001b[0;34m)\u001b[0m\u001b[0;34m\u001b[0m\u001b[0;34m\u001b[0m\u001b[0m\n\u001b[0;32m----> 9\u001b[0;31m     \u001b[0mcol_schema\u001b[0m \u001b[0;34m=\u001b[0m \u001b[0mcol_schema_at_state\u001b[0m\u001b[0;34m(\u001b[0m\u001b[0mfacts_file\u001b[0m\u001b[0;34m,\u001b[0m\u001b[0mdname\u001b[0m\u001b[0;34m,\u001b[0m\u001b[0mstate\u001b[0m\u001b[0;34m)\u001b[0m\u001b[0;34m\u001b[0m\u001b[0;34m\u001b[0m\u001b[0m\n\u001b[0m\u001b[1;32m     10\u001b[0m     \u001b[0mprint\u001b[0m\u001b[0;34m(\u001b[0m\u001b[0;34m\"row_order\"\u001b[0m\u001b[0;34m)\u001b[0m\u001b[0;34m\u001b[0m\u001b[0;34m\u001b[0m\u001b[0m\n\u001b[1;32m     11\u001b[0m     \u001b[0mrow_order\u001b[0m \u001b[0;34m=\u001b[0m \u001b[0mrow_order_at_state\u001b[0m\u001b[0;34m(\u001b[0m\u001b[0mfacts_file\u001b[0m\u001b[0;34m,\u001b[0m\u001b[0mdname\u001b[0m\u001b[0;34m,\u001b[0m\u001b[0mstate\u001b[0m\u001b[0;34m)\u001b[0m\u001b[0;34m\u001b[0m\u001b[0;34m\u001b[0m\u001b[0m\n",
      "\u001b[0;32m<ipython-input-26-4d21fd361c2f>\u001b[0m in \u001b[0;36mcol_schema_at_state\u001b[0;34m(facts_file, dname, state)\u001b[0m\n\u001b[1;32m     23\u001b[0m             \u001b[0mcol_graph\u001b[0m\u001b[0;34m.\u001b[0m\u001b[0madd_node\u001b[0m\u001b[0;34m(\u001b[0m\u001b[0my\u001b[0m\u001b[0;34m[\u001b[0m\u001b[0;36m1\u001b[0m\u001b[0;34m]\u001b[0m\u001b[0;34m,\u001b[0m\u001b[0mcol_name\u001b[0m\u001b[0;34m=\u001b[0m\u001b[0my\u001b[0m\u001b[0;34m[\u001b[0m\u001b[0;36m2\u001b[0m\u001b[0;34m]\u001b[0m\u001b[0;34m,\u001b[0m\u001b[0mcol_schema_id\u001b[0m\u001b[0;34m=\u001b[0m\u001b[0my\u001b[0m\u001b[0;34m[\u001b[0m\u001b[0;36m4\u001b[0m\u001b[0;34m]\u001b[0m\u001b[0;34m)\u001b[0m\u001b[0;34m\u001b[0m\u001b[0;34m\u001b[0m\u001b[0m\n\u001b[1;32m     24\u001b[0m             \u001b[0mcol_graph\u001b[0m\u001b[0;34m.\u001b[0m\u001b[0madd_edge\u001b[0m\u001b[0;34m(\u001b[0m\u001b[0my\u001b[0m\u001b[0;34m[\u001b[0m\u001b[0;36m3\u001b[0m\u001b[0;34m]\u001b[0m\u001b[0;34m,\u001b[0m\u001b[0my\u001b[0m\u001b[0;34m[\u001b[0m\u001b[0;36m1\u001b[0m\u001b[0;34m]\u001b[0m\u001b[0;34m)\u001b[0m\u001b[0;34m\u001b[0m\u001b[0;34m\u001b[0m\u001b[0m\n\u001b[0;32m---> 25\u001b[0;31m     \u001b[0mcol_path\u001b[0m \u001b[0;34m=\u001b[0m \u001b[0mnx\u001b[0m\u001b[0;34m.\u001b[0m\u001b[0mdag_longest_path\u001b[0m\u001b[0;34m(\u001b[0m\u001b[0mcol_graph\u001b[0m\u001b[0;34m)\u001b[0m\u001b[0;34m\u001b[0m\u001b[0;34m\u001b[0m\u001b[0m\n\u001b[0m\u001b[1;32m     26\u001b[0m     \u001b[0mcol_name\u001b[0m \u001b[0;34m=\u001b[0m \u001b[0mnx\u001b[0m\u001b[0;34m.\u001b[0m\u001b[0mget_node_attributes\u001b[0m\u001b[0;34m(\u001b[0m\u001b[0mcol_graph\u001b[0m\u001b[0;34m,\u001b[0m\u001b[0;34m\"col_name\"\u001b[0m\u001b[0;34m)\u001b[0m\u001b[0;34m\u001b[0m\u001b[0;34m\u001b[0m\u001b[0m\n\u001b[1;32m     27\u001b[0m     \u001b[0mcol_schema\u001b[0m \u001b[0;34m=\u001b[0m \u001b[0;34m[\u001b[0m\u001b[0;34m]\u001b[0m\u001b[0;34m\u001b[0m\u001b[0;34m\u001b[0m\u001b[0m\n",
      "\u001b[0;32m</opt/anaconda3/lib/python3.7/site-packages/decorator.py:decorator-gen-409>\u001b[0m in \u001b[0;36mdag_longest_path\u001b[0;34m(G, weight, default_weight, topo_order)\u001b[0m\n",
      "\u001b[0;32m/opt/anaconda3/lib/python3.7/site-packages/networkx/utils/decorators.py\u001b[0m in \u001b[0;36m_not_implemented_for\u001b[0;34m(not_implement_for_func, *args, **kwargs)\u001b[0m\n\u001b[1;32m     80\u001b[0m             \u001b[0;32mraise\u001b[0m \u001b[0mnx\u001b[0m\u001b[0;34m.\u001b[0m\u001b[0mNetworkXNotImplemented\u001b[0m\u001b[0;34m(\u001b[0m\u001b[0mmsg\u001b[0m\u001b[0;34m)\u001b[0m\u001b[0;34m\u001b[0m\u001b[0;34m\u001b[0m\u001b[0m\n\u001b[1;32m     81\u001b[0m         \u001b[0;32melse\u001b[0m\u001b[0;34m:\u001b[0m\u001b[0;34m\u001b[0m\u001b[0;34m\u001b[0m\u001b[0m\n\u001b[0;32m---> 82\u001b[0;31m             \u001b[0;32mreturn\u001b[0m \u001b[0mnot_implement_for_func\u001b[0m\u001b[0;34m(\u001b[0m\u001b[0;34m*\u001b[0m\u001b[0margs\u001b[0m\u001b[0;34m,\u001b[0m \u001b[0;34m**\u001b[0m\u001b[0mkwargs\u001b[0m\u001b[0;34m)\u001b[0m\u001b[0;34m\u001b[0m\u001b[0;34m\u001b[0m\u001b[0m\n\u001b[0m\u001b[1;32m     83\u001b[0m     \u001b[0;32mreturn\u001b[0m \u001b[0m_not_implemented_for\u001b[0m\u001b[0;34m\u001b[0m\u001b[0;34m\u001b[0m\u001b[0m\n\u001b[1;32m     84\u001b[0m \u001b[0;34m\u001b[0m\u001b[0m\n",
      "\u001b[0;32m/opt/anaconda3/lib/python3.7/site-packages/networkx/algorithms/dag.py\u001b[0m in \u001b[0;36mdag_longest_path\u001b[0;34m(G, weight, default_weight, topo_order)\u001b[0m\n\u001b[1;32m    746\u001b[0m \u001b[0;34m\u001b[0m\u001b[0m\n\u001b[1;32m    747\u001b[0m     \u001b[0mdist\u001b[0m \u001b[0;34m=\u001b[0m \u001b[0;34m{\u001b[0m\u001b[0;34m}\u001b[0m  \u001b[0;31m# stores {v : (length, u)}\u001b[0m\u001b[0;34m\u001b[0m\u001b[0;34m\u001b[0m\u001b[0m\n\u001b[0;32m--> 748\u001b[0;31m     \u001b[0;32mfor\u001b[0m \u001b[0mv\u001b[0m \u001b[0;32min\u001b[0m \u001b[0mtopo_order\u001b[0m\u001b[0;34m:\u001b[0m\u001b[0;34m\u001b[0m\u001b[0;34m\u001b[0m\u001b[0m\n\u001b[0m\u001b[1;32m    749\u001b[0m         us = [(dist[u][0] + data.get(weight, default_weight), u)\n\u001b[1;32m    750\u001b[0m               for u, data in G.pred[v].items()]\n",
      "\u001b[0;32m/opt/anaconda3/lib/python3.7/site-packages/networkx/algorithms/dag.py\u001b[0m in \u001b[0;36mtopological_sort\u001b[0;34m(G)\u001b[0m\n\u001b[1;32m    208\u001b[0m \u001b[0;34m\u001b[0m\u001b[0m\n\u001b[1;32m    209\u001b[0m     \u001b[0;32mif\u001b[0m \u001b[0mindegree_map\u001b[0m\u001b[0;34m:\u001b[0m\u001b[0;34m\u001b[0m\u001b[0;34m\u001b[0m\u001b[0m\n\u001b[0;32m--> 210\u001b[0;31m         raise nx.NetworkXUnfeasible(\"Graph contains a cycle or graph changed \"\n\u001b[0m\u001b[1;32m    211\u001b[0m                                     \"during iteration\")\n\u001b[1;32m    212\u001b[0m \u001b[0;34m\u001b[0m\u001b[0m\n",
      "\u001b[0;31mNetworkXUnfeasible\u001b[0m: Graph contains a cycle or graph changed during iteration"
     ]
    }
   ],
   "source": [
    "facts_file = \"03_poster_demo.openrefine.extract/facts.pl\"\n",
    "dname = \"03_poster_demo.openrefine.tar.gz\"\n",
    "\n",
    "state_schema = state_dependency(facts_file,dname)\n",
    "for x in state_schema[::-1]:\n",
    "    print(x)\n",
    "    print(cell_content_at_state(facts_file,dname,x[0]))\n"
   ]
  },
  {
   "cell_type": "code",
   "execution_count": 32,
   "metadata": {},
   "outputs": [],
   "source": [
    "#facts_file=\"airbnb_dirty-csv.openrefine-2.extract/facts_content_excluded.pl\"\n",
    "--- prototype\n",
    "def row_order_at_state(facts_file,dname,state):\n",
    "    answers = clyngor.solve([facts_file,\"rules/column_query.pl\"],inline=\"\"\"\n",
    "    state(N) :- N={state}.\n",
    "    dataset_name(N) :- N=\"{dname}\".\n",
    "    #show row_position_at_state_test/4.\n",
    "    \"\"\".format(state=state,dname=dname))\n",
    "\n",
    "    row_graph = nx.DiGraph()\n",
    "    for x in answers.by_predicate:\n",
    "        for y in x[\"row_position_at_state_test\"]:\n",
    "            #print(y)\n",
    "            row_graph.add_node(y[1],row_schema_id=y[0])\n",
    "            row_graph.add_edge(y[3],y[1])\n",
    "    row_path = nx.dag_longest_path(row_graph)\n",
    "    row_order = []\n",
    "    for x in row_path[1:]:\n",
    "        row_order.append(x)\n",
    "    return row_order\n",
    "\n",
    "row_order = row_order_at_state(facts_file,dname,2)\n",
    "row_order\n",
    "    "
   ]
  },
  {
   "cell_type": "code",
   "execution_count": 27,
   "metadata": {},
   "outputs": [],
   "source": [
    "conn = sqlite3.connect(\"airbnb_dirty-csv.openrefine-2.db\")\n",
    "cursor = conn.cursor()"
   ]
  },
  {
   "cell_type": "code",
   "execution_count": 40,
   "metadata": {},
   "outputs": [],
   "source": [
    "#facts_file=\"airbnb_dirty-csv.openrefine-2.extract/facts_content_excluded.pl\"\n",
    "facts_file = \"airbnb_dirty-csv.openrefine-2.extract/facts_content_excluded.pl\"\n",
    "dname = \"airbnb_dirty-csv.openrefine-2.tar.gz\"\n",
    "def row_order_all(facts_file,dname):\n",
    "    answers = clyngor.solve([facts_file,\"rules/general_query.pl\"],inline=\"\"\"\n",
    "    state(N) :- N={state}.\n",
    "    dataset_name(N) :- N=\"{dname}\".\n",
    "    #show row_position_at_state/4.\n",
    "    #show all_column_name_at_state/5.\n",
    "    \"\"\".format(state=-1,dname=dname))\n",
    "\n",
    "    row_graph_state = {}    \n",
    "    col_graph_state = {}\n",
    "    for x in answers.by_predicate:\n",
    "        for y in x[\"row_position_at_state\"]:\n",
    "            #print(y)\n",
    "            try:\n",
    "                row_graph_state[y[2]]\n",
    "            except:\n",
    "                row_graph_state[y[2]] = nx.DiGraph()\n",
    "\n",
    "            row_graph_state[y[2]].add_node(y[1],row_schema_id=y[0])\n",
    "            row_graph_state[y[2]].add_edge(y[3],y[1])\n",
    "        for y in x[\"all_column_name_at_state\"]:\n",
    "            #print(y)\n",
    "            try:\n",
    "                col_graph_state[y[0]]\n",
    "            except:\n",
    "                col_graph_state[y[0]] = nx.DiGraph()\n",
    "\n",
    "            col_graph_state[y[0]].add_node(y[1],col_name=y[2],col_schema_id=y[4])\n",
    "            col_graph_state[y[0]].add_edge(y[3],y[1])    \n",
    "\n",
    "\n",
    "    row_order_state = {}\n",
    "    for x,v in row_graph_state.items():\n",
    "        row_path = nx.dag_longest_path(v)\n",
    "        row_order = []\n",
    "        for xx in row_path[1:]:\n",
    "            row_order.append(xx)        \n",
    "        row_order_state[x] = row_order\n",
    "\n",
    "    col_order_state = {}\n",
    "    for x,v in col_graph_state.items():\n",
    "        col_path = nx.dag_longest_path(v)\n",
    "        col_name = nx.get_node_attributes(v,\"col_name\")\n",
    "        col_schema = []\n",
    "        for xx in col_path[1:]:\n",
    "            col_schema.append((xx,col_name[xx]))\n",
    "        col_order_state[x] = col_schema\n",
    "\n",
    "    return row_order_state,col_order_state\n",
    "\n",
    "row_order_aa = row_order_all(facts_file,dname)\n",
    "    "
   ]
  },
  {
   "cell_type": "code",
   "execution_count": 41,
   "metadata": {},
   "outputs": [
    {
     "output_type": "execute_result",
     "data": {
      "text/plain": [
       "(dict_keys([40, 48, 45, 57, 29, 6, 1, 47, 35, 39, 32, 23, 15, 18, 53, 43, -1, 49, 56, 19, 46, 30, 41, 52, 42, 31, 27, 26, 9, 12, 24, 0, 3, 8, 36, 21, 7, 22, 13, 25, 2, 28, 50, 5, 44, 11, 4, 51, 10, 55, 58, 17, 54, 34, 20, 37, 38, 16, 14, 33, 'nul']),\n",
       " dict_keys([21, 18, 11, 50, 46, 52, 34, 49, 3, 17, 53, 24, 54, 14, 30, 10, 55, 38, -1, 33, 40, 35, 39, 45, 28, 16, 20, 41, 12, 31, 22, 47, 56, 51, 5, 19, 23, 32, 27, 7, 1, 42, 26, 4, 48, 25, 2, 6, 9, 44, 43, 8, 58, 13, 37, 0, 29, 36, 57, 15]))"
      ]
     },
     "metadata": {},
     "execution_count": 41
    }
   ],
   "source": [
    "row_order_aa[0].keys(),row_order_aa[1].keys()"
   ]
  },
  {
   "cell_type": "code",
   "execution_count": 75,
   "metadata": {},
   "outputs": [
    {
     "output_type": "stream",
     "name": "stdout",
     "text": [
      "state: -1 column: 25\nstate: 0 column: 24\nstate: 1 column: 24\nstate: 2 column: 24\nstate: 3 column: 24\nstate: 4 column: 24\nstate: 5 column: 24\nstate: 6 column: 24\nstate: 7 column: 24\nstate: 8 column: 24\nstate: 9 column: 24\nstate: 10 column: 24\nstate: 11 column: 24\nstate: 12 column: 24\nstate: 13 column: 24\nstate: 14 column: 24\nstate: 15 column: 24\nstate: 16 column: 24\nstate: 17 column: 24\nstate: 18 column: 24\nstate: 19 column: 24\nstate: 20 column: 24\nstate: 21 column: 24\nstate: 22 column: 24\nstate: 23 column: 23\nstate: 24 column: 22\nstate: 25 column: 22\nstate: 26 column: 21\nstate: 27 column: 21\nstate: 28 column: 20\nstate: 29 column: 19\nstate: 30 column: 19\nstate: 31 column: 20\nstate: 32 column: 18\nstate: 33 column: 18\nstate: 34 column: 18\nstate: 35 column: 18\nstate: 36 column: 18\nstate: 37 column: 17\nstate: 38 column: 17\nstate: 39 column: 16\nstate: 40 column: 16\nstate: 41 column: 15\nstate: 42 column: 15\nstate: 43 column: 15\nstate: 44 column: 15\nstate: 45 column: 15\nstate: 46 column: 15\nstate: 47 column: 15\nstate: 48 column: 15\nstate: 49 column: 15\nstate: 50 column: 15\nstate: 51 column: 15\nstate: 52 column: 15\nstate: 53 column: 15\nstate: 54 column: 15\nstate: 55 column: 15\nstate: 56 column: 15\nstate: 57 column: 15\n"
     ]
    }
   ],
   "source": [
    "# change of column order\n",
    "init_col = 15\n",
    "#init_state = -1\n",
    "init_state =  58\n",
    "min_state,max_state = min(row_order_aa[1].keys()),max(row_order_aa[1].keys())\n",
    "init_col_log = row_order_aa[1][init_state][init_col][0]\n",
    "#print(init_col_log)\n",
    "for x in range(min_state,max_state):\n",
    "    try:        \n",
    "        print(\"state:\",x,\"column:\",[y[0] for y in row_order_aa[1][x]].index(init_col_log))\n",
    "    except:\n",
    "        break\n"
   ]
  },
  {
   "cell_type": "code",
   "execution_count": 141,
   "metadata": {},
   "outputs": [
    {
     "output_type": "stream",
     "name": "stdout",
     "text": [
      "target: 8 path: [['start', 8]]\ntarget: 26 path: [['start', 5, 16, 17, 26], ['start', 8, 26]]\ntarget: 17 path: [['start', 5, 16, 17]]\ntarget: 3 path: [['start', 3]]\ntarget: 19 path: [['start', 3, 19]]\ntarget: 18 path: [['start', 5, 16, 17, 18]]\ntarget: 16 path: [['start', 5, 16]]\ntarget: 20 path: [['start', 3, 20]]\ntarget: 23 path: [['start', 1, 22, 23]]\ntarget: 22 path: [['start', 1, 22]]\ntarget: 10 path: [['start', 10]]\ntarget: 25 path: [['start', 10, 25]]\ntarget: 9 path: [['start', 9]]\ntarget: 24 path: [['start', 9, 24]]\ntarget: 1 path: [['start', 1]]\ntarget: 12 path: [['start', 12]]\ntarget: 21 path: [['start', 12, 21]]\ntarget: 6 path: [['start', 6]]\ntarget: removed path: [['start', 6, 'removed']]\ntarget: 5 path: [['start', 5]]\ntarget: 15 path: [['start', 15]]\ntarget: 14 path: [['start', 14]]\ntarget: 13 path: [['start', 13]]\ntarget: 11 path: [['start', 11]]\ntarget: 7 path: [['start', 7]]\ntarget: 2 path: [['start', 2]]\ntarget: start path: []\ntarget: 0 path: [['start', 0]]\ntarget: 4 path: [['start', 4]]\n"
     ]
    }
   ],
   "source": [
    "init_col_log\n",
    "\n",
    "for x in col_graph.nodes():    \n",
    "    print(\"target:\",x,\"path:\",list(nx.all_simple_paths(col_graph,\"start\",x)))"
   ]
  },
  {
   "cell_type": "code",
   "execution_count": 145,
   "metadata": {},
   "outputs": [
    {
     "output_type": "stream",
     "name": "stdout",
     "text": [
      "['start', 15]\n"
     ]
    }
   ],
   "source": [
    "nx.get_edge_attributes(col_graph,\"state\")\n",
    "for x in nx.all_simple_paths(col_graph,\"start\",init_col_log):\n",
    "    print(x)"
   ]
  },
  {
   "cell_type": "code",
   "execution_count": 93,
   "metadata": {},
   "outputs": [
    {
     "output_type": "execute_result",
     "data": {
      "text/plain": [
       "NodeView((8, 26, 17, 3, 6, 5, 19, 18, 16, 20, 23, 22, 10, 25, 9, 24, 1, 12, 21, 'removed', 15, 14, 13, 11, 7, 2, 'start', 0, 4))"
      ]
     },
     "metadata": {},
     "execution_count": 93
    }
   ],
   "source": [
    "col_graph.nodes"
   ]
  },
  {
   "cell_type": "code",
   "execution_count": null,
   "metadata": {},
   "outputs": [],
   "source": [
    "col"
   ]
  },
  {
   "cell_type": "code",
   "execution_count": 151,
   "metadata": {},
   "outputs": [
    {
     "output_type": "execute_result",
     "data": {
      "text/plain": [
       "8"
      ]
     },
     "metadata": {},
     "execution_count": 151
    }
   ],
   "source": [
    "init_col_log"
   ]
  },
  {
   "cell_type": "code",
   "execution_count": 162,
   "metadata": {},
   "outputs": [
    {
     "output_type": "display_data",
     "data": {
      "text/plain": "<Figure size 720x720 with 1 Axes>",
      "image/svg+xml": "<?xml version=\"1.0\" encoding=\"utf-8\" standalone=\"no\"?>\n<!DOCTYPE svg PUBLIC \"-//W3C//DTD SVG 1.1//EN\"\n  \"http://www.w3.org/Graphics/SVG/1.1/DTD/svg11.dtd\">\n<!-- Created with matplotlib (https://matplotlib.org/) -->\n<svg height=\"558pt\" version=\"1.1\" viewBox=\"0 0 572.4 558\" width=\"572.4pt\" xmlns=\"http://www.w3.org/2000/svg\" xmlns:xlink=\"http://www.w3.org/1999/xlink\">\n <defs>\n  <style type=\"text/css\">\n*{stroke-linecap:butt;stroke-linejoin:round;}\n  </style>\n </defs>\n <g id=\"figure_1\">\n  <g id=\"patch_1\">\n   <path d=\"M 0 558 \nL 572.4 558 \nL 572.4 0 \nL 0 0 \nz\n\" style=\"fill:none;\"/>\n  </g>\n  <g id=\"axes_1\">\n   <g id=\"patch_2\">\n    <path d=\"M 7.2 550.8 \nL 565.2 550.8 \nL 565.2 7.2 \nL 7.2 7.2 \nz\n\" style=\"fill:#ffffff;\"/>\n   </g>\n   <g id=\"patch_3\">\n    <path clip-path=\"url(#p22c792129f)\" d=\"M 93.917479 391.31405 \nQ 124.942601 465.515506 195.38363 499.518408 \n\" style=\"fill:none;stroke:#000000;stroke-linecap:round;\"/>\n    <path clip-path=\"url(#p22c792129f)\" d=\"M 192.650794 495.978407 \nL 195.38363 499.518408 \nL 190.911927 499.580675 \nL 192.650794 495.978407 \nz\n\" style=\"stroke:#000000;stroke-linecap:round;\"/>\n   </g>\n   <g id=\"patch_4\">\n    <path clip-path=\"url(#p22c792129f)\" d=\"M 93.917479 391.31405 \nQ 93.917479 391.31405 93.917479 391.31405 \n\" style=\"fill:none;stroke:#000000;stroke-linecap:round;\"/>\n   </g>\n   <g id=\"patch_5\">\n    <path clip-path=\"url(#p22c792129f)\" d=\"M 93.917479 391.31405 \nQ 93.917479 391.31405 93.917479 391.31405 \n\" style=\"fill:none;stroke:#000000;stroke-linecap:round;\"/>\n   </g>\n   <g id=\"patch_6\">\n    <path clip-path=\"url(#p22c792129f)\" d=\"M 253.911408 391.31405 \nQ 209.746394 434.486215 204.858316 493.867635 \n\" style=\"fill:none;stroke:#000000;stroke-linecap:round;\"/>\n    <path clip-path=\"url(#p22c792129f)\" d=\"M 207.179731 490.045197 \nL 204.858316 493.867635 \nL 203.193215 489.71704 \nL 207.179731 490.045197 \nz\n\" style=\"stroke:#000000;stroke-linecap:round;\"/>\n   </g>\n   <g id=\"patch_7\">\n    <path clip-path=\"url(#p22c792129f)\" d=\"M 253.911408 391.31405 \nQ 253.911408 391.31405 253.911408 391.31405 \n\" style=\"fill:none;stroke:#000000;stroke-linecap:round;\"/>\n   </g>\n   <g id=\"patch_8\">\n    <path clip-path=\"url(#p22c792129f)\" d=\"M 253.911408 391.31405 \nQ 253.911408 391.31405 253.911408 391.31405 \n\" style=\"fill:none;stroke:#000000;stroke-linecap:round;\"/>\n   </g>\n   <g id=\"patch_9\">\n    <path clip-path=\"url(#p22c792129f)\" d=\"M 253.911408 391.31405 \nQ 253.911408 391.31405 253.911408 391.31405 \n\" style=\"fill:none;stroke:#000000;stroke-linecap:round;\"/>\n   </g>\n   <g id=\"patch_10\">\n    <path clip-path=\"url(#p22c792129f)\" d=\"M 253.911408 391.31405 \nQ 233.072572 443.411138 250.536324 494.450402 \n\" style=\"fill:none;stroke:#000000;stroke-linecap:round;\"/>\n    <path clip-path=\"url(#p22c792129f)\" d=\"M 251.133672 490.01834 \nL 250.536324 494.450402 \nL 247.349083 491.313286 \nL 251.133672 490.01834 \nz\n\" style=\"stroke:#000000;stroke-linecap:round;\"/>\n   </g>\n   <g id=\"patch_11\">\n    <path clip-path=\"url(#p22c792129f)\" d=\"M 90.347634 166.68595 \nQ 90.347634 166.68595 90.347634 166.68595 \n\" style=\"fill:none;stroke:#000000;stroke-linecap:round;\"/>\n   </g>\n   <g id=\"patch_12\">\n    <path clip-path=\"url(#p22c792129f)\" d=\"M 90.347634 166.68595 \nQ 90.347634 166.68595 90.347634 166.68595 \n\" style=\"fill:none;stroke:#000000;stroke-linecap:round;\"/>\n   </g>\n   <g id=\"patch_13\">\n    <path clip-path=\"url(#p22c792129f)\" d=\"M 90.347634 166.68595 \nQ 90.347634 166.68595 90.347634 166.68595 \n\" style=\"fill:none;stroke:#000000;stroke-linecap:round;\"/>\n   </g>\n   <g id=\"patch_14\">\n    <path clip-path=\"url(#p22c792129f)\" d=\"M 90.347634 166.68595 \nQ 53.272178 212.499116 55.095458 269.232948 \n\" style=\"fill:none;stroke:#000000;stroke-linecap:round;\"/>\n    <path clip-path=\"url(#p22c792129f)\" d=\"M 56.965942 265.17077 \nL 55.095458 269.232948 \nL 52.968006 265.299254 \nL 56.965942 265.17077 \nz\n\" style=\"stroke:#000000;stroke-linecap:round;\"/>\n   </g>\n   <g id=\"patch_15\">\n    <path clip-path=\"url(#p22c792129f)\" d=\"M 90.347634 166.68595 \nQ 75.071542 221.035968 98.022947 270.235287 \n\" style=\"fill:none;stroke:#000000;stroke-linecap:round;\"/>\n    <path clip-path=\"url(#p22c792129f)\" d=\"M 98.144389 265.7648 \nL 98.022947 270.235287 \nL 94.519423 267.455841 \nL 98.144389 265.7648 \nz\n\" style=\"stroke:#000000;stroke-linecap:round;\"/>\n   </g>\n   <g id=\"patch_16\">\n    <path clip-path=\"url(#p22c792129f)\" d=\"M 55.621488 279 \nQ 55.621488 279 55.621488 279 \n\" style=\"fill:none;stroke:#000000;stroke-linecap:round;\"/>\n   </g>\n   <g id=\"patch_17\">\n    <path clip-path=\"url(#p22c792129f)\" d=\"M 55.621488 279 \nQ 55.621488 279 55.621488 279 \n\" style=\"fill:none;stroke:#000000;stroke-linecap:round;\"/>\n   </g>\n   <g id=\"patch_18\">\n    <path clip-path=\"url(#p22c792129f)\" d=\"M 55.621488 279 \nQ 55.621488 279 55.621488 279 \n\" style=\"fill:none;stroke:#000000;stroke-linecap:round;\"/>\n   </g>\n   <g id=\"patch_19\">\n    <path clip-path=\"url(#p22c792129f)\" d=\"M 55.621488 279 \nQ 55.621488 279 55.621488 279 \n\" style=\"fill:none;stroke:#000000;stroke-linecap:round;\"/>\n   </g>\n   <g id=\"patch_20\">\n    <path clip-path=\"url(#p22c792129f)\" d=\"M 253.911408 503.628099 \nQ 253.911408 503.628099 253.911408 503.628099 \n\" style=\"fill:none;stroke:#000000;stroke-linecap:round;\"/>\n   </g>\n   <g id=\"patch_21\">\n    <path clip-path=\"url(#p22c792129f)\" d=\"M 253.911408 503.628099 \nQ 253.911408 503.628099 253.911408 503.628099 \n\" style=\"fill:none;stroke:#000000;stroke-linecap:round;\"/>\n   </g>\n   <g id=\"patch_22\">\n    <path clip-path=\"url(#p22c792129f)\" d=\"M 253.911408 503.628099 \nQ 253.911408 503.628099 253.911408 503.628099 \n\" style=\"fill:none;stroke:#000000;stroke-linecap:round;\"/>\n   </g>\n   <g id=\"patch_23\">\n    <path clip-path=\"url(#p22c792129f)\" d=\"M 253.911408 503.628099 \nQ 253.911408 503.628099 253.911408 503.628099 \n\" style=\"fill:none;stroke:#000000;stroke-linecap:round;\"/>\n   </g>\n   <g id=\"patch_24\">\n    <path clip-path=\"url(#p22c792129f)\" d=\"M 253.911408 503.628099 \nQ 253.911408 503.628099 253.911408 503.628099 \n\" style=\"fill:none;stroke:#000000;stroke-linecap:round;\"/>\n   </g>\n   <g id=\"patch_25\">\n    <path clip-path=\"url(#p22c792129f)\" d=\"M 282.794693 279 \nQ 282.794693 279 282.794693 279 \n\" style=\"fill:none;stroke:#000000;stroke-linecap:round;\"/>\n   </g>\n   <g id=\"patch_26\">\n    <path clip-path=\"url(#p22c792129f)\" d=\"M 282.794693 279 \nQ 282.794693 279 282.794693 279 \n\" style=\"fill:none;stroke:#000000;stroke-linecap:round;\"/>\n   </g>\n   <g id=\"patch_27\">\n    <path clip-path=\"url(#p22c792129f)\" d=\"M 282.794693 279 \nQ 282.794693 279 282.794693 279 \n\" style=\"fill:none;stroke:#000000;stroke-linecap:round;\"/>\n   </g>\n   <g id=\"patch_28\">\n    <path clip-path=\"url(#p22c792129f)\" d=\"M 282.794693 279 \nQ 248.472696 325.85491 252.919877 381.588289 \n\" style=\"fill:none;stroke:#000000;stroke-linecap:round;\"/>\n    <path clip-path=\"url(#p22c792129f)\" d=\"M 254.595376 377.441881 \nL 252.919877 381.588289 \nL 250.608049 377.760045 \nL 254.595376 377.441881 \nz\n\" style=\"stroke:#000000;stroke-linecap:round;\"/>\n   </g>\n   <g id=\"patch_29\">\n    <path clip-path=\"url(#p22c792129f)\" d=\"M 102.355292 279 \nQ 102.355292 279 102.355292 279 \n\" style=\"fill:none;stroke:#000000;stroke-linecap:round;\"/>\n   </g>\n   <g id=\"patch_30\">\n    <path clip-path=\"url(#p22c792129f)\" d=\"M 102.355292 279 \nQ 102.355292 279 102.355292 279 \n\" style=\"fill:none;stroke:#000000;stroke-linecap:round;\"/>\n   </g>\n   <g id=\"patch_31\">\n    <path clip-path=\"url(#p22c792129f)\" d=\"M 184.46171 391.31405 \nQ 184.46171 391.31405 184.46171 391.31405 \n\" style=\"fill:none;stroke:#000000;stroke-linecap:round;\"/>\n   </g>\n   <g id=\"patch_32\">\n    <path clip-path=\"url(#p22c792129f)\" d=\"M 184.46171 391.31405 \nQ 184.46171 391.31405 184.46171 391.31405 \n\" style=\"fill:none;stroke:#000000;stroke-linecap:round;\"/>\n   </g>\n   <g id=\"patch_33\">\n    <path clip-path=\"url(#p22c792129f)\" d=\"M 184.46171 391.31405 \nQ 184.46171 391.31405 184.46171 391.31405 \n\" style=\"fill:none;stroke:#000000;stroke-linecap:round;\"/>\n   </g>\n   <g id=\"patch_34\">\n    <path clip-path=\"url(#p22c792129f)\" d=\"M 184.46171 279 \nQ 184.46171 279 184.46171 279 \n\" style=\"fill:none;stroke:#000000;stroke-linecap:round;\"/>\n   </g>\n   <g id=\"patch_35\">\n    <path clip-path=\"url(#p22c792129f)\" d=\"M 184.46171 279 \nQ 184.46171 279 184.46171 279 \n\" style=\"fill:none;stroke:#000000;stroke-linecap:round;\"/>\n   </g>\n   <g id=\"patch_36\">\n    <path clip-path=\"url(#p22c792129f)\" d=\"M 184.46171 279 \nQ 184.46171 279 184.46171 279 \n\" style=\"fill:none;stroke:#000000;stroke-linecap:round;\"/>\n   </g>\n   <g id=\"patch_37\">\n    <path clip-path=\"url(#p22c792129f)\" d=\"M 184.46171 279 \nQ 163.622875 331.097089 181.086627 382.136352 \n\" style=\"fill:none;stroke:#000000;stroke-linecap:round;\"/>\n    <path clip-path=\"url(#p22c792129f)\" d=\"M 181.683975 377.70429 \nL 181.086627 382.136352 \nL 177.899386 378.999237 \nL 181.683975 377.70429 \nz\n\" style=\"stroke:#000000;stroke-linecap:round;\"/>\n   </g>\n   <g id=\"patch_38\">\n    <path clip-path=\"url(#p22c792129f)\" d=\"M 131.238578 166.68595 \nQ 113.257532 219.934107 133.531714 270.022646 \n\" style=\"fill:none;stroke:#000000;stroke-linecap:round;\"/>\n    <path clip-path=\"url(#p22c792129f)\" d=\"M 133.884818 265.564472 \nL 133.531714 270.022646 \nL 130.177037 267.065259 \nL 133.884818 265.564472 \nz\n\" style=\"stroke:#000000;stroke-linecap:round;\"/>\n   </g>\n   <g id=\"patch_39\">\n    <path clip-path=\"url(#p22c792129f)\" d=\"M 131.238578 166.68595 \nQ 131.238578 166.68595 131.238578 166.68595 \n\" style=\"fill:none;stroke:#000000;stroke-linecap:round;\"/>\n   </g>\n   <g id=\"patch_40\">\n    <path clip-path=\"url(#p22c792129f)\" d=\"M 160.446394 166.68595 \nQ 139.758093 218.843253 157.369325 269.832059 \n\" style=\"fill:none;stroke:#000000;stroke-linecap:round;\"/>\n    <path clip-path=\"url(#p22c792129f)\" d=\"M 157.953864 265.39829 \nL 157.369325 269.832059 \nL 154.173032 266.704166 \nL 157.953864 265.39829 \nz\n\" style=\"stroke:#000000;stroke-linecap:round;\"/>\n   </g>\n   <g id=\"patch_41\">\n    <path clip-path=\"url(#p22c792129f)\" d=\"M 160.446394 166.68595 \nQ 160.446394 166.68595 160.446394 166.68595 \n\" style=\"fill:none;stroke:#000000;stroke-linecap:round;\"/>\n   </g>\n   <g id=\"patch_42\">\n    <path clip-path=\"url(#p22c792129f)\" d=\"M 189.654211 166.68595 \nQ 166.405295 217.822983 181.513246 269.67439 \n\" style=\"fill:none;stroke:#000000;stroke-linecap:round;\"/>\n    <path clip-path=\"url(#p22c792129f)\" d=\"M 182.314448 265.274608 \nL 181.513246 269.67439 \nL 178.474143 266.393559 \nL 182.314448 265.274608 \nz\n\" style=\"stroke:#000000;stroke-linecap:round;\"/>\n   </g>\n   <g id=\"patch_43\">\n    <path clip-path=\"url(#p22c792129f)\" d=\"M 189.654211 166.68595 \nQ 189.654211 166.68595 189.654211 166.68595 \n\" style=\"fill:none;stroke:#000000;stroke-linecap:round;\"/>\n   </g>\n   <g id=\"patch_44\">\n    <path clip-path=\"url(#p22c792129f)\" d=\"M 189.654211 166.68595 \nQ 189.654211 166.68595 189.654211 166.68595 \n\" style=\"fill:none;stroke:#000000;stroke-linecap:round;\"/>\n   </g>\n   <g id=\"patch_45\">\n    <path clip-path=\"url(#p22c792129f)\" d=\"M 224.703591 166.68595 \nQ 204.165825 218.903467 221.924539 269.841825 \n\" style=\"fill:none;stroke:#000000;stroke-linecap:round;\"/>\n    <path clip-path=\"url(#p22c792129f)\" d=\"M 222.496264 265.406385 \nL 221.924539 269.841825 \nL 218.719222 266.72318 \nL 222.496264 265.406385 \nz\n\" style=\"stroke:#000000;stroke-linecap:round;\"/>\n   </g>\n   <g id=\"patch_46\">\n    <path clip-path=\"url(#p22c792129f)\" d=\"M 224.703591 166.68595 \nQ 224.703591 166.68595 224.703591 166.68595 \n\" style=\"fill:none;stroke:#000000;stroke-linecap:round;\"/>\n   </g>\n   <g id=\"patch_47\">\n    <path clip-path=\"url(#p22c792129f)\" d=\"M 253.911408 166.68595 \nQ 233.072572 218.783039 250.536324 269.822303 \n\" style=\"fill:none;stroke:#000000;stroke-linecap:round;\"/>\n    <path clip-path=\"url(#p22c792129f)\" d=\"M 251.133672 265.39024 \nL 250.536324 269.822303 \nL 247.349083 266.685187 \nL 251.133672 265.39024 \nz\n\" style=\"stroke:#000000;stroke-linecap:round;\"/>\n   </g>\n   <g id=\"patch_48\">\n    <path clip-path=\"url(#p22c792129f)\" d=\"M 253.911408 166.68595 \nQ 253.911408 166.68595 253.911408 166.68595 \n\" style=\"fill:none;stroke:#000000;stroke-linecap:round;\"/>\n   </g>\n   <g id=\"patch_49\">\n    <path clip-path=\"url(#p22c792129f)\" d=\"M 283.119224 166.68595 \nQ 262.129855 218.722825 279.44613 269.812555 \n\" style=\"fill:none;stroke:#000000;stroke-linecap:round;\"/>\n    <path clip-path=\"url(#p22c792129f)\" d=\"M 280.056282 265.382237 \nL 279.44613 269.812555 \nL 276.267967 266.666243 \nL 280.056282 265.382237 \nz\n\" style=\"stroke:#000000;stroke-linecap:round;\"/>\n   </g>\n   <g id=\"patch_50\">\n    <path clip-path=\"url(#p22c792129f)\" d=\"M 283.119224 166.68595 \nQ 283.119224 166.68595 283.119224 166.68595 \n\" style=\"fill:none;stroke:#000000;stroke-linecap:round;\"/>\n   </g>\n   <g id=\"patch_51\">\n    <path clip-path=\"url(#p22c792129f)\" d=\"M 283.119224 166.68595 \nQ 283.119224 166.68595 283.119224 166.68595 \n\" style=\"fill:none;stroke:#000000;stroke-linecap:round;\"/>\n   </g>\n   <g id=\"patch_52\">\n    <path clip-path=\"url(#p22c792129f)\" d=\"M 318.168604 166.68595 \nQ 318.168604 166.68595 318.168604 166.68595 \n\" style=\"fill:none;stroke:#000000;stroke-linecap:round;\"/>\n   </g>\n   <g id=\"patch_53\">\n    <path clip-path=\"url(#p22c792129f)\" d=\"M 347.376421 166.68595 \nQ 347.376421 166.68595 347.376421 166.68595 \n\" style=\"fill:none;stroke:#000000;stroke-linecap:round;\"/>\n   </g>\n   <g id=\"patch_54\">\n    <path clip-path=\"url(#p22c792129f)\" d=\"M 376.580992 166.68595 \nQ 376.580992 166.68595 376.580992 166.68595 \n\" style=\"fill:none;stroke:#000000;stroke-linecap:round;\"/>\n   </g>\n   <g id=\"patch_55\">\n    <path clip-path=\"url(#p22c792129f)\" d=\"M 405.788809 166.68595 \nQ 405.788809 166.68595 405.788809 166.68595 \n\" style=\"fill:none;stroke:#000000;stroke-linecap:round;\"/>\n   </g>\n   <g id=\"patch_56\">\n    <path clip-path=\"url(#p22c792129f)\" d=\"M 434.996626 166.68595 \nQ 434.996626 166.68595 434.996626 166.68595 \n\" style=\"fill:none;stroke:#000000;stroke-linecap:round;\"/>\n   </g>\n   <g id=\"patch_57\">\n    <path clip-path=\"url(#p22c792129f)\" d=\"M 464.204442 166.68595 \nQ 464.204442 166.68595 464.204442 166.68595 \n\" style=\"fill:none;stroke:#000000;stroke-linecap:round;\"/>\n   </g>\n   <g id=\"patch_58\">\n    <path clip-path=\"url(#p22c792129f)\" d=\"M 300.643914 54.371901 \nQ 371.88865 145.653205 483.762989 165.118402 \n\" style=\"fill:none;stroke:#000000;stroke-linecap:round;\"/>\n    <path clip-path=\"url(#p22c792129f)\" d=\"M 480.165027 162.46234 \nL 483.762989 165.118402 \nL 479.479362 166.403134 \nL 480.165027 162.46234 \nz\n\" style=\"stroke:#000000;stroke-linecap:round;\"/>\n   </g>\n   <g id=\"patch_59\">\n    <path clip-path=\"url(#p22c792129f)\" d=\"M 300.643914 54.371901 \nQ 226.684295 86.5894 193.631425 157.751886 \n\" style=\"fill:none;stroke:#000000;stroke-linecap:round;\"/>\n    <path clip-path=\"url(#p22c792129f)\" d=\"M 197.130311 154.966604 \nL 193.631425 157.751886 \nL 193.502531 153.281608 \nL 197.130311 154.966604 \nz\n\" style=\"stroke:#000000;stroke-linecap:round;\"/>\n   </g>\n   <g id=\"patch_60\">\n    <path clip-path=\"url(#p22c792129f)\" d=\"M 300.643914 54.371901 \nQ 357.543813 139.619061 454.698583 164.390002 \n\" style=\"fill:none;stroke:#000000;stroke-linecap:round;\"/>\n    <path clip-path=\"url(#p22c792129f)\" d=\"M 451.316702 161.463762 \nL 454.698583 164.390002 \nL 450.328463 165.339763 \nL 451.316702 161.463762 \nz\n\" style=\"stroke:#000000;stroke-linecap:round;\"/>\n   </g>\n   <g id=\"patch_61\">\n    <path clip-path=\"url(#p22c792129f)\" d=\"M 300.643914 54.371901 \nQ 177.35767 67.991899 96.743627 159.287433 \n\" style=\"fill:none;stroke:#000000;stroke-linecap:round;\"/>\n    <path clip-path=\"url(#p22c792129f)\" d=\"M 100.890399 157.612835 \nL 96.743627 159.287433 \nL 97.892012 154.965256 \nL 100.890399 157.612835 \nz\n\" style=\"stroke:#000000;stroke-linecap:round;\"/>\n   </g>\n   <g id=\"patch_62\">\n    <path clip-path=\"url(#p22c792129f)\" d=\"M 300.643914 54.371901 \nQ 383.409986 150.460537 507.06209 165.597595 \n\" style=\"fill:none;stroke:#000000;stroke-linecap:round;\"/>\n    <path clip-path=\"url(#p22c792129f)\" d=\"M 503.334747 163.126376 \nL 507.06209 165.597595 \nL 502.84871 167.096737 \nL 503.334747 163.126376 \nz\n\" style=\"stroke:#000000;stroke-linecap:round;\"/>\n   </g>\n   <g id=\"patch_63\">\n    <path clip-path=\"url(#p22c792129f)\" d=\"M 300.643914 54.371901 \nQ 271.649536 103.262436 281.19574 157.09617 \n\" style=\"fill:none;stroke:#000000;stroke-linecap:round;\"/>\n    <path clip-path=\"url(#p22c792129f)\" d=\"M 282.466604 152.808408 \nL 281.19574 157.09617 \nL 278.528048 153.506822 \nL 282.466604 152.808408 \nz\n\" style=\"stroke:#000000;stroke-linecap:round;\"/>\n   </g>\n   <g id=\"patch_64\">\n    <path clip-path=\"url(#p22c792129f)\" d=\"M 300.643914 54.371901 \nQ 257.870775 98.061056 254.299365 156.917415 \n\" style=\"fill:none;stroke:#000000;stroke-linecap:round;\"/>\n    <path clip-path=\"url(#p22c792129f)\" d=\"M 256.537968 153.045897 \nL 254.299365 156.917415 \nL 252.545312 152.803622 \nL 256.537968 153.045897 \nz\n\" style=\"stroke:#000000;stroke-linecap:round;\"/>\n   </g>\n   <g id=\"patch_65\">\n    <path clip-path=\"url(#p22c792129f)\" d=\"M 300.643914 54.371901 \nQ 343.290851 133.562027 425.75556 163.482642 \n\" style=\"fill:none;stroke:#000000;stroke-linecap:round;\"/>\n    <path clip-path=\"url(#p22c792129f)\" d=\"M 422.677558 160.238277 \nL 425.75556 163.482642 \nL 421.313267 163.998424 \nL 422.677558 160.238277 \nz\n\" style=\"stroke:#000000;stroke-linecap:round;\"/>\n   </g>\n   <g id=\"patch_66\">\n    <path clip-path=\"url(#p22c792129f)\" d=\"M 300.643914 54.371901 \nQ 133.374469 178.905165 95.64533 381.691542 \n\" style=\"fill:none;stroke:#000000;stroke-linecap:round;\"/>\n    <path clip-path=\"url(#p22c792129f)\" d=\"M 98.343246 378.124856 \nL 95.64533 381.691542 \nL 94.410731 377.393198 \nL 98.343246 378.124856 \nz\n\" style=\"stroke:#000000;stroke-linecap:round;\"/>\n   </g>\n   <g id=\"patch_67\">\n    <path clip-path=\"url(#p22c792129f)\" d=\"M 300.643914 54.371901 \nQ 212.25027 81.223327 165.40831 158.261833 \n\" style=\"fill:none;stroke:#000000;stroke-linecap:round;\"/>\n    <path clip-path=\"url(#p22c792129f)\" d=\"M 169.195345 155.883101 \nL 165.40831 158.261833 \nL 165.777545 153.804966 \nL 169.195345 155.883101 \nz\n\" style=\"stroke:#000000;stroke-linecap:round;\"/>\n   </g>\n   <g id=\"patch_68\">\n    <path clip-path=\"url(#p22c792129f)\" d=\"M 300.643914 54.371901 \nQ 197.741443 75.761728 136.922432 158.728101 \n\" style=\"fill:none;stroke:#000000;stroke-linecap:round;\"/>\n    <path clip-path=\"url(#p22c792129f)\" d=\"M 140.900329 156.684492 \nL 136.922432 158.728101 \nL 137.674282 154.319618 \nL 140.900329 156.684492 \nz\n\" style=\"stroke:#000000;stroke-linecap:round;\"/>\n   </g>\n   <g id=\"patch_69\">\n    <path clip-path=\"url(#p22c792129f)\" d=\"M 300.643914 54.371901 \nQ 329.168496 127.494615 397.018747 162.359924 \n\" style=\"fill:none;stroke:#000000;stroke-linecap:round;\"/>\n    <path clip-path=\"url(#p22c792129f)\" d=\"M 394.375068 158.752854 \nL 397.018747 162.359924 \nL 392.546883 162.310625 \nL 394.375068 158.752854 \nz\n\" style=\"stroke:#000000;stroke-linecap:round;\"/>\n   </g>\n   <g id=\"patch_70\">\n    <path clip-path=\"url(#p22c792129f)\" d=\"M 300.643914 54.371901 \nQ 243.823864 92.891575 227.001361 157.182319 \n\" style=\"fill:none;stroke:#000000;stroke-linecap:round;\"/>\n    <path clip-path=\"url(#p22c792129f)\" d=\"M 229.948782 153.818881 \nL 227.001361 157.182319 \nL 226.079064 152.80632 \nL 229.948782 153.818881 \nz\n\" style=\"stroke:#000000;stroke-linecap:round;\"/>\n   </g>\n   <g id=\"patch_71\">\n    <path clip-path=\"url(#p22c792129f)\" d=\"M 300.643914 54.371901 \nQ 315.22265 121.45109 368.617592 161.013142 \n\" style=\"fill:none;stroke:#000000;stroke-linecap:round;\"/>\n    <path clip-path=\"url(#p22c792129f)\" d=\"M 366.594313 157.024867 \nL 368.617592 161.013142 \nL 364.213004 160.238801 \nL 366.594313 157.024867 \nz\n\" style=\"stroke:#000000;stroke-linecap:round;\"/>\n   </g>\n   <g id=\"patch_72\">\n    <path clip-path=\"url(#p22c792129f)\" d=\"M 300.643914 54.371901 \nQ 301.487115 115.507592 340.720422 159.525471 \n\" style=\"fill:none;stroke:#000000;stroke-linecap:round;\"/>\n    <path clip-path=\"url(#p22c792129f)\" d=\"M 339.551968 155.208677 \nL 340.720422 159.525471 \nL 336.565914 157.870158 \nL 339.551968 155.208677 \nz\n\" style=\"stroke:#000000;stroke-linecap:round;\"/>\n   </g>\n   <g id=\"patch_73\">\n    <path clip-path=\"url(#p22c792129f)\" d=\"M 300.643914 54.371901 \nQ 287.922233 109.771515 313.415039 158.13801 \n\" style=\"fill:none;stroke:#000000;stroke-linecap:round;\"/>\n    <path clip-path=\"url(#p22c792129f)\" d=\"M 313.31923 153.6669 \nL 313.415039 158.13801 \nL 309.780666 155.531992 \nL 313.31923 153.6669 \nz\n\" style=\"stroke:#000000;stroke-linecap:round;\"/>\n   </g>\n   <g id=\"matplotlib.axis_1\">\n    <g id=\"xtick_1\"/>\n    <g id=\"xtick_2\"/>\n    <g id=\"xtick_3\"/>\n    <g id=\"xtick_4\"/>\n    <g id=\"xtick_5\"/>\n    <g id=\"xtick_6\"/>\n    <g id=\"xtick_7\"/>\n    <g id=\"xtick_8\"/>\n    <g id=\"xtick_9\"/>\n   </g>\n   <g id=\"matplotlib.axis_2\">\n    <g id=\"ytick_1\"/>\n    <g id=\"ytick_2\"/>\n    <g id=\"ytick_3\"/>\n    <g id=\"ytick_4\"/>\n    <g id=\"ytick_5\"/>\n    <g id=\"ytick_6\"/>\n    <g id=\"ytick_7\"/>\n   </g>\n   <g id=\"PathCollection_1\">\n    <defs>\n     <path d=\"M 0 8.660254 \nC 2.296726 8.660254 4.499694 7.747755 6.123724 6.123724 \nC 7.747755 4.499694 8.660254 2.296726 8.660254 0 \nC 8.660254 -2.296726 7.747755 -4.499694 6.123724 -6.123724 \nC 4.499694 -7.747755 2.296726 -8.660254 0 -8.660254 \nC -2.296726 -8.660254 -4.499694 -7.747755 -6.123724 -6.123724 \nC -7.747755 -4.499694 -8.660254 -2.296726 -8.660254 0 \nC -8.660254 2.296726 -7.747755 4.499694 -6.123724 6.123724 \nC -4.499694 7.747755 -2.296726 8.660254 0 8.660254 \nz\n\" id=\"m12a830b1d2\" style=\"stroke:#1f78b4;\"/>\n    </defs>\n    <g clip-path=\"url(#p22c792129f)\">\n     <use style=\"fill:#1f78b4;stroke:#1f78b4;\" x=\"93.917479\" xlink:href=\"#m12a830b1d2\" y=\"391.31405\"/>\n     <use style=\"fill:#1f78b4;stroke:#1f78b4;\" x=\"204.258119\" xlink:href=\"#m12a830b1d2\" y=\"503.628099\"/>\n     <use style=\"fill:#1f78b4;stroke:#1f78b4;\" x=\"253.911408\" xlink:href=\"#m12a830b1d2\" y=\"391.31405\"/>\n     <use style=\"fill:#1f78b4;stroke:#1f78b4;\" x=\"90.347634\" xlink:href=\"#m12a830b1d2\" y=\"166.68595\"/>\n     <use style=\"fill:#1f78b4;stroke:#1f78b4;\" x=\"55.621488\" xlink:href=\"#m12a830b1d2\" y=\"279\"/>\n     <use style=\"fill:#1f78b4;stroke:#1f78b4;\" x=\"253.911408\" xlink:href=\"#m12a830b1d2\" y=\"503.628099\"/>\n     <use style=\"fill:#1f78b4;stroke:#1f78b4;\" x=\"282.794693\" xlink:href=\"#m12a830b1d2\" y=\"279\"/>\n     <use style=\"fill:#1f78b4;stroke:#1f78b4;\" x=\"102.355292\" xlink:href=\"#m12a830b1d2\" y=\"279\"/>\n     <use style=\"fill:#1f78b4;stroke:#1f78b4;\" x=\"184.46171\" xlink:href=\"#m12a830b1d2\" y=\"391.31405\"/>\n     <use style=\"fill:#1f78b4;stroke:#1f78b4;\" x=\"184.46171\" xlink:href=\"#m12a830b1d2\" y=\"279\"/>\n     <use style=\"fill:#1f78b4;stroke:#1f78b4;\" x=\"131.238578\" xlink:href=\"#m12a830b1d2\" y=\"166.68595\"/>\n     <use style=\"fill:#1f78b4;stroke:#1f78b4;\" x=\"137.404672\" xlink:href=\"#m12a830b1d2\" y=\"279\"/>\n     <use style=\"fill:#1f78b4;stroke:#1f78b4;\" x=\"160.446394\" xlink:href=\"#m12a830b1d2\" y=\"166.68595\"/>\n     <use style=\"fill:#1f78b4;stroke:#1f78b4;\" x=\"160.770926\" xlink:href=\"#m12a830b1d2\" y=\"279\"/>\n     <use style=\"fill:#1f78b4;stroke:#1f78b4;\" x=\"189.654211\" xlink:href=\"#m12a830b1d2\" y=\"166.68595\"/>\n     <use style=\"fill:#1f78b4;stroke:#1f78b4;\" x=\"224.703591\" xlink:href=\"#m12a830b1d2\" y=\"166.68595\"/>\n     <use style=\"fill:#1f78b4;stroke:#1f78b4;\" x=\"225.352654\" xlink:href=\"#m12a830b1d2\" y=\"279\"/>\n     <use style=\"fill:#1f78b4;stroke:#1f78b4;\" x=\"253.911408\" xlink:href=\"#m12a830b1d2\" y=\"166.68595\"/>\n     <use style=\"fill:#1f78b4;stroke:#1f78b4;\" x=\"253.911408\" xlink:href=\"#m12a830b1d2\" y=\"279\"/>\n     <use style=\"fill:#1f78b4;stroke:#1f78b4;\" x=\"283.119224\" xlink:href=\"#m12a830b1d2\" y=\"166.68595\"/>\n     <use style=\"fill:#1f78b4;stroke:#1f78b4;\" x=\"318.168604\" xlink:href=\"#m12a830b1d2\" y=\"166.68595\"/>\n     <use style=\"fill:#1f78b4;stroke:#1f78b4;\" x=\"347.376421\" xlink:href=\"#m12a830b1d2\" y=\"166.68595\"/>\n     <use style=\"fill:#1f78b4;stroke:#1f78b4;\" x=\"376.580992\" xlink:href=\"#m12a830b1d2\" y=\"166.68595\"/>\n     <use style=\"fill:#1f78b4;stroke:#1f78b4;\" x=\"405.788809\" xlink:href=\"#m12a830b1d2\" y=\"166.68595\"/>\n     <use style=\"fill:#1f78b4;stroke:#1f78b4;\" x=\"434.996626\" xlink:href=\"#m12a830b1d2\" y=\"166.68595\"/>\n     <use style=\"fill:#1f78b4;stroke:#1f78b4;\" x=\"464.204442\" xlink:href=\"#m12a830b1d2\" y=\"166.68595\"/>\n     <use style=\"fill:#1f78b4;stroke:#1f78b4;\" x=\"300.643914\" xlink:href=\"#m12a830b1d2\" y=\"54.371901\"/>\n     <use style=\"fill:#1f78b4;stroke:#1f78b4;\" x=\"493.412259\" xlink:href=\"#m12a830b1d2\" y=\"166.68595\"/>\n     <use style=\"fill:#1f78b4;stroke:#1f78b4;\" x=\"516.778512\" xlink:href=\"#m12a830b1d2\" y=\"166.68595\"/>\n    </g>\n   </g>\n   <g id=\"patch_74\">\n    <path d=\"M 7.2 550.8 \nL 7.2 7.2 \n\" style=\"fill:none;stroke:#000000;stroke-linecap:square;stroke-linejoin:miter;stroke-width:0.8;\"/>\n   </g>\n   <g id=\"patch_75\">\n    <path d=\"M 565.2 550.8 \nL 565.2 7.2 \n\" style=\"fill:none;stroke:#000000;stroke-linecap:square;stroke-linejoin:miter;stroke-width:0.8;\"/>\n   </g>\n   <g id=\"patch_76\">\n    <path d=\"M 7.2 550.8 \nL 565.2 550.8 \n\" style=\"fill:none;stroke:#000000;stroke-linecap:square;stroke-linejoin:miter;stroke-width:0.8;\"/>\n   </g>\n   <g id=\"patch_77\">\n    <path d=\"M 7.2 7.2 \nL 565.2 7.2 \n\" style=\"fill:none;stroke:#000000;stroke-linecap:square;stroke-linejoin:miter;stroke-width:0.8;\"/>\n   </g>\n   <g id=\"text_1\">\n    <g clip-path=\"url(#p22c792129f)\">\n     <!-- 8 -->\n     <defs>\n      <path d=\"M 31.78125 34.625 \nQ 24.75 34.625 20.71875 30.859375 \nQ 16.703125 27.09375 16.703125 20.515625 \nQ 16.703125 13.921875 20.71875 10.15625 \nQ 24.75 6.390625 31.78125 6.390625 \nQ 38.8125 6.390625 42.859375 10.171875 \nQ 46.921875 13.96875 46.921875 20.515625 \nQ 46.921875 27.09375 42.890625 30.859375 \nQ 38.875 34.625 31.78125 34.625 \nz\nM 21.921875 38.8125 \nQ 15.578125 40.375 12.03125 44.71875 \nQ 8.5 49.078125 8.5 55.328125 \nQ 8.5 64.0625 14.71875 69.140625 \nQ 20.953125 74.21875 31.78125 74.21875 \nQ 42.671875 74.21875 48.875 69.140625 \nQ 55.078125 64.0625 55.078125 55.328125 \nQ 55.078125 49.078125 51.53125 44.71875 \nQ 48 40.375 41.703125 38.8125 \nQ 48.828125 37.15625 52.796875 32.3125 \nQ 56.78125 27.484375 56.78125 20.515625 \nQ 56.78125 9.90625 50.3125 4.234375 \nQ 43.84375 -1.421875 31.78125 -1.421875 \nQ 19.734375 -1.421875 13.25 4.234375 \nQ 6.78125 9.90625 6.78125 20.515625 \nQ 6.78125 27.484375 10.78125 32.3125 \nQ 14.796875 37.15625 21.921875 38.8125 \nz\nM 18.3125 54.390625 \nQ 18.3125 48.734375 21.84375 45.5625 \nQ 25.390625 42.390625 31.78125 42.390625 \nQ 38.140625 42.390625 41.71875 45.5625 \nQ 45.3125 48.734375 45.3125 54.390625 \nQ 45.3125 60.0625 41.71875 63.234375 \nQ 38.140625 66.40625 31.78125 66.40625 \nQ 25.390625 66.40625 21.84375 63.234375 \nQ 18.3125 60.0625 18.3125 54.390625 \nz\n\" id=\"DejaVuSans-56\"/>\n     </defs>\n     <g transform=\"translate(90.099979 394.6253)scale(0.12 -0.12)\">\n      <use xlink:href=\"#DejaVuSans-56\"/>\n     </g>\n    </g>\n   </g>\n   <g id=\"text_2\">\n    <g clip-path=\"url(#p22c792129f)\">\n     <!-- 26 -->\n     <defs>\n      <path d=\"M 19.1875 8.296875 \nL 53.609375 8.296875 \nL 53.609375 0 \nL 7.328125 0 \nL 7.328125 8.296875 \nQ 12.9375 14.109375 22.625 23.890625 \nQ 32.328125 33.6875 34.8125 36.53125 \nQ 39.546875 41.84375 41.421875 45.53125 \nQ 43.3125 49.21875 43.3125 52.78125 \nQ 43.3125 58.59375 39.234375 62.25 \nQ 35.15625 65.921875 28.609375 65.921875 \nQ 23.96875 65.921875 18.8125 64.3125 \nQ 13.671875 62.703125 7.8125 59.421875 \nL 7.8125 69.390625 \nQ 13.765625 71.78125 18.9375 73 \nQ 24.125 74.21875 28.421875 74.21875 \nQ 39.75 74.21875 46.484375 68.546875 \nQ 53.21875 62.890625 53.21875 53.421875 \nQ 53.21875 48.921875 51.53125 44.890625 \nQ 49.859375 40.875 45.40625 35.40625 \nQ 44.1875 33.984375 37.640625 27.21875 \nQ 31.109375 20.453125 19.1875 8.296875 \nz\n\" id=\"DejaVuSans-50\"/>\n      <path d=\"M 33.015625 40.375 \nQ 26.375 40.375 22.484375 35.828125 \nQ 18.609375 31.296875 18.609375 23.390625 \nQ 18.609375 15.53125 22.484375 10.953125 \nQ 26.375 6.390625 33.015625 6.390625 \nQ 39.65625 6.390625 43.53125 10.953125 \nQ 47.40625 15.53125 47.40625 23.390625 \nQ 47.40625 31.296875 43.53125 35.828125 \nQ 39.65625 40.375 33.015625 40.375 \nz\nM 52.59375 71.296875 \nL 52.59375 62.3125 \nQ 48.875 64.0625 45.09375 64.984375 \nQ 41.3125 65.921875 37.59375 65.921875 \nQ 27.828125 65.921875 22.671875 59.328125 \nQ 17.53125 52.734375 16.796875 39.40625 \nQ 19.671875 43.65625 24.015625 45.921875 \nQ 28.375 48.1875 33.59375 48.1875 \nQ 44.578125 48.1875 50.953125 41.515625 \nQ 57.328125 34.859375 57.328125 23.390625 \nQ 57.328125 12.15625 50.6875 5.359375 \nQ 44.046875 -1.421875 33.015625 -1.421875 \nQ 20.359375 -1.421875 13.671875 8.265625 \nQ 6.984375 17.96875 6.984375 36.375 \nQ 6.984375 53.65625 15.1875 63.9375 \nQ 23.390625 74.21875 37.203125 74.21875 \nQ 40.921875 74.21875 44.703125 73.484375 \nQ 48.484375 72.75 52.59375 71.296875 \nz\n\" id=\"DejaVuSans-54\"/>\n     </defs>\n     <g transform=\"translate(196.623119 506.939349)scale(0.12 -0.12)\">\n      <use xlink:href=\"#DejaVuSans-50\"/>\n      <use x=\"63.623047\" xlink:href=\"#DejaVuSans-54\"/>\n     </g>\n    </g>\n   </g>\n   <g id=\"text_3\">\n    <g clip-path=\"url(#p22c792129f)\">\n     <!-- 17 -->\n     <defs>\n      <path d=\"M 12.40625 8.296875 \nL 28.515625 8.296875 \nL 28.515625 63.921875 \nL 10.984375 60.40625 \nL 10.984375 69.390625 \nL 28.421875 72.90625 \nL 38.28125 72.90625 \nL 38.28125 8.296875 \nL 54.390625 8.296875 \nL 54.390625 0 \nL 12.40625 0 \nz\n\" id=\"DejaVuSans-49\"/>\n      <path d=\"M 8.203125 72.90625 \nL 55.078125 72.90625 \nL 55.078125 68.703125 \nL 28.609375 0 \nL 18.3125 0 \nL 43.21875 64.59375 \nL 8.203125 64.59375 \nz\n\" id=\"DejaVuSans-55\"/>\n     </defs>\n     <g transform=\"translate(246.276408 394.6253)scale(0.12 -0.12)\">\n      <use xlink:href=\"#DejaVuSans-49\"/>\n      <use x=\"63.623047\" xlink:href=\"#DejaVuSans-55\"/>\n     </g>\n    </g>\n   </g>\n   <g id=\"text_4\">\n    <g clip-path=\"url(#p22c792129f)\">\n     <!-- 3 -->\n     <defs>\n      <path d=\"M 40.578125 39.3125 \nQ 47.65625 37.796875 51.625 33 \nQ 55.609375 28.21875 55.609375 21.1875 \nQ 55.609375 10.40625 48.1875 4.484375 \nQ 40.765625 -1.421875 27.09375 -1.421875 \nQ 22.515625 -1.421875 17.65625 -0.515625 \nQ 12.796875 0.390625 7.625 2.203125 \nL 7.625 11.71875 \nQ 11.71875 9.328125 16.59375 8.109375 \nQ 21.484375 6.890625 26.8125 6.890625 \nQ 36.078125 6.890625 40.9375 10.546875 \nQ 45.796875 14.203125 45.796875 21.1875 \nQ 45.796875 27.640625 41.28125 31.265625 \nQ 36.765625 34.90625 28.71875 34.90625 \nL 20.21875 34.90625 \nL 20.21875 43.015625 \nL 29.109375 43.015625 \nQ 36.375 43.015625 40.234375 45.921875 \nQ 44.09375 48.828125 44.09375 54.296875 \nQ 44.09375 59.90625 40.109375 62.90625 \nQ 36.140625 65.921875 28.71875 65.921875 \nQ 24.65625 65.921875 20.015625 65.03125 \nQ 15.375 64.15625 9.8125 62.3125 \nL 9.8125 71.09375 \nQ 15.4375 72.65625 20.34375 73.4375 \nQ 25.25 74.21875 29.59375 74.21875 \nQ 40.828125 74.21875 47.359375 69.109375 \nQ 53.90625 64.015625 53.90625 55.328125 \nQ 53.90625 49.265625 50.4375 45.09375 \nQ 46.96875 40.921875 40.578125 39.3125 \nz\n\" id=\"DejaVuSans-51\"/>\n     </defs>\n     <g transform=\"translate(86.530134 169.9972)scale(0.12 -0.12)\">\n      <use xlink:href=\"#DejaVuSans-51\"/>\n     </g>\n    </g>\n   </g>\n   <g id=\"text_5\">\n    <g clip-path=\"url(#p22c792129f)\">\n     <!-- 19 -->\n     <defs>\n      <path d=\"M 10.984375 1.515625 \nL 10.984375 10.5 \nQ 14.703125 8.734375 18.5 7.8125 \nQ 22.3125 6.890625 25.984375 6.890625 \nQ 35.75 6.890625 40.890625 13.453125 \nQ 46.046875 20.015625 46.78125 33.40625 \nQ 43.953125 29.203125 39.59375 26.953125 \nQ 35.25 24.703125 29.984375 24.703125 \nQ 19.046875 24.703125 12.671875 31.3125 \nQ 6.296875 37.9375 6.296875 49.421875 \nQ 6.296875 60.640625 12.9375 67.421875 \nQ 19.578125 74.21875 30.609375 74.21875 \nQ 43.265625 74.21875 49.921875 64.515625 \nQ 56.59375 54.828125 56.59375 36.375 \nQ 56.59375 19.140625 48.40625 8.859375 \nQ 40.234375 -1.421875 26.421875 -1.421875 \nQ 22.703125 -1.421875 18.890625 -0.6875 \nQ 15.09375 0.046875 10.984375 1.515625 \nz\nM 30.609375 32.421875 \nQ 37.25 32.421875 41.125 36.953125 \nQ 45.015625 41.5 45.015625 49.421875 \nQ 45.015625 57.28125 41.125 61.84375 \nQ 37.25 66.40625 30.609375 66.40625 \nQ 23.96875 66.40625 20.09375 61.84375 \nQ 16.21875 57.28125 16.21875 49.421875 \nQ 16.21875 41.5 20.09375 36.953125 \nQ 23.96875 32.421875 30.609375 32.421875 \nz\n\" id=\"DejaVuSans-57\"/>\n     </defs>\n     <g transform=\"translate(47.986488 282.31125)scale(0.12 -0.12)\">\n      <use xlink:href=\"#DejaVuSans-49\"/>\n      <use x=\"63.623047\" xlink:href=\"#DejaVuSans-57\"/>\n     </g>\n    </g>\n   </g>\n   <g id=\"text_6\">\n    <g clip-path=\"url(#p22c792129f)\">\n     <!-- 18 -->\n     <g transform=\"translate(246.276408 506.939349)scale(0.12 -0.12)\">\n      <use xlink:href=\"#DejaVuSans-49\"/>\n      <use x=\"63.623047\" xlink:href=\"#DejaVuSans-56\"/>\n     </g>\n    </g>\n   </g>\n   <g id=\"text_7\">\n    <g clip-path=\"url(#p22c792129f)\">\n     <!-- 16 -->\n     <g transform=\"translate(275.159693 282.31125)scale(0.12 -0.12)\">\n      <use xlink:href=\"#DejaVuSans-49\"/>\n      <use x=\"63.623047\" xlink:href=\"#DejaVuSans-54\"/>\n     </g>\n    </g>\n   </g>\n   <g id=\"text_8\">\n    <g clip-path=\"url(#p22c792129f)\">\n     <!-- 20 -->\n     <defs>\n      <path d=\"M 31.78125 66.40625 \nQ 24.171875 66.40625 20.328125 58.90625 \nQ 16.5 51.421875 16.5 36.375 \nQ 16.5 21.390625 20.328125 13.890625 \nQ 24.171875 6.390625 31.78125 6.390625 \nQ 39.453125 6.390625 43.28125 13.890625 \nQ 47.125 21.390625 47.125 36.375 \nQ 47.125 51.421875 43.28125 58.90625 \nQ 39.453125 66.40625 31.78125 66.40625 \nz\nM 31.78125 74.21875 \nQ 44.046875 74.21875 50.515625 64.515625 \nQ 56.984375 54.828125 56.984375 36.375 \nQ 56.984375 17.96875 50.515625 8.265625 \nQ 44.046875 -1.421875 31.78125 -1.421875 \nQ 19.53125 -1.421875 13.0625 8.265625 \nQ 6.59375 17.96875 6.59375 36.375 \nQ 6.59375 54.828125 13.0625 64.515625 \nQ 19.53125 74.21875 31.78125 74.21875 \nz\n\" id=\"DejaVuSans-48\"/>\n     </defs>\n     <g transform=\"translate(94.720292 282.31125)scale(0.12 -0.12)\">\n      <use xlink:href=\"#DejaVuSans-50\"/>\n      <use x=\"63.623047\" xlink:href=\"#DejaVuSans-48\"/>\n     </g>\n    </g>\n   </g>\n   <g id=\"text_9\">\n    <g clip-path=\"url(#p22c792129f)\">\n     <!-- 23 -->\n     <g transform=\"translate(176.82671 394.6253)scale(0.12 -0.12)\">\n      <use xlink:href=\"#DejaVuSans-50\"/>\n      <use x=\"63.623047\" xlink:href=\"#DejaVuSans-51\"/>\n     </g>\n    </g>\n   </g>\n   <g id=\"text_10\">\n    <g clip-path=\"url(#p22c792129f)\">\n     <!-- 22 -->\n     <g transform=\"translate(176.82671 282.31125)scale(0.12 -0.12)\">\n      <use xlink:href=\"#DejaVuSans-50\"/>\n      <use x=\"63.623047\" xlink:href=\"#DejaVuSans-50\"/>\n     </g>\n    </g>\n   </g>\n   <g id=\"text_11\">\n    <g clip-path=\"url(#p22c792129f)\">\n     <!-- 10 -->\n     <g transform=\"translate(123.603578 169.9972)scale(0.12 -0.12)\">\n      <use xlink:href=\"#DejaVuSans-49\"/>\n      <use x=\"63.623047\" xlink:href=\"#DejaVuSans-48\"/>\n     </g>\n    </g>\n   </g>\n   <g id=\"text_12\">\n    <g clip-path=\"url(#p22c792129f)\">\n     <!-- 25 -->\n     <defs>\n      <path d=\"M 10.796875 72.90625 \nL 49.515625 72.90625 \nL 49.515625 64.59375 \nL 19.828125 64.59375 \nL 19.828125 46.734375 \nQ 21.96875 47.46875 24.109375 47.828125 \nQ 26.265625 48.1875 28.421875 48.1875 \nQ 40.625 48.1875 47.75 41.5 \nQ 54.890625 34.8125 54.890625 23.390625 \nQ 54.890625 11.625 47.5625 5.09375 \nQ 40.234375 -1.421875 26.90625 -1.421875 \nQ 22.3125 -1.421875 17.546875 -0.640625 \nQ 12.796875 0.140625 7.71875 1.703125 \nL 7.71875 11.625 \nQ 12.109375 9.234375 16.796875 8.0625 \nQ 21.484375 6.890625 26.703125 6.890625 \nQ 35.15625 6.890625 40.078125 11.328125 \nQ 45.015625 15.765625 45.015625 23.390625 \nQ 45.015625 31 40.078125 35.4375 \nQ 35.15625 39.890625 26.703125 39.890625 \nQ 22.75 39.890625 18.8125 39.015625 \nQ 14.890625 38.140625 10.796875 36.28125 \nz\n\" id=\"DejaVuSans-53\"/>\n     </defs>\n     <g transform=\"translate(129.769672 282.31125)scale(0.12 -0.12)\">\n      <use xlink:href=\"#DejaVuSans-50\"/>\n      <use x=\"63.623047\" xlink:href=\"#DejaVuSans-53\"/>\n     </g>\n    </g>\n   </g>\n   <g id=\"text_13\">\n    <g clip-path=\"url(#p22c792129f)\">\n     <!-- 9 -->\n     <g transform=\"translate(156.628894 169.9972)scale(0.12 -0.12)\">\n      <use xlink:href=\"#DejaVuSans-57\"/>\n     </g>\n    </g>\n   </g>\n   <g id=\"text_14\">\n    <g clip-path=\"url(#p22c792129f)\">\n     <!-- 24 -->\n     <defs>\n      <path d=\"M 37.796875 64.3125 \nL 12.890625 25.390625 \nL 37.796875 25.390625 \nz\nM 35.203125 72.90625 \nL 47.609375 72.90625 \nL 47.609375 25.390625 \nL 58.015625 25.390625 \nL 58.015625 17.1875 \nL 47.609375 17.1875 \nL 47.609375 0 \nL 37.796875 0 \nL 37.796875 17.1875 \nL 4.890625 17.1875 \nL 4.890625 26.703125 \nz\n\" id=\"DejaVuSans-52\"/>\n     </defs>\n     <g transform=\"translate(153.135926 282.31125)scale(0.12 -0.12)\">\n      <use xlink:href=\"#DejaVuSans-50\"/>\n      <use x=\"63.623047\" xlink:href=\"#DejaVuSans-52\"/>\n     </g>\n    </g>\n   </g>\n   <g id=\"text_15\">\n    <g clip-path=\"url(#p22c792129f)\">\n     <!-- 1 -->\n     <g transform=\"translate(185.836711 169.9972)scale(0.12 -0.12)\">\n      <use xlink:href=\"#DejaVuSans-49\"/>\n     </g>\n    </g>\n   </g>\n   <g id=\"text_16\">\n    <g clip-path=\"url(#p22c792129f)\">\n     <!-- 12 -->\n     <g transform=\"translate(217.068591 169.9972)scale(0.12 -0.12)\">\n      <use xlink:href=\"#DejaVuSans-49\"/>\n      <use x=\"63.623047\" xlink:href=\"#DejaVuSans-50\"/>\n     </g>\n    </g>\n   </g>\n   <g id=\"text_17\">\n    <g clip-path=\"url(#p22c792129f)\">\n     <!-- 21 -->\n     <g transform=\"translate(217.717654 282.31125)scale(0.12 -0.12)\">\n      <use xlink:href=\"#DejaVuSans-50\"/>\n      <use x=\"63.623047\" xlink:href=\"#DejaVuSans-49\"/>\n     </g>\n    </g>\n   </g>\n   <g id=\"text_18\">\n    <g clip-path=\"url(#p22c792129f)\">\n     <!-- 6 -->\n     <g transform=\"translate(250.093908 169.9972)scale(0.12 -0.12)\">\n      <use xlink:href=\"#DejaVuSans-54\"/>\n     </g>\n    </g>\n   </g>\n   <g id=\"text_19\">\n    <g clip-path=\"url(#p22c792129f)\">\n     <!-- removed -->\n     <defs>\n      <path d=\"M 41.109375 46.296875 \nQ 39.59375 47.171875 37.8125 47.578125 \nQ 36.03125 48 33.890625 48 \nQ 26.265625 48 22.1875 43.046875 \nQ 18.109375 38.09375 18.109375 28.8125 \nL 18.109375 0 \nL 9.078125 0 \nL 9.078125 54.6875 \nL 18.109375 54.6875 \nL 18.109375 46.1875 \nQ 20.953125 51.171875 25.484375 53.578125 \nQ 30.03125 56 36.53125 56 \nQ 37.453125 56 38.578125 55.875 \nQ 39.703125 55.765625 41.0625 55.515625 \nz\n\" id=\"DejaVuSans-114\"/>\n      <path d=\"M 56.203125 29.59375 \nL 56.203125 25.203125 \nL 14.890625 25.203125 \nQ 15.484375 15.921875 20.484375 11.0625 \nQ 25.484375 6.203125 34.421875 6.203125 \nQ 39.59375 6.203125 44.453125 7.46875 \nQ 49.3125 8.734375 54.109375 11.28125 \nL 54.109375 2.78125 \nQ 49.265625 0.734375 44.1875 -0.34375 \nQ 39.109375 -1.421875 33.890625 -1.421875 \nQ 20.796875 -1.421875 13.15625 6.1875 \nQ 5.515625 13.8125 5.515625 26.8125 \nQ 5.515625 40.234375 12.765625 48.109375 \nQ 20.015625 56 32.328125 56 \nQ 43.359375 56 49.78125 48.890625 \nQ 56.203125 41.796875 56.203125 29.59375 \nz\nM 47.21875 32.234375 \nQ 47.125 39.59375 43.09375 43.984375 \nQ 39.0625 48.390625 32.421875 48.390625 \nQ 24.90625 48.390625 20.390625 44.140625 \nQ 15.875 39.890625 15.1875 32.171875 \nz\n\" id=\"DejaVuSans-101\"/>\n      <path d=\"M 52 44.1875 \nQ 55.375 50.25 60.0625 53.125 \nQ 64.75 56 71.09375 56 \nQ 79.640625 56 84.28125 50.015625 \nQ 88.921875 44.046875 88.921875 33.015625 \nL 88.921875 0 \nL 79.890625 0 \nL 79.890625 32.71875 \nQ 79.890625 40.578125 77.09375 44.375 \nQ 74.3125 48.1875 68.609375 48.1875 \nQ 61.625 48.1875 57.5625 43.546875 \nQ 53.515625 38.921875 53.515625 30.90625 \nL 53.515625 0 \nL 44.484375 0 \nL 44.484375 32.71875 \nQ 44.484375 40.625 41.703125 44.40625 \nQ 38.921875 48.1875 33.109375 48.1875 \nQ 26.21875 48.1875 22.15625 43.53125 \nQ 18.109375 38.875 18.109375 30.90625 \nL 18.109375 0 \nL 9.078125 0 \nL 9.078125 54.6875 \nL 18.109375 54.6875 \nL 18.109375 46.1875 \nQ 21.1875 51.21875 25.484375 53.609375 \nQ 29.78125 56 35.6875 56 \nQ 41.65625 56 45.828125 52.96875 \nQ 50 49.953125 52 44.1875 \nz\n\" id=\"DejaVuSans-109\"/>\n      <path d=\"M 30.609375 48.390625 \nQ 23.390625 48.390625 19.1875 42.75 \nQ 14.984375 37.109375 14.984375 27.296875 \nQ 14.984375 17.484375 19.15625 11.84375 \nQ 23.34375 6.203125 30.609375 6.203125 \nQ 37.796875 6.203125 41.984375 11.859375 \nQ 46.1875 17.53125 46.1875 27.296875 \nQ 46.1875 37.015625 41.984375 42.703125 \nQ 37.796875 48.390625 30.609375 48.390625 \nz\nM 30.609375 56 \nQ 42.328125 56 49.015625 48.375 \nQ 55.71875 40.765625 55.71875 27.296875 \nQ 55.71875 13.875 49.015625 6.21875 \nQ 42.328125 -1.421875 30.609375 -1.421875 \nQ 18.84375 -1.421875 12.171875 6.21875 \nQ 5.515625 13.875 5.515625 27.296875 \nQ 5.515625 40.765625 12.171875 48.375 \nQ 18.84375 56 30.609375 56 \nz\n\" id=\"DejaVuSans-111\"/>\n      <path d=\"M 2.984375 54.6875 \nL 12.5 54.6875 \nL 29.59375 8.796875 \nL 46.6875 54.6875 \nL 56.203125 54.6875 \nL 35.6875 0 \nL 23.484375 0 \nz\n\" id=\"DejaVuSans-118\"/>\n      <path d=\"M 45.40625 46.390625 \nL 45.40625 75.984375 \nL 54.390625 75.984375 \nL 54.390625 0 \nL 45.40625 0 \nL 45.40625 8.203125 \nQ 42.578125 3.328125 38.25 0.953125 \nQ 33.9375 -1.421875 27.875 -1.421875 \nQ 17.96875 -1.421875 11.734375 6.484375 \nQ 5.515625 14.40625 5.515625 27.296875 \nQ 5.515625 40.1875 11.734375 48.09375 \nQ 17.96875 56 27.875 56 \nQ 33.9375 56 38.25 53.625 \nQ 42.578125 51.265625 45.40625 46.390625 \nz\nM 14.796875 27.296875 \nQ 14.796875 17.390625 18.875 11.75 \nQ 22.953125 6.109375 30.078125 6.109375 \nQ 37.203125 6.109375 41.296875 11.75 \nQ 45.40625 17.390625 45.40625 27.296875 \nQ 45.40625 37.203125 41.296875 42.84375 \nQ 37.203125 48.484375 30.078125 48.484375 \nQ 22.953125 48.484375 18.875 42.84375 \nQ 14.796875 37.203125 14.796875 27.296875 \nz\n\" id=\"DejaVuSans-100\"/>\n     </defs>\n     <g transform=\"translate(227.187033 282.31125)scale(0.12 -0.12)\">\n      <use xlink:href=\"#DejaVuSans-114\"/>\n      <use x=\"41.082031\" xlink:href=\"#DejaVuSans-101\"/>\n      <use x=\"102.605469\" xlink:href=\"#DejaVuSans-109\"/>\n      <use x=\"200.017578\" xlink:href=\"#DejaVuSans-111\"/>\n      <use x=\"261.199219\" xlink:href=\"#DejaVuSans-118\"/>\n      <use x=\"320.378906\" xlink:href=\"#DejaVuSans-101\"/>\n      <use x=\"381.902344\" xlink:href=\"#DejaVuSans-100\"/>\n     </g>\n    </g>\n   </g>\n   <g id=\"text_20\">\n    <g clip-path=\"url(#p22c792129f)\">\n     <!-- 5 -->\n     <g transform=\"translate(279.301724 169.9972)scale(0.12 -0.12)\">\n      <use xlink:href=\"#DejaVuSans-53\"/>\n     </g>\n    </g>\n   </g>\n   <g id=\"text_21\">\n    <g clip-path=\"url(#p22c792129f)\">\n     <!-- 15 -->\n     <g transform=\"translate(310.533604 169.9972)scale(0.12 -0.12)\">\n      <use xlink:href=\"#DejaVuSans-49\"/>\n      <use x=\"63.623047\" xlink:href=\"#DejaVuSans-53\"/>\n     </g>\n    </g>\n   </g>\n   <g id=\"text_22\">\n    <g clip-path=\"url(#p22c792129f)\">\n     <!-- 14 -->\n     <g transform=\"translate(339.741421 169.9972)scale(0.12 -0.12)\">\n      <use xlink:href=\"#DejaVuSans-49\"/>\n      <use x=\"63.623047\" xlink:href=\"#DejaVuSans-52\"/>\n     </g>\n    </g>\n   </g>\n   <g id=\"text_23\">\n    <g clip-path=\"url(#p22c792129f)\">\n     <!-- 13 -->\n     <g transform=\"translate(368.945992 169.9972)scale(0.12 -0.12)\">\n      <use xlink:href=\"#DejaVuSans-49\"/>\n      <use x=\"63.623047\" xlink:href=\"#DejaVuSans-51\"/>\n     </g>\n    </g>\n   </g>\n   <g id=\"text_24\">\n    <g clip-path=\"url(#p22c792129f)\">\n     <!-- 11 -->\n     <g transform=\"translate(398.153809 169.9972)scale(0.12 -0.12)\">\n      <use xlink:href=\"#DejaVuSans-49\"/>\n      <use x=\"63.623047\" xlink:href=\"#DejaVuSans-49\"/>\n     </g>\n    </g>\n   </g>\n   <g id=\"text_25\">\n    <g clip-path=\"url(#p22c792129f)\">\n     <!-- 7 -->\n     <g transform=\"translate(431.179126 169.9972)scale(0.12 -0.12)\">\n      <use xlink:href=\"#DejaVuSans-55\"/>\n     </g>\n    </g>\n   </g>\n   <g id=\"text_26\">\n    <g clip-path=\"url(#p22c792129f)\">\n     <!-- 2 -->\n     <g transform=\"translate(460.386942 169.9972)scale(0.12 -0.12)\">\n      <use xlink:href=\"#DejaVuSans-50\"/>\n     </g>\n    </g>\n   </g>\n   <g id=\"text_27\">\n    <g clip-path=\"url(#p22c792129f)\">\n     <!-- start -->\n     <defs>\n      <path d=\"M 44.28125 53.078125 \nL 44.28125 44.578125 \nQ 40.484375 46.53125 36.375 47.5 \nQ 32.28125 48.484375 27.875 48.484375 \nQ 21.1875 48.484375 17.84375 46.4375 \nQ 14.5 44.390625 14.5 40.28125 \nQ 14.5 37.15625 16.890625 35.375 \nQ 19.28125 33.59375 26.515625 31.984375 \nL 29.59375 31.296875 \nQ 39.15625 29.25 43.1875 25.515625 \nQ 47.21875 21.78125 47.21875 15.09375 \nQ 47.21875 7.46875 41.1875 3.015625 \nQ 35.15625 -1.421875 24.609375 -1.421875 \nQ 20.21875 -1.421875 15.453125 -0.5625 \nQ 10.6875 0.296875 5.421875 2 \nL 5.421875 11.28125 \nQ 10.40625 8.6875 15.234375 7.390625 \nQ 20.0625 6.109375 24.8125 6.109375 \nQ 31.15625 6.109375 34.5625 8.28125 \nQ 37.984375 10.453125 37.984375 14.40625 \nQ 37.984375 18.0625 35.515625 20.015625 \nQ 33.0625 21.96875 24.703125 23.78125 \nL 21.578125 24.515625 \nQ 13.234375 26.265625 9.515625 29.90625 \nQ 5.8125 33.546875 5.8125 39.890625 \nQ 5.8125 47.609375 11.28125 51.796875 \nQ 16.75 56 26.8125 56 \nQ 31.78125 56 36.171875 55.265625 \nQ 40.578125 54.546875 44.28125 53.078125 \nz\n\" id=\"DejaVuSans-115\"/>\n      <path d=\"M 18.3125 70.21875 \nL 18.3125 54.6875 \nL 36.8125 54.6875 \nL 36.8125 47.703125 \nL 18.3125 47.703125 \nL 18.3125 18.015625 \nQ 18.3125 11.328125 20.140625 9.421875 \nQ 21.96875 7.515625 27.59375 7.515625 \nL 36.8125 7.515625 \nL 36.8125 0 \nL 27.59375 0 \nQ 17.1875 0 13.234375 3.875 \nQ 9.28125 7.765625 9.28125 18.015625 \nL 9.28125 47.703125 \nL 2.6875 47.703125 \nL 2.6875 54.6875 \nL 9.28125 54.6875 \nL 9.28125 70.21875 \nz\n\" id=\"DejaVuSans-116\"/>\n      <path d=\"M 34.28125 27.484375 \nQ 23.390625 27.484375 19.1875 25 \nQ 14.984375 22.515625 14.984375 16.5 \nQ 14.984375 11.71875 18.140625 8.90625 \nQ 21.296875 6.109375 26.703125 6.109375 \nQ 34.1875 6.109375 38.703125 11.40625 \nQ 43.21875 16.703125 43.21875 25.484375 \nL 43.21875 27.484375 \nz\nM 52.203125 31.203125 \nL 52.203125 0 \nL 43.21875 0 \nL 43.21875 8.296875 \nQ 40.140625 3.328125 35.546875 0.953125 \nQ 30.953125 -1.421875 24.3125 -1.421875 \nQ 15.921875 -1.421875 10.953125 3.296875 \nQ 6 8.015625 6 15.921875 \nQ 6 25.140625 12.171875 29.828125 \nQ 18.359375 34.515625 30.609375 34.515625 \nL 43.21875 34.515625 \nL 43.21875 35.40625 \nQ 43.21875 41.609375 39.140625 45 \nQ 35.0625 48.390625 27.6875 48.390625 \nQ 23 48.390625 18.546875 47.265625 \nQ 14.109375 46.140625 10.015625 43.890625 \nL 10.015625 52.203125 \nQ 14.9375 54.109375 19.578125 55.046875 \nQ 24.21875 56 28.609375 56 \nQ 40.484375 56 46.34375 49.84375 \nQ 52.203125 43.703125 52.203125 31.203125 \nz\n\" id=\"DejaVuSans-97\"/>\n     </defs>\n     <g transform=\"translate(286.670477 57.683151)scale(0.12 -0.12)\">\n      <use xlink:href=\"#DejaVuSans-115\"/>\n      <use x=\"52.099609\" xlink:href=\"#DejaVuSans-116\"/>\n      <use x=\"91.308594\" xlink:href=\"#DejaVuSans-97\"/>\n      <use x=\"152.587891\" xlink:href=\"#DejaVuSans-114\"/>\n      <use x=\"193.701172\" xlink:href=\"#DejaVuSans-116\"/>\n     </g>\n    </g>\n   </g>\n   <g id=\"text_28\">\n    <g clip-path=\"url(#p22c792129f)\">\n     <!-- 0 -->\n     <g transform=\"translate(489.594759 169.9972)scale(0.12 -0.12)\">\n      <use xlink:href=\"#DejaVuSans-48\"/>\n     </g>\n    </g>\n   </g>\n   <g id=\"text_29\">\n    <g clip-path=\"url(#p22c792129f)\">\n     <!-- 4 -->\n     <g transform=\"translate(512.961012 169.9972)scale(0.12 -0.12)\">\n      <use xlink:href=\"#DejaVuSans-52\"/>\n     </g>\n    </g>\n   </g>\n  </g>\n </g>\n <defs>\n  <clipPath id=\"p22c792129f\">\n   <rect height=\"543.6\" width=\"558\" x=\"7.2\" y=\"7.2\"/>\n  </clipPath>\n </defs>\n</svg>\n",
      "image/png": "[encoded data removed]"
     },
     "metadata": {}
    }
   ],
   "source": [
    "from matplotlib import pyplot as plt\n",
    "\n",
    "plt.figure(figsize=(10,10))\n",
    "pos = nx.nx_pydot.graphviz_layout(col_graph,prog=\"dot\")\n",
    "#nx.draw_networkx(col_graph,pos=pos,connectionstyle='arc3, rad = 0.2')\n",
    "edge_labels=dict([((u,v,),d['state'])\n",
    "             for u,v,d in col_graph.edges(data=True)])\n",
    "nx.draw_networkx(col_graph,pos=pos,connectionstyle='arc3, rad = 0.2')\n",
    "#nx.draw_networkx_edge_labels(col_graph, pos, edge_labels=edge_labels,connectionstyle='arc3, rad = 0.2')\n",
    "plt.show()"
   ]
  },
  {
   "cell_type": "code",
   "execution_count": 245,
   "metadata": {},
   "outputs": [
    {
     "output_type": "stream",
     "name": "stdout",
     "text": [
      "column 5 logical_column 19\nvalue changed\nstate: -1 column: 5 row: 100 value: Timothy\ncolumn_dependency: [('start', 0, 0), ('start', 1, 0), ('start', 2, 0), ('start', 3, 0), ('start', 4, 0), ('start', 5, 0), ('start', 6, 0), ('start', 7, 0), ('start', 8, 0), ('start', 9, 0), ('start', 10, 0), ('start', 11, 0), ('start', 12, 0), ('start', 13, 0), ('start', 14, 0), ('start', 15, 0)]\nstate: 0 column: 5 row: 100 value: Timothy\nstate: 1 column: 5 row: 102 value: Timothy\nstate: 2 column: 5 row: 102 value: Timothy\nstate: 3 column: 5 row: 102 value: Timothy\nstate: 4 column: 5 row: 102 value: Timothy\ncolumn_dependency: [(3, 3, 0)]\nstate: 5 column: 5 row: 7491 value: Timothy\nstate: 6 column: 5 row: 7399 value: Timothy\nstate: 7 column: 6 row: 7399 value: Timothy\nstate: 8 column: 6 row: 7399 value: Timothy\ncolumn_dependency: [(19, 19, 0)]\nstate: 9 column: 6 row: 7399 value: Timothy\ncolumn_dependency: [(19, 19, 1)]\nstate: 10 column: 6 row: 7399 value: Timothy\nstate: 11 column: 6 row: 7399 value: Timothy\nstate: 12 column: 6 row: 7399 value: Timothy\nstate: 13 column: 6 row: 7399 value: Timothy\nstate: 14 column: 6 row: 7399 value: Timothy\nstate: 15 column: 6 row: 7399 value: Timothy\nstate: 16 column: 6 row: 7399 value: Timothy\nstate: 17 column: 6 row: 7399 value: Timothy\ncolumn_dependency: [(19, 19, 2)]\nstate: 18 column: 6 row: 7399 value: Timothy\ncolumn_dependency: [(19, 19, 3)]\nstate: 19 column: 6 row: 7399 value: Timothy\nstate: 20 column: 6 row: 7399 value: Timothy\nstate: 21 column: 6 row: 7399 value: Timothy\nstate: 22 column: 6 row: 7399 value: Timothy\nstate: 23 column: 6 row: 7399 value: Timothy\nstate: 24 column: 6 row: 7399 value: Timothy\nstate: 25 column: 6 row: 7399 value: Timothy\nstate: 26 column: 5 row: 7399 value: Timothy\nstate: 27 column: 5 row: 7399 value: Timothy\nstate: 28 column: 4 row: 7399 value: Timothy\nstate: 29 column: 4 row: 7399 value: Timothy\nstate: 30 column: 4 row: 7399 value: Timothy\nstate: 31 column: 4 row: 7399 value: Timothy\nstate: 32\n19 is not in list\ncolumn_dependency: [(3, 19, 0), (3, 20, 0)]\nstate: 33\n19 is not in list\nstate: 34\n19 is not in list\nstate: 35\n19 is not in list\nstate: 36\n19 is not in list\nstate: 37\n19 is not in list\nstate: 38\n19 is not in list\nstate: 39\n19 is not in list\nstate: 40\n19 is not in list\nstate: 41\n19 is not in list\nstate: 42\n19 is not in list\nstate: 43\n19 is not in list\nstate: 44\n19 is not in list\nstate: 45\n19 is not in list\nstate: 46\n19 is not in list\nstate: 47\n19 is not in list\nstate: 48\n19 is not in list\nstate: 49\n19 is not in list\nstate: 50\n19 is not in list\nstate: 51\n19 is not in list\nstate: 52\n19 is not in list\nstate: 53\n19 is not in list\nstate: 54\n19 is not in list\nstate: 55\n19 is not in list\ncolumn_dependency: [(3, 3, 1)]\nstate: 56\n19 is not in list\ncolumn_dependency: [(3, 3, 2)]\nstate: 57\n19 is not in list\n"
     ]
    }
   ],
   "source": [
    "# change of column order\n",
    "init_col = 5\n",
    "init_row = 100\n",
    "init_state = -1\n",
    "#init_state =  58\n",
    "min_state,max_state = min(row_order_aa[1].keys()),max(row_order_aa[1].keys())\n",
    "init_col_log = row_order_aa[1][init_state][init_col][0]\n",
    "init_row_log = row_order_aa[0][init_state][init_row]\n",
    "\n",
    "node_required = set()\n",
    "all_paths = list(nx.all_simple_paths(col_graph,\"start\",init_col_log))\n",
    "for x in all_paths:\n",
    "    #print(init_col,x)\n",
    "    for y in x:\n",
    "        node_required.add(y)\n",
    "#print(node_required,all_paths)\n",
    "state_dependency = {}\n",
    "for u,v in nx.get_edge_attributes(col_graph,\"state\").items():\n",
    "    try:\n",
    "        state_dependency[v]\n",
    "    except:\n",
    "        state_dependency[v] = []\n",
    "    state_dependency[v].append(u)    \n",
    "\n",
    "#state_dependency = {v: u for u,v in nx.get_edge_attributes(col_graph,\"state\").items()}\n",
    "#print(state_dependency)\n",
    "\n",
    "print(\"column\",init_col,\"logical_column\",init_col_log)\n",
    "\n",
    "#print(init_col_log)\n",
    "for x in range(min_state,max_state):\n",
    "        cts = list(cursor.execute(\"select a.state_id,b.value_text from content a,value b,cell c where a.value_id=b.value_id and c.col_id=? and c.row_id =? and c.cell_id=a.cell_id and a.state_id<=? order by state_id desc\",(init_col_log,init_row_log,x)))\n",
    "        #print(cts)\n",
    "        if len(cts)>0:\n",
    "            val = cts[0][1]  \n",
    "            if cts[0][0] == x:\n",
    "                print(\"value changed\")\n",
    "            try:\n",
    "                print(\"state:\",x,\"column:\",[y[0] for y in row_order_aa[1][x]].index(init_col_log),\"row:\",row_order_aa[0][x].index(init_row_log),\"value:\",val)\n",
    "            except BaseException as ex:\n",
    "                print(\"state:\",x)\n",
    "                print(ex)\n",
    "                pass\n",
    "            #    print(\"state:\",x)\n",
    "            #    pass\n",
    "        if x in state_dependency.keys():\n",
    "            #print(state_dependency[x])\n",
    "            for y in state_dependency[x]:\n",
    "                if y[1] in node_required:\n",
    "                    print(\"column_dependency:\",state_dependency[x])\n",
    "\n"
   ]
  },
  {
   "cell_type": "code",
   "execution_count": 241,
   "metadata": {},
   "outputs": [
    {
     "output_type": "execute_result",
     "data": {
      "text/plain": [
       "(19,\n",
       " {0: (17, 26, 0),\n",
       "  51: (8, 8, 0),\n",
       "  52: (8, 8, 1),\n",
       "  11: (17, 17, 0),\n",
       "  12: (17, 17, 1),\n",
       "  38: (17, 17, 2),\n",
       "  37: (17, 18, 0),\n",
       "  4: (3, 3, 0),\n",
       "  55: (3, 3, 1),\n",
       "  56: (3, 3, 2),\n",
       "  32: (3, 20, 0),\n",
       "  8: (19, 19, 0),\n",
       "  9: (19, 19, 1),\n",
       "  17: (19, 19, 2),\n",
       "  18: (19, 19, 3),\n",
       "  10: (18, 18, 0),\n",
       "  33: (18, 18, 1),\n",
       "  34: (18, 18, 2),\n",
       "  35: (18, 18, 3),\n",
       "  36: (18, 18, 4),\n",
       "  13: (16, 16, 0),\n",
       "  14: (16, 16, 1),\n",
       "  40: (16, 16, 2),\n",
       "  39: (16, 17, 0),\n",
       "  15: (20, 20, 0),\n",
       "  16: (20, 20, 1),\n",
       "  19: (23, 23, 0),\n",
       "  20: (23, 23, 1),\n",
       "  25: (23, 23, 2),\n",
       "  21: (22, 22, 0),\n",
       "  22: (22, 22, 1),\n",
       "  27: (22, 22, 2),\n",
       "  26: (22, 23, 0),\n",
       "  23: (10, 25, 0),\n",
       "  46: (10, 10, 0),\n",
       "  24: (9, 24, 0),\n",
       "  47: (9, 9, 0),\n",
       "  28: (1, 22, 0),\n",
       "  57: (1, 1, 0),\n",
       "  58: (1, 1, 1),\n",
       "  29: (12, 21, 0),\n",
       "  30: (12, 12, 0),\n",
       "  31: (6, 'removed', 0),\n",
       "  49: (6, 6, 0),\n",
       "  41: (5, 16, 0),\n",
       "  53: (5, 5, 0),\n",
       "  54: (5, 5, 1),\n",
       "  42: (15, 15, 0),\n",
       "  43: (14, 14, 0),\n",
       "  44: (13, 13, 0),\n",
       "  45: (11, 11, 0),\n",
       "  48: (7, 7, 0),\n",
       "  50: (2, 2, 0),\n",
       "  -1: ('start', 15, 0)})"
      ]
     },
     "metadata": {},
     "execution_count": 241
    }
   ],
   "source": [
    "init_col_log,state_dependency"
   ]
  },
  {
   "cell_type": "code",
   "execution_count": 240,
   "metadata": {},
   "outputs": [
    {
     "output_type": "execute_result",
     "data": {
      "text/plain": [
       "[['start', 3, 19]]"
      ]
     },
     "metadata": {},
     "execution_count": 240
    }
   ],
   "source": [
    "list(nx.all_simple_paths(col_graph,\"start\",init_col_log))"
   ]
  },
  {
   "cell_type": "code",
   "execution_count": 242,
   "metadata": {},
   "outputs": [
    {
     "output_type": "execute_result",
     "data": {
      "text/plain": [
       "{(8, 26, 0): 0,\n",
       " (8, 8, 0): 51,\n",
       " (8, 8, 1): 52,\n",
       " (17, 26, 0): 0,\n",
       " (17, 17, 0): 11,\n",
       " (17, 17, 1): 12,\n",
       " (17, 17, 2): 38,\n",
       " (17, 18, 0): 37,\n",
       " (3, 3, 0): 4,\n",
       " (3, 3, 1): 55,\n",
       " (3, 3, 2): 56,\n",
       " (3, 19, 0): 32,\n",
       " (3, 20, 0): 32,\n",
       " (19, 19, 0): 8,\n",
       " (19, 19, 1): 9,\n",
       " (19, 19, 2): 17,\n",
       " (19, 19, 3): 18,\n",
       " (18, 18, 0): 10,\n",
       " (18, 18, 1): 33,\n",
       " (18, 18, 2): 34,\n",
       " (18, 18, 3): 35,\n",
       " (18, 18, 4): 36,\n",
       " (16, 16, 0): 13,\n",
       " (16, 16, 1): 14,\n",
       " (16, 16, 2): 40,\n",
       " (16, 17, 0): 39,\n",
       " (20, 20, 0): 15,\n",
       " (20, 20, 1): 16,\n",
       " (23, 23, 0): 19,\n",
       " (23, 23, 1): 20,\n",
       " (23, 23, 2): 25,\n",
       " (22, 22, 0): 21,\n",
       " (22, 22, 1): 22,\n",
       " (22, 22, 2): 27,\n",
       " (22, 23, 0): 26,\n",
       " (10, 25, 0): 23,\n",
       " (10, 10, 0): 46,\n",
       " (9, 24, 0): 24,\n",
       " (9, 9, 0): 47,\n",
       " (1, 22, 0): 28,\n",
       " (1, 1, 0): 57,\n",
       " (1, 1, 1): 58,\n",
       " (12, 21, 0): 29,\n",
       " (12, 12, 0): 30,\n",
       " (6, 'removed', 0): 31,\n",
       " (6, 6, 0): 49,\n",
       " (5, 16, 0): 41,\n",
       " (5, 5, 0): 53,\n",
       " (5, 5, 1): 54,\n",
       " (15, 15, 0): 42,\n",
       " (14, 14, 0): 43,\n",
       " (13, 13, 0): 44,\n",
       " (11, 11, 0): 45,\n",
       " (7, 7, 0): 48,\n",
       " (2, 2, 0): 50,\n",
       " ('start', 0, 0): -1,\n",
       " ('start', 1, 0): -1,\n",
       " ('start', 2, 0): -1,\n",
       " ('start', 3, 0): -1,\n",
       " ('start', 4, 0): -1,\n",
       " ('start', 5, 0): -1,\n",
       " ('start', 6, 0): -1,\n",
       " ('start', 7, 0): -1,\n",
       " ('start', 8, 0): -1,\n",
       " ('start', 9, 0): -1,\n",
       " ('start', 10, 0): -1,\n",
       " ('start', 11, 0): -1,\n",
       " ('start', 12, 0): -1,\n",
       " ('start', 13, 0): -1,\n",
       " ('start', 14, 0): -1,\n",
       " ('start', 15, 0): -1}"
      ]
     },
     "metadata": {},
     "execution_count": 242
    }
   ],
   "source": [
    "nx.get_edge_attributes(col_graph,\"state\")"
   ]
  },
  {
   "cell_type": "code",
   "execution_count": 236,
   "metadata": {},
   "outputs": [
    {
     "output_type": "error",
     "ename": "TypeError",
     "evalue": "get_edge_attributes() missing 1 required positional argument: 'name'",
     "traceback": [
      "\u001b[0;31m---------------------------------------------------------------------------\u001b[0m",
      "\u001b[0;31mTypeError\u001b[0m                                 Traceback (most recent call last)",
      "\u001b[0;32m<ipython-input-236-e7184249f604>\u001b[0m in \u001b[0;36m<module>\u001b[0;34m\u001b[0m\n\u001b[0;32m----> 1\u001b[0;31m \u001b[0mnx\u001b[0m\u001b[0;34m.\u001b[0m\u001b[0mget_edge_attributes\u001b[0m\u001b[0;34m(\u001b[0m\u001b[0mcol_graph\u001b[0m\u001b[0;34m)\u001b[0m\u001b[0;34m\u001b[0m\u001b[0;34m\u001b[0m\u001b[0m\n\u001b[0m",
      "\u001b[0;31mTypeError\u001b[0m: get_edge_attributes() missing 1 required positional argument: 'name'"
     ]
    }
   ],
   "source": [
    "nx.get_edge_attributes(col_graph)"
   ]
  },
  {
   "cell_type": "code",
   "execution_count": 239,
   "metadata": {},
   "outputs": [
    {
     "output_type": "execute_result",
     "data": {
      "text/plain": [
       "[0,\n",
       " 1,\n",
       " 22,\n",
       " 23,\n",
       " 2,\n",
       " 19,\n",
       " 3,\n",
       " 20,\n",
       " 5,\n",
       " 16,\n",
       " 17,\n",
       " 26,\n",
       " 18,\n",
       " 6,\n",
       " 7,\n",
       " 8,\n",
       " 9,\n",
       " 24,\n",
       " 10,\n",
       " 25,\n",
       " 11,\n",
       " 12,\n",
       " 21,\n",
       " 13,\n",
       " 14,\n",
       " 15]"
      ]
     },
     "metadata": {},
     "execution_count": 239
    }
   ],
   "source": [
    "#[x[0] for x in row_order_aa[1][-1]]\n"
   ]
  },
  {
   "cell_type": "code",
   "execution_count": null,
   "metadata": {},
   "outputs": [],
   "source": []
  },
  {
   "cell_type": "code",
   "execution_count": 182,
   "metadata": {},
   "outputs": [
    {
     "output_type": "execute_result",
     "data": {
      "text/plain": [
       "{0: {'state': 51}, 1: {'state': 52}}"
      ]
     },
     "metadata": {},
     "execution_count": 182
    }
   ],
   "source": [
    "col_graph.get_edge_data(8,8)\n"
   ]
  },
  {
   "cell_type": "code",
   "execution_count": 183,
   "metadata": {},
   "outputs": [
    {
     "output_type": "execute_result",
     "data": {
      "text/plain": [
       "{0: (17, 26, 0),\n",
       " 51: (8, 8, 0),\n",
       " 52: (8, 8, 1),\n",
       " 11: (17, 17, 0),\n",
       " 12: (17, 17, 1),\n",
       " 38: (17, 17, 2),\n",
       " 37: (17, 18, 0),\n",
       " 4: (3, 3, 0),\n",
       " 55: (3, 3, 1),\n",
       " 56: (3, 3, 2),\n",
       " 32: (3, 20, 0),\n",
       " 8: (19, 19, 0),\n",
       " 9: (19, 19, 1),\n",
       " 17: (19, 19, 2),\n",
       " 18: (19, 19, 3),\n",
       " 10: (18, 18, 0),\n",
       " 33: (18, 18, 1),\n",
       " 34: (18, 18, 2),\n",
       " 35: (18, 18, 3),\n",
       " 36: (18, 18, 4),\n",
       " 13: (16, 16, 0),\n",
       " 14: (16, 16, 1),\n",
       " 40: (16, 16, 2),\n",
       " 39: (16, 17, 0),\n",
       " 15: (20, 20, 0),\n",
       " 16: (20, 20, 1),\n",
       " 19: (23, 23, 0),\n",
       " 20: (23, 23, 1),\n",
       " 25: (23, 23, 2),\n",
       " 21: (22, 22, 0),\n",
       " 22: (22, 22, 1),\n",
       " 27: (22, 22, 2),\n",
       " 26: (22, 23, 0),\n",
       " 23: (10, 25, 0),\n",
       " 46: (10, 10, 0),\n",
       " 24: (9, 24, 0),\n",
       " 47: (9, 9, 0),\n",
       " 28: (1, 22, 0),\n",
       " 57: (1, 1, 0),\n",
       " 58: (1, 1, 1),\n",
       " 29: (12, 21, 0),\n",
       " 30: (12, 12, 0),\n",
       " 31: (6, 'removed', 0),\n",
       " 49: (6, 6, 0),\n",
       " 41: (5, 16, 0),\n",
       " 53: (5, 5, 0),\n",
       " 54: (5, 5, 1),\n",
       " 42: (15, 15, 0),\n",
       " 43: (14, 14, 0),\n",
       " 44: (13, 13, 0),\n",
       " 45: (11, 11, 0),\n",
       " 48: (7, 7, 0),\n",
       " 50: (2, 2, 0),\n",
       " -1: ('start', 15, 0)}"
      ]
     },
     "metadata": {},
     "execution_count": 183
    }
   ],
   "source": []
  },
  {
   "cell_type": "code",
   "execution_count": 177,
   "metadata": {},
   "outputs": [
    {
     "output_type": "execute_result",
     "data": {
      "text/plain": [
       "[(0, '\"id\"'),\n",
       " (1, '\"name\"'),\n",
       " (22, '\"name_grel\"'),\n",
       " (23, '\"name_grel_star\"'),\n",
       " (2, '\"host_id\"'),\n",
       " (19, '\"host_name 1 test\"'),\n",
       " (3, '\"host_name\"'),\n",
       " (20, '\"host_name 2\"'),\n",
       " (5, '\"neighbourhood\"'),\n",
       " (16, '\"neighbourhood_case\"'),\n",
       " (17, '\"neighbourhood_loop\"'),\n",
       " (26, '\"test_combine\"'),\n",
       " (18, '\"neighbourhood_cluster\"'),\n",
       " (6, '\"latitude\"'),\n",
       " (7, '\"longitude\"'),\n",
       " (8, '\"room_type\"'),\n",
       " (9, '\"price\"'),\n",
       " (24, '\"price_crazy\"'),\n",
       " (10, '\"minimum_nights\"'),\n",
       " (25, '\"minimum_nights_long\"'),\n",
       " (11, '\"number_of_reviews\"'),\n",
       " (12, '\"last_review\"'),\n",
       " (21, '\"last_review_timeless\"'),\n",
       " (13, '\"reviews_per_month\"'),\n",
       " (14, '\"calculated_host_listings_count\"'),\n",
       " (15, '\"availability_365\"')]"
      ]
     },
     "metadata": {},
     "execution_count": 177
    }
   ],
   "source": [
    "row_order_aa[1][init_state]"
   ]
  },
  {
   "cell_type": "code",
   "execution_count": 61,
   "metadata": {},
   "outputs": [
    {
     "output_type": "execute_result",
     "data": {
      "text/plain": [
       "(-1, 58)"
      ]
     },
     "metadata": {},
     "execution_count": 61
    }
   ],
   "source": [
    "min_state,max_state"
   ]
  },
  {
   "cell_type": "code",
   "execution_count": 53,
   "metadata": {},
   "outputs": [
    {
     "output_type": "stream",
     "name": "stdout",
     "text": [
      "state: -1 row: 5\nstate: 0 row: 5\nstate: 1 row: 7\nstate: 2 row: 7\nstate: 3 row: 7\nstate: 4 row: 7\nstate: 5 row: 7586\nstate: 6 row: 3642\nstate: 7 row: 3642\nstate: 8 row: 3642\nstate: 9 row: 3642\nstate: 10 row: 3642\nstate: 11 row: 3642\nstate: 12 row: 3642\nstate: 13 row: 3642\nstate: 14 row: 3642\nstate: 15 row: 3642\nstate: 16 row: 3642\nstate: 17 row: 3642\nstate: 18 row: 3642\nstate: 19 row: 3642\nstate: 20 row: 3642\nstate: 21 row: 3642\nstate: 22 row: 3642\nstate: 23 row: 3642\nstate: 24 row: 3642\nstate: 25 row: 3642\nstate: 26 row: 3642\nstate: 27 row: 3642\nstate: 28 row: 3642\nstate: 29 row: 3642\nstate: 30 row: 3642\nstate: 31 row: 3642\nstate: 32 row: 3642\nstate: 33 row: 3642\nstate: 34 row: 3642\nstate: 35 row: 3642\nstate: 36 row: 3642\nstate: 37 row: 3642\nstate: 38 row: 3642\nstate: 39 row: 3642\nstate: 40 row: 3642\nstate: 41 row: 3642\nstate: 42 row: 3642\nstate: 43 row: 3642\nstate: 44 row: 3642\nstate: 45 row: 3642\nstate: 46 row: 3642\nstate: 47 row: 3642\nstate: 48 row: 3642\nstate: 49 row: 3642\nstate: 50 row: 3642\nstate: 51 row: 3642\nstate: 52 row: 3642\nstate: 53 row: 3642\nstate: 54 row: 3642\nstate: 55 row: 3642\nstate: 56 row: 3642\nstate: 57 row: 3642\n"
     ]
    }
   ],
   "source": [
    "# change of column order\n",
    "init_row = 5\n",
    "init_state = -1\n",
    "min_state,max_state = min(row_order_aa[1].keys()),max(row_order_aa[1].keys())\n",
    "init_row_log = row_order_aa[0][init_state][init_row]\n",
    "#print(init_col_log)\n",
    "for x in range(min_state,max_state):\n",
    "    try:        \n",
    "        print(\"state:\",x,\"row:\",row_order_aa[0][x].index(init_row_log))\n",
    "    except:\n",
    "        break\n"
   ]
  },
  {
   "cell_type": "code",
   "execution_count": null,
   "metadata": {},
   "outputs": [],
   "source": []
  },
  {
   "source": [
    "## Change of cell value for each state"
   ],
   "cell_type": "markdown",
   "metadata": {}
  },
  {
   "cell_type": "code",
   "execution_count": 72,
   "metadata": {},
   "outputs": [],
   "source": [
    "state = 58\n",
    "facts_file = \"airbnb_dirty-csv.openrefine-2.extract/facts_content_excluded.pl\"\n",
    "dname = \"airbnb_dirty-csv.openrefine-2\"\n",
    "\n",
    "col_schema = col_schema_at_state(facts_file,dname,state)\n",
    "row_order = row_order_at_state(facts_file,dname,state)"
   ]
  },
  {
   "cell_type": "code",
   "execution_count": 73,
   "metadata": {},
   "outputs": [
    {
     "output_type": "execute_result",
     "data": {
      "text/plain": [
       "([(0, '\"id\"'),\n",
       "  (1, '\"name\"'),\n",
       "  (2, '\"host_id\"'),\n",
       "  (3, '\"host_name\"'),\n",
       "  (4, '\"neighbourhood_group\"'),\n",
       "  (5, '\"neighbourhood\"'),\n",
       "  (6, '\"latitude\"'),\n",
       "  (7, '\"longitude\"'),\n",
       "  (8, '\"room_type\"'),\n",
       "  (9, '\"price\"'),\n",
       "  (10, '\"minimum_nights\"'),\n",
       "  (11, '\"number_of_reviews\"'),\n",
       "  (12, '\"last_review\"'),\n",
       "  (13, '\"reviews_per_month\"'),\n",
       "  (14, '\"calculated_host_listings_count\"'),\n",
       "  (15, '\"availability_365\"')],\n",
       " [7591, 7168, 7151, 7150, 7147, 6082, 7587, 6634, 7556, 6509])"
      ]
     },
     "metadata": {},
     "execution_count": 73
    }
   ],
   "source": [
    "col_schema,row_order[:10]"
   ]
  },
  {
   "cell_type": "code",
   "execution_count": 74,
   "metadata": {},
   "outputs": [
    {
     "output_type": "stream",
     "name": "stdout",
     "text": [
      "15 7585 15 101\n"
     ]
    },
    {
     "output_type": "execute_result",
     "data": {
      "text/plain": [
       "[(204810, 204810, -1, 204810, -1, 204810, '163', 204810, 15, 7585),\n",
       " (221509, 204810, 42, 221509, 204810, 221509, '163', 204810, 15, 7585)]"
      ]
     },
     "metadata": {},
     "execution_count": 74
    }
   ],
   "source": [
    "col_id = 15\n",
    "row_id = 7585\n",
    "\n",
    "col_log = col_schema[col_id][0]\n",
    "row_log = row_order[row_id]\n",
    "\n",
    "print(col_id,row_id,col_log,row_log)\n",
    "\n",
    "cts = list(cursor.execute(\"select * from content a,value b,cell c where a.value_id=b.value_id and c.col_id =? and c.row_id =? and c.cell_id=a.cell_id\",(col_log,row_id)))\n",
    "#cts = list(cursor.execute(\"SELECT * from content\"))\n",
    "cts"
   ]
  },
  {
   "source": [
    "## number of cell changes for each state"
   ],
   "cell_type": "markdown",
   "metadata": {}
  },
  {
   "cell_type": "code",
   "execution_count": 133,
   "metadata": {},
   "outputs": [
    {
     "output_type": "error",
     "ename": "SyntaxError",
     "evalue": "invalid syntax (<ipython-input-133-686b6876e5c6>, line 1)",
     "traceback": [
      "\u001b[0;36m  File \u001b[0;32m\"<ipython-input-133-686b6876e5c6>\"\u001b[0;36m, line \u001b[0;32m1\u001b[0m\n\u001b[0;31m    - which column has changes\u001b[0m\n\u001b[0m                 ^\u001b[0m\n\u001b[0;31mSyntaxError\u001b[0m\u001b[0;31m:\u001b[0m invalid syntax\n"
     ]
    }
   ],
   "source": [
    "- which column has changes \n",
    "- which cell has the most changes\n",
    "- which cell in the column that changed"
   ]
  },
  {
   "cell_type": "code",
   "execution_count": 131,
   "metadata": {},
   "outputs": [
    {
     "output_type": "execute_result",
     "data": {
      "text/plain": [
       "[(57, 'com.google.refine.model.changes.MassCellChange', 210),\n",
       " (56, 'com.google.refine.model.changes.MassCellChange', 6),\n",
       " (55, 'com.google.refine.model.changes.MassCellChange', 11),\n",
       " (50, 'com.google.refine.model.changes.MassCellChange', 7594),\n",
       " (49, 'com.google.refine.model.changes.MassCellChange', 7594),\n",
       " (48, 'com.google.refine.model.changes.MassCellChange', 7594),\n",
       " (47, 'com.google.refine.model.changes.MassCellChange', 7594),\n",
       " (46, 'com.google.refine.model.changes.MassCellChange', 7594),\n",
       " (45, 'com.google.refine.model.changes.MassCellChange', 7594),\n",
       " (44, 'com.google.refine.model.changes.MassCellChange', 6698),\n",
       " (43, 'com.google.refine.model.changes.MassCellChange', 7594),\n",
       " (42, 'com.google.refine.model.changes.MassCellChange', 7594),\n",
       " (40, 'com.google.refine.model.changes.MassCellChange', 898),\n",
       " (36, 'com.google.refine.model.changes.MassCellChange', 6),\n",
       " (35, 'com.google.refine.model.changes.MassCellChange', 10),\n",
       " (34, 'com.google.refine.model.changes.MassCellChange', 6),\n",
       " (33, 'com.google.refine.model.changes.MassCellChange', 12),\n",
       " (30, 'com.google.refine.model.changes.MassCellChange', 6699),\n",
       " (27, 'com.google.refine.model.changes.MassCellChange', 7593),\n",
       " (25, 'com.google.refine.model.changes.MassCellChange', 1196),\n",
       " (22, 'com.google.refine.model.changes.MassCellChange', 9),\n",
       " (20, 'com.google.refine.model.changes.MassCellChange', 36),\n",
       " (19, 'com.google.refine.model.changes.MassCellChange', 10),\n",
       " (8, 'com.google.refine.model.changes.CellChange', 1),\n",
       " (4, 'com.google.refine.model.changes.CellChange', 1),\n",
       " (1, 'com.google.refine.model.changes.RowRemovalChange', 48)]"
      ]
     },
     "metadata": {},
     "execution_count": 131
    }
   ],
   "source": [
    "cts = list(cursor.execute(\"SELECT b.state_id,b.command,count(1) from content a,state_command b  where a.state_id >= 0 and a.state_id=b.state_id group by b.state_id order by b.state_id desc\"))\n",
    "#cts = list(cursor.execute(\"SELECT * from content\"))\n",
    "cts"
   ]
  },
  {
   "source": [
    "## number of cell changes from state a to state b"
   ],
   "cell_type": "markdown",
   "metadata": {}
  },
  {
   "cell_type": "code",
   "execution_count": 134,
   "metadata": {},
   "outputs": [
    {
     "output_type": "execute_result",
     "data": {
      "text/plain": [
       "[(1301,)]"
      ]
     },
     "metadata": {},
     "execution_count": 134
    }
   ],
   "source": [
    "a = 1\n",
    "b = 25\n",
    "cts = list(cursor.execute(\"SELECT count(*) from content where state_id >= ? and state_id <= ?\",(int(a),int(b))))\n",
    "#cts = list(cursor.execute(\"SELECT * from content\"))\n",
    "cts"
   ]
  },
  {
   "source": [
    "## number of unique cell changes from state a to state b"
   ],
   "cell_type": "markdown",
   "metadata": {}
  },
  {
   "cell_type": "code",
   "execution_count": 135,
   "metadata": {},
   "outputs": [
    {
     "output_type": "execute_result",
     "data": {
      "text/plain": [
       "[(1262,)]"
      ]
     },
     "metadata": {},
     "execution_count": 135
    }
   ],
   "source": [
    "cts = list(cursor.execute(\"SELECT count(1) from (SELECT distinct cell_id from content where state_id >= ? and state_id <= ?)\",(int(a),int(b))))\n",
    "#cts = list(cursor.execute(\"SELECT * from content\"))\n",
    "cts"
   ]
  },
  {
   "source": [
    "## Number of columns involved in each state"
   ],
   "cell_type": "markdown",
   "metadata": {}
  },
  {
   "cell_type": "code",
   "execution_count": 140,
   "metadata": {},
   "outputs": [
    {
     "output_type": "execute_result",
     "data": {
      "text/plain": [
       "([(3,),\n",
       "  (5,),\n",
       "  (6,),\n",
       "  (9,),\n",
       "  (10,),\n",
       "  (16,),\n",
       "  (17,),\n",
       "  (18,),\n",
       "  (19,),\n",
       "  (20,),\n",
       "  (22,),\n",
       "  (23,),\n",
       "  (24,),\n",
       "  (25,)],\n",
       " 14)"
      ]
     },
     "metadata": {},
     "execution_count": 140
    }
   ],
   "source": [
    "cts = list(cursor.execute(\"\"\"\n",
    "    SELECT distinct a.input_column from (\n",
    "    SELECT input_column from col_dependency where state_id >= ? and state_id <= ? \n",
    "    union \n",
    "    SELECT output_column from col_dependency  where state_id >= ? and state_id <= ?\n",
    "    ) a\n",
    "    \"\"\",(int(a),int(b),int(a),int(b))))\n",
    "#cts = list(cursor.execute(\"SELECT * from content\"))\n",
    "cts,len(cts)"
   ]
  },
  {
   "cell_type": "code",
   "execution_count": null,
   "metadata": {},
   "outputs": [],
   "source": []
  },
  {
   "cell_type": "code",
   "execution_count": 90,
   "metadata": {},
   "outputs": [
    {
     "output_type": "stream",
     "name": "stdout",
     "text": [
      "(0, 0, 0, 0, '\"Changing Order\"', 0)\n(6, 6, 0, 2, '\"Exceeding Our Grasp\"', 0)\n(7, 7, 1, 2, '\"Stanford, P.K.\"', 0)\n(1, 1, 1, 0, '\"Collins, H.M.\"', 0)\n(4, 4, 1, 1, '\"Feyerabend, P\"', 0)\n(2, 2, 2, 0, '\" 1985\"', 0)\n(5, 5, 2, 1, '\" 1975\"', 0)\n(8, 8, 2, 2, '\" 2006\"', 0)\n(3, 3, 0, 1, '\"Against Method\"', 0)\n"
     ]
    }
   ],
   "source": [
    "state = 0\n",
    "answers = clyngor.solve([\"03_poster_demo.openrefine.extract/facts.pl\",\"rules/column_query.pl\"],inline=\"\"\"\n",
    "state(N) :- N={state}.\n",
    "\n",
    "content(-1,nul,nul,nul,nul).\n",
    "\n",
    "change_content_at_before_state(PrevContentId, StateId) :-\n",
    "    content(ContentId, _, NextColumnSchemaStateId, _, PrevContentId),\n",
    "    NextColumnSchemaStateId <= StateId,\n",
    "    state_num(StateId).\n",
    "\n",
    "change_content_at_state(ContentId, CellId, StateId) :-\n",
    "    content(ContentId, CellId, AssignmentStateId, _, _),\n",
    "    StateId >= AssignmentStateId,\n",
    "    not change_content_at_before_state(ContentId, StateId),\n",
    "    state_num(StateId).\n",
    "\n",
    "change_count_at_before_state(B) :- content(A,B,N,_,_),\n",
    "    state(N).\n",
    "\n",
    "change_count_at_state(B) :- content(A,B,N,_,_),\n",
    "    state(N).\n",
    "\n",
    "change_content_at_state_test(ContentId, CellId, ColNum, RowNum, Value, StateId) :-\n",
    "    change_content_at_state(ContentId, CellId, StateId),\n",
    "    value(ValueId,Value),\n",
    "    cell(CellId,ColNum,RowNum),\n",
    "    content(ContentId,_,_,ValueId,_),\n",
    "    state(StateId).\n",
    "\n",
    "#show change_content_at_state_test/6.\n",
    "\"\"\".format(state=state))\n",
    "\n",
    "col_graph = nx.DiGraph()\n",
    "for x in answers.by_predicate:\n",
    "    #print(x[\"all_column_name_at_state_test\"])\n",
    "    for y in x[\"change_content_at_state_test\"]:\n",
    "        print(y)\n",
    "        #col_graph.add_node(y[1],col_name=y[2],col_schema_id=y[4])\n",
    "        #col_graph.add_edge(y[3],y[1])\n",
    "#col_path = nx.dag_longest_path(col_graph)\n",
    "#col_name = nx.get_node_attributes(col_graph,\"col_name\")\n",
    "#for x in col_path[1:]:\n",
    "#    print(col_name[x])\n",
    "    "
   ]
  },
  {
   "cell_type": "code",
   "execution_count": 251,
   "metadata": {},
   "outputs": [
    {
     "output_type": "execute_result",
     "data": {
      "text/plain": [
       "{2: 3, 1: 4, 0: 5}"
      ]
     },
     "metadata": {},
     "execution_count": 251
    }
   ],
   "source": [
    "nx.get_node_attributes(col_graph,\"col_schema_id\")"
   ]
  },
  {
   "cell_type": "code",
   "execution_count": null,
   "metadata": {},
   "outputs": [],
   "source": []
  },
  {
   "cell_type": "code",
   "execution_count": 228,
   "metadata": {},
   "outputs": [
    {
     "output_type": "execute_result",
     "data": {
      "text/plain": [
       "[-1, 0, 1, 2]"
      ]
     },
     "metadata": {},
     "execution_count": 228
    }
   ],
   "source": []
  },
  {
   "cell_type": "code",
   "execution_count": null,
   "metadata": {},
   "outputs": [],
   "source": []
  }
 ]
}